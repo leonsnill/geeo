{
 "cells": [
  {
   "cell_type": "markdown",
   "metadata": {},
   "source": [
    "# Example 1"
   ]
  },
  {
   "cell_type": "code",
   "execution_count": 1,
   "metadata": {},
   "outputs": [],
   "source": [
    "import ee\n",
    "import eerepr\n",
    "ee.Initialize()\n",
    "from geeo import run_param, VisMap"
   ]
  },
  {
   "cell_type": "code",
   "execution_count": 2,
   "metadata": {},
   "outputs": [
    {
     "data": {
      "application/vnd.jupyter.widget-view+json": {
       "model_id": "63e861315ae5446d9c1bed97c3df6e45",
       "version_major": 2,
       "version_minor": 0
      },
      "text/plain": [
       "Map(center=[0.0, 0.0], controls=(ZoomControl(options=['position', 'zoom_in_text', 'zoom_in_title', 'zoom_out_t…"
      ]
     },
     "metadata": {},
     "output_type": "display_data"
    }
   ],
   "source": [
    "M = VisMap()\n",
    "M.show()"
   ]
  },
  {
   "cell_type": "code",
   "execution_count": 3,
   "metadata": {},
   "outputs": [],
   "source": [
    "# specify derised parameters (non specified parameters will be set to default values from blueprint)\n",
    "prm = {'SENSORS': ['L5', 'L7', 'L8', 'L9'], 'EXCLUDE_SLCOFF': False, 'ROI': [-60.365753, -18.324544, -59.876862, -18.002244],\n",
    "       'YEAR_MIN': 2023, 'YEAR_MAX': 2023, 'MONTH_MIN': 1, 'MONTH_MAX': 12, 'MAX_CLOUD': 100,\n",
    "       'FEATURES': ['BLU', 'GRN', 'RED', 'NIR', 'SW1', 'SW2', 'NDVI', 'NBR', 'TCG', 'TCB', 'TCW', 'NDWI', 'KNDVI'],\n",
    "       'MASKS_LANDSAT': ['cloud', 'cshadow', 'fill', 'dilated'], 'MASKS_LANDSAT_CONF': 'Medium',\n",
    "       'TSM': True,  \n",
    "       'TSI': None,\n",
    "       'FOLD_CUSTOM': {'month': ['1-4', '5-8', '9-12']}, 'FOLD_YEAR': False,\n",
    "       'STM': ['p10', 'p50', 'p90', 'stdDev'], 'STM_BASE_IMGCOL': 'TSS', 'STM_FOLDING': False, 'EXPORT_STM': False,\n",
    "       'PBC': 'NLCD', 'PBC_INVERT_QUALITY_METRIC': False}\n",
    "\n",
    "# run processing\n",
    "level3 = run_param(prm)\n",
    "\n",
    "# get imgcols\n",
    "tss = level3.get('TSS')  # Time-Series-Stack\n",
    "tsm = level3.get('TSM')  # Time-Series-Mosaic\n",
    "pbc = level3.get('PBC')  # Pixel-based Composites\n",
    "stm = level3.get('STM')  # Spectral-Temporal-Metrics\n",
    "cso = ee.Image(tsm.select('BLU').count())  # Clear-Sky-Observations based on original data (TSM)"
   ]
  },
  {
   "cell_type": "markdown",
   "metadata": {},
   "source": [
    "## STM"
   ]
  },
  {
   "cell_type": "code",
   "execution_count": null,
   "metadata": {},
   "outputs": [],
   "source": [
    "n_img = 1  # starts at 0\n",
    "bands = ['RED_p50', 'GRN_p50', 'BLU_p50']\n",
    "\n",
    "M = VisMap()\n",
    "for n_img in range(0, 3):\n",
    "    if isinstance(stm, ee.ImageCollection):\n",
    "        img = ee.Image(stm.select(bands).toList(stm.size()).get(n_img))\n",
    "    else:\n",
    "        img = ee.Image(stm.select(bands))\n",
    "    name = img.get('system:index').getInfo()\n",
    "    vis = {'min': 0.02, 'max': 0.18}\n",
    "    M.add(img, roi=level3.get('ROI'), vis_params=vis, name=name)\n",
    "M.show()"
   ]
  },
  {
   "cell_type": "markdown",
   "metadata": {},
   "source": [
    "## PBC"
   ]
  },
  {
   "cell_type": "code",
   "execution_count": null,
   "metadata": {},
   "outputs": [],
   "source": [
    "bands = ['RED', 'GRN', 'BLU']\n",
    "\n",
    "M = VisMap()\n",
    "for n_img in range(0, 3):\n",
    "    img = ee.Image(pbc.select(bands).toList(pbc.size()).get(n_img))\n",
    "    name = img.get('system:index').getInfo()\n",
    "    vis = {'min': 0.02, 'max': 0.18}\n",
    "    M.add(img, roi=level3.get('ROI'), vis_params=vis, name=name)\n",
    "M.show()"
   ]
  },
  {
   "cell_type": "markdown",
   "metadata": {},
   "source": [
    "## TSM"
   ]
  },
  {
   "cell_type": "code",
   "execution_count": 4,
   "metadata": {},
   "outputs": [
    {
     "data": {
      "application/vnd.jupyter.widget-view+json": {
       "model_id": "426006dbb1804200ae690bf817a49530",
       "version_major": 2,
       "version_minor": 0
      },
      "text/plain": [
       "Map(center=[0.0, 0.0], controls=(ZoomControl(options=['position', 'zoom_in_text', 'zoom_in_title', 'zoom_out_t…"
      ]
     },
     "metadata": {},
     "output_type": "display_data"
    }
   ],
   "source": [
    "bands = ['RED', 'GRN', 'BLU']\n",
    "\n",
    "M = VisMap()\n",
    "for n_img in range(0, 3):\n",
    "    img = tsm.select(bands).first()\n",
    "    name = 'TSM'\n",
    "    vis = {'min': 0.02, 'max': 0.18}\n",
    "    M.add(img, roi=level3.get('ROI'), vis_params=vis, name=name)\n",
    "M.show()"
   ]
  }
 ],
 "metadata": {
  "kernelspec": {
   "display_name": "geeo_dev",
   "language": "python",
   "name": "python3"
  },
  "language_info": {
   "codemirror_mode": {
    "name": "ipython",
    "version": 3
   },
   "file_extension": ".py",
   "mimetype": "text/x-python",
   "name": "python",
   "nbconvert_exporter": "python",
   "pygments_lexer": "ipython3",
   "version": "3.11.9"
  }
 },
 "nbformat": 4,
 "nbformat_minor": 2
}
