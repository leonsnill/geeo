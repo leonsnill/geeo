{
 "cells": [
  {
   "cell_type": "markdown",
   "id": "793036fe",
   "metadata": {},
   "source": [
    "# Habitat Type Mapping using Geographical and Ecological Earth Observation (geeo)\n",
    "\n",
    "[![Open in Colab](https://colab.research.google.com/assets/colab-badge.svg)](https://colab.research.google.com/github/leonsnill/geeo/blob/master/docs/habitat-type-mapping_geeo.ipynb)\n",
    "\n",
    "## Introduction\n",
    "Remote sensing plays an extraordinary important role in ecological and biogeographic research and monitoring such as in assessing biodiversity and habitat state and dynamics (Pereira et al. 2013). The spectral imagery recorded from Earth Observation (EO) satellites either directly measures or proxies a variety of biophysical properties that could otherwise not be measured as consistently across space and time. Medium spatial resolution imagery (~10-100m) as those provided by the Landsat and Sentinel-2 missions provide systematically collected, standardized and quality assessed (pred. radiometry and geometry) multispectral time series at unprecendent spatial and temporal coverage and density. As such, Landsat and Sentinel-2 allow for deriving a wide range of essential products needed for studying the Biosphere, including - for example - land cover (LC) and LC change, disturbance regimes (e.g. fire), and vegetation condition and phenology (Radeloff et al. 2024). Although global, standardized products are also becoming increasingly available at medium spatial resolution, there is equally great demand for regional products and research-tailored image analyses (Tulbure et al. 2022), particularily when attempting to bridge the gap between field-based ecological montoring and remote sensing.\n",
    "\n",
    "Tailoring the image processing to specific research questions requires to some extent specialized knowledge in image processing and earth observation methods. When data volumes become large because broad-scale and long- and dense time series are needed, it can create an additional barrier for non-experts in remote sensing. The earth observation community has developed established preprocessing and feature generation routines for these cases, yet their accessbility to applied ecologists and biogeographers could be improved. Simultanesously, access to a standardized workflow would generally enhance efficiency - including the acquainted remote sensing users - particularily for recurring (pre-)processing steps underpinning a variety of applied EO methods.\n",
    "\n",
    "**The goal of this notebook is to illustrate the capabilities of geeo in supporting geographical and ecological research that make use of medium resolution multispectral imagery along worked examples. Specifically, we will illustrate how geeo can support the processing and exporting of various data products that have been used in past research.**\n",
    "\n",
    "### Worked examples\n",
    "The study area for the worked examples is going to be a 150x150km region covering various ecosystem/biome types from temperate forests, to mediterranean shrublands, and alpine grasslands at the French-Italian border of the European Alps. We are attempting to generate remote sensing products to characterise different habitat types and assess vegetation state and dynamics. Specifically, we will cover:\n",
    "\n",
    "1) Retrieving habitat metrics/indices based on multi-temporal Landsat imagery\n",
    "2) Creating equidistant, gap-free spectral time-series for phenological analysis\n",
    "3) Land cover and habitat type classification workflow: Combining server-side with local analysis"
   ]
  },
  {
   "cell_type": "markdown",
   "id": "8dcff945",
   "metadata": {},
   "source": [
    "## Setup"
   ]
  },
  {
   "cell_type": "markdown",
   "id": "e51494a6",
   "metadata": {},
   "source": [
    "For this notebook we are assuming you went through the setup of geeo, i.e. installing the package and its requirements, ensuring access to Google Earth Engine, and can import the following:"
   ]
  },
  {
   "cell_type": "code",
   "execution_count": 1,
   "id": "be1497dd",
   "metadata": {},
   "outputs": [],
   "source": [
    "my_project_name = ''  # your cloud project name eligible for EE\n",
    "\n",
    "import ee\n",
    "ee.Authenticate()\n",
    "ee.Initialize(project=my_project_name)\n",
    "import eerepr\n",
    "eerepr.initialize()\n",
    "\n",
    "try:  # if geeo is already installed in environment\n",
    "    import geeo\n",
    "except:   # not installed, install it\n",
    "    !pip install --quiet git+https://github.com/leonsnill/geeo.git\n",
    "    import geeo"
   ]
  },
  {
   "cell_type": "markdown",
   "id": "42d3bfbf",
   "metadata": {},
   "source": [
    "For illustrational purposes we are going to visualize some of the results using webmaps. Geeo contains a very basic mapping functionality, however, more advanced tools for visualization exist such as [**geemap**](https://geemap.org/). We will use geemap for the visualizations and thus import it: "
   ]
  },
  {
   "cell_type": "code",
   "execution_count": 2,
   "id": "46f375eb",
   "metadata": {},
   "outputs": [],
   "source": [
    "import geemap"
   ]
  },
  {
   "cell_type": "markdown",
   "id": "9f62f45f",
   "metadata": {},
   "source": [
    "**A remark:** In the following sections we commented out some of the lines or changed the settings back to what is described in order to not trigger unintended exports and keep server requests to a minimum. We still show all results and preprocessed the required datasets, so you can simply follow along."
   ]
  },
  {
   "cell_type": "markdown",
   "id": "19e919d8",
   "metadata": {},
   "source": [
    "## Study Area\n",
    "\n",
    "Our study area is a 150x150km large area at the French-Italian border covering various ecosystem/biome types from temperate forests, to mediterranean shrublands, and alpine grasslands. We have prepared a .gkpg-file containing the boundaries of our study area and we can translate a local vector file to an ee.Geometry using a built-in helper-function in geeo named `create_roi()`:"
   ]
  },
  {
   "cell_type": "code",
   "execution_count": 3,
   "id": "1cc6604a",
   "metadata": {},
   "outputs": [
    {
     "data": {
      "text/html": [
       "\n",
       "            <style>\n",
       "                .geemap-dark {\n",
       "                    --jp-widgets-color: white;\n",
       "                    --jp-widgets-label-color: white;\n",
       "                    --jp-ui-font-color1: white;\n",
       "                    --jp-layout-color2: #454545;\n",
       "                    background-color: #383838;\n",
       "                }\n",
       "\n",
       "                .geemap-dark .jupyter-button {\n",
       "                    --jp-layout-color3: #383838;\n",
       "                }\n",
       "\n",
       "                .geemap-colab {\n",
       "                    background-color: var(--colab-primary-surface-color, white);\n",
       "                }\n",
       "\n",
       "                .geemap-colab .jupyter-button {\n",
       "                    --jp-layout-color3: var(--colab-primary-surface-color, white);\n",
       "                }\n",
       "            </style>\n",
       "            "
      ],
      "text/plain": [
       "<IPython.core.display.HTML object>"
      ]
     },
     "metadata": {},
     "output_type": "display_data"
    },
    {
     "data": {
      "text/plain": [
       "dict_keys(['roi_geom', 'roi_featcol', 'roi_bbox', 'roi_gdf'])"
      ]
     },
     "execution_count": 3,
     "metadata": {},
     "output_type": "execute_result"
    }
   ],
   "source": [
    "#study_area = '../geeo/data/GLANCE_EU_150-X029-Y029.gpkg'\n",
    "study_area = 'https://raw.githubusercontent.com/leonsnill/geeo/master/geeo/data/GLANCE_EU_150-X029-Y029.gpkg'\n",
    "roi = geeo.create_roi(study_area)  # returns a dictionary of various formats, including an ee.Geometry\n",
    "roi.keys()"
   ]
  },
  {
   "cell_type": "markdown",
   "id": "2f70346e",
   "metadata": {},
   "source": [
    "`create_roi()` returns a dictionary containing our study area vector in different formats: as ee.Geometry (roi_geom), ee.FeatureCollection (roi_featcol), an ee.Geomtry of the bounding coordinates (roi_bbox), and the GeoDataFrame (roi_gdf; can either be a bounding box or full geometry).\n",
    "\n",
    "We will use the ee.FeatureCollection and visualize the extent of our study area using geemap:"
   ]
  },
  {
   "cell_type": "code",
   "execution_count": 4,
   "id": "29ec7856",
   "metadata": {},
   "outputs": [
    {
     "data": {
      "text/html": [
       "\n",
       "            <style>\n",
       "                .geemap-dark {\n",
       "                    --jp-widgets-color: white;\n",
       "                    --jp-widgets-label-color: white;\n",
       "                    --jp-ui-font-color1: white;\n",
       "                    --jp-layout-color2: #454545;\n",
       "                    background-color: #383838;\n",
       "                }\n",
       "\n",
       "                .geemap-dark .jupyter-button {\n",
       "                    --jp-layout-color3: #383838;\n",
       "                }\n",
       "\n",
       "                .geemap-colab {\n",
       "                    background-color: var(--colab-primary-surface-color, white);\n",
       "                }\n",
       "\n",
       "                .geemap-colab .jupyter-button {\n",
       "                    --jp-layout-color3: var(--colab-primary-surface-color, white);\n",
       "                }\n",
       "            </style>\n",
       "            "
      ],
      "text/plain": [
       "<IPython.core.display.HTML object>"
      ]
     },
     "metadata": {},
     "output_type": "display_data"
    },
    {
     "data": {
      "text/html": [
       "<div><style>:root {\n",
       "  --font-color-primary: var(--jp-content-font-color0, rgba(0, 0, 0, 1));\n",
       "  --font-color-secondary: var(--jp-content-font-color2, rgba(0, 0, 0, 0.7));\n",
       "  --font-color-accent: rgba(123, 31, 162, 1);\n",
       "  --border-color: var(--jp-border-color2, #e0e0e0);\n",
       "  --background-color: var(--jp-layout-color0, white);\n",
       "  --background-color-row-even: var(--jp-layout-color1, white);\n",
       "  --background-color-row-odd: var(--jp-layout-color2, #eeeeee);\n",
       "}\n",
       "\n",
       "html[theme=\"dark\"],\n",
       "body[data-theme=\"dark\"],\n",
       "body.vscode-dark {\n",
       "  --font-color-primary: rgba(255, 255, 255, 1);\n",
       "  --font-color-secondary: rgba(255, 255, 255, 0.7);\n",
       "  --font-color-accent: rgb(173, 132, 190);\n",
       "  --border-color: #2e2e2e;\n",
       "  --background-color: #111111;\n",
       "  --background-color-row-even: #111111;\n",
       "  --background-color-row-odd: #313131;\n",
       "}\n",
       "\n",
       ".eerepr {\n",
       "  padding: 1em;\n",
       "  line-height: 1.5em;\n",
       "  min-width: 300px;\n",
       "  max-width: 1200px;\n",
       "  overflow-y: scroll;\n",
       "  max-height: 600px;\n",
       "  border: 1px solid var(--border-color);\n",
       "  font-family: monospace;\n",
       "  font-size: 14px;\n",
       "}\n",
       "\n",
       ".eerepr li {\n",
       "  list-style-type: none;\n",
       "  margin: 0;\n",
       "}\n",
       "\n",
       ".eerepr ul {\n",
       "  padding-left: 1.5em !important;\n",
       "  margin: 0;\n",
       "}\n",
       "\n",
       ".eerepr > ul {\n",
       "  padding-left: 0 !important;\n",
       "}\n",
       "\n",
       ".eerepr summary {\n",
       "  color: var(--font-color-secondary);\n",
       "  cursor: pointer;\n",
       "  margin: 0;\n",
       "}\n",
       "\n",
       ".eerepr summary:hover {\n",
       "  color: var(--font-color-primary);\n",
       "  background-color: var(--background-color-row-odd)\n",
       "}\n",
       "\n",
       ".ee-k {\n",
       "  color: var(--font-color-accent);\n",
       "  margin-right: 6px;\n",
       "}\n",
       "\n",
       ".ee-v {\n",
       "  color: var(--font-color-primary);\n",
       "}\n",
       "\n",
       ".eerepr details > summary::before {\n",
       "  content: '▼';\n",
       "  display: inline-block;\n",
       "  margin-right: 6px;\n",
       "  transition: transform 0.2s;\n",
       "  transform: rotate(-90deg);\n",
       "}\n",
       "\n",
       ".eerepr details[open] > summary::before {\n",
       "  transform: rotate(0deg);\n",
       "}\n",
       "\n",
       ".eerepr details summary::-webkit-details-marker {\n",
       "  display:none;\n",
       "}\n",
       "\n",
       ".eerepr details summary {\n",
       "  list-style-type: none;\n",
       "}\n",
       "</style><div class='eerepr'><ul><li><details><summary>FeatureCollection (1 element, 13 columns)</summary><ul><li><span class='ee-k'>type:</span><span class='ee-v'>FeatureCollection</span></li><li><details><summary>columns: Object (13 properties)</summary><ul><li><span class='ee-k'>ID1200:</span><span class='ee-v'>String</span></li><li><span class='ee-k'>ID150:</span><span class='ee-v'>String</span></li><li><span class='ee-k'>ID300:</span><span class='ee-v'>String</span></li><li><span class='ee-k'>ID600:</span><span class='ee-v'>String</span></li><li><span class='ee-k'>X1200:</span><span class='ee-v'>Integer</span></li><li><span class='ee-k'>X150:</span><span class='ee-v'>Integer</span></li><li><span class='ee-k'>X300:</span><span class='ee-v'>Integer</span></li><li><span class='ee-k'>X600:</span><span class='ee-v'>Integer</span></li><li><span class='ee-k'>Y1200:</span><span class='ee-v'>Integer</span></li><li><span class='ee-k'>Y150:</span><span class='ee-v'>Integer</span></li><li><span class='ee-k'>Y300:</span><span class='ee-v'>Integer</span></li><li><span class='ee-k'>Y600:</span><span class='ee-v'>Integer</span></li><li><span class='ee-k'>system:index:</span><span class='ee-v'>String</span></li></ul></details></li><li><details><summary>features: List (1 element)</summary><ul><li><details><summary>0: Feature (Polygon, 12 properties)</summary><ul><li><span class='ee-k'>type:</span><span class='ee-v'>Feature</span></li><li><span class='ee-k'>id:</span><span class='ee-v'>0</span></li><li><details><summary>geometry: Polygon (5 vertices)</summary><ul><li><span class='ee-k'>type:</span><span class='ee-v'>Polygon</span></li><li><details><summary>coordinates: List (1 element)</summary><ul><li><details><summary>0: List (5 elements)</summary><ul><li><details><summary>0: [5.659358486870091, 43.577481481309164]</summary><ul><li><span class='ee-k'>0:</span><span class='ee-v'>5.659358486870091</span></li><li><span class='ee-k'>1:</span><span class='ee-v'>43.577481481309164</span></li></ul></details></li><li><details><summary>1: [7.487636847422025, 43.8273677466075]</summary><ul><li><span class='ee-k'>0:</span><span class='ee-v'>7.487636847422025</span></li><li><span class='ee-k'>1:</span><span class='ee-v'>43.8273677466075</span></li></ul></details></li><li><details><summary>2: [7.181754838210469, 45.15985514183879]</summary><ul><li><span class='ee-k'>0:</span><span class='ee-v'>7.181754838210469</span></li><li><span class='ee-k'>1:</span><span class='ee-v'>45.15985514183879</span></li></ul></details></li><li><details><summary>3: [5.311625259618476, 44.903203755680785]</summary><ul><li><span class='ee-k'>0:</span><span class='ee-v'>5.311625259618476</span></li><li><span class='ee-k'>1:</span><span class='ee-v'>44.903203755680785</span></li></ul></details></li><li><details><summary>4: [5.659358486870091, 43.577481481309164]</summary><ul><li><span class='ee-k'>0:</span><span class='ee-v'>5.659358486870091</span></li><li><span class='ee-k'>1:</span><span class='ee-v'>43.577481481309164</span></li></ul></details></li></ul></details></li></ul></details></li></ul></details></li><li><details><summary>properties: Object (12 properties)</summary><ul><li><span class='ee-k'>ID1200:</span><span class='ee-v'>EU_1200-X003-Y003</span></li><li><span class='ee-k'>ID150:</span><span class='ee-v'>EU_150-X029-Y029</span></li><li><span class='ee-k'>ID300:</span><span class='ee-v'>EU_300-X014-Y014</span></li><li><span class='ee-k'>ID600:</span><span class='ee-v'>EU_600-X007-Y007</span></li><li><span class='ee-k'>X1200:</span><span class='ee-v'>3</span></li><li><span class='ee-k'>X150:</span><span class='ee-v'>29</span></li><li><span class='ee-k'>X300:</span><span class='ee-v'>14</span></li><li><span class='ee-k'>X600:</span><span class='ee-v'>7</span></li><li><span class='ee-k'>Y1200:</span><span class='ee-v'>3</span></li><li><span class='ee-k'>Y150:</span><span class='ee-v'>29</span></li><li><span class='ee-k'>Y300:</span><span class='ee-v'>14</span></li><li><span class='ee-k'>Y600:</span><span class='ee-v'>7</span></li></ul></details></li></ul></details></li></ul></details></li></ul></details></li></ul></div></div>"
      ],
      "text/plain": [
       "<ee.featurecollection.FeatureCollection at 0x2023c241ad0>"
      ]
     },
     "execution_count": 4,
     "metadata": {},
     "output_type": "execute_result"
    }
   ],
   "source": [
    "roi_featcol = roi['roi_featcol']  # extract the ee.FeatureCollection\n",
    "roi_featcol"
   ]
  },
  {
   "cell_type": "code",
   "execution_count": 5,
   "id": "8a5d5690",
   "metadata": {},
   "outputs": [
    {
     "data": {
      "text/html": [
       "\n",
       "            <style>\n",
       "                .geemap-dark {\n",
       "                    --jp-widgets-color: white;\n",
       "                    --jp-widgets-label-color: white;\n",
       "                    --jp-ui-font-color1: white;\n",
       "                    --jp-layout-color2: #454545;\n",
       "                    background-color: #383838;\n",
       "                }\n",
       "\n",
       "                .geemap-dark .jupyter-button {\n",
       "                    --jp-layout-color3: #383838;\n",
       "                }\n",
       "\n",
       "                .geemap-colab {\n",
       "                    background-color: var(--colab-primary-surface-color, white);\n",
       "                }\n",
       "\n",
       "                .geemap-colab .jupyter-button {\n",
       "                    --jp-layout-color3: var(--colab-primary-surface-color, white);\n",
       "                }\n",
       "            </style>\n",
       "            "
      ],
      "text/plain": [
       "<IPython.core.display.HTML object>"
      ]
     },
     "metadata": {},
     "output_type": "display_data"
    },
    {
     "data": {
      "application/vnd.jupyter.widget-view+json": {
       "model_id": "96baad5ed7d044a68ad5b268775a82c0",
       "version_major": 2,
       "version_minor": 0
      },
      "text/plain": [
       "Map(center=[44, 7], controls=(WidgetControl(options=['position', 'transparent_bg'], position='topright', trans…"
      ]
     },
     "execution_count": 5,
     "metadata": {},
     "output_type": "execute_result"
    }
   ],
   "source": [
    "M = geemap.Map(center=[44, 7], zoom=7)\n",
    "M.add_basemap('HYBRID')\n",
    "vis_params = {'color': 'red', 'width': 2, 'lineType': 'solid','fillColor': '00000000'}\n",
    "M.addLayer(roi_featcol.style(**vis_params), {}, 'Study Area')\n",
    "M"
   ]
  },
  {
   "cell_type": "markdown",
   "id": "9dcdcf0b",
   "metadata": {},
   "source": [
    "## Worked example 1: Retrieving habitat metrics based on multi-temporal Landsat imagery"
   ]
  },
  {
   "cell_type": "markdown",
   "id": "86688e22",
   "metadata": {},
   "source": [
    "Multispectral imagery is considered a usefull predictor of habitat conditions and dynamics, since vegetation productivity proxies (food) resources availability. \n",
    "As such, continuous spectral features derived from optical remote sensing, that in turn measure productivity (e.g. Normalized Difference Vegetation Index (NDVI)), are frequently used in to characterise habitat and serve as inputs for SDMs. Different relationships between ecological process and specral measure have been established to study biodiversity. Fairly popular are the Dynamic Habitat Indices (DHIs) (e.g. Radeloff et al. 2019; Razenkova et al. 2025) that measure vegetation productivity and seasonality from vegetation indices. Similarily, Oeser et al. (2019) characterize different aspects of wildlife habitat - including productivity, phenology, openness, moisture and snow cover - based on multitemporal multispectral Landsat data in order to map habitat suitability for lynx, red deer, and roe deer in the Bohemian forests of Germany and the Czech Republic.\n",
    "\n",
    "Despite various nomenclature and ecological semantics, these approaches essentially use what the remote sensing community refers to as 'multitemporal spectral metrics' or 'Spectral-Temporal-Metrics' (STMs). **STMs are a commonly applied form of dimensionality reduction in remote sensing, in which pixel-wise statistics across individual bands/features are calculated for a given set of imagery over time.** For example, one could estimate the average productivity within the growing season based on the NDVI by calculating the pixel-wise statistical average of all NDVI values observed within the defined time period. STMs are popular because they collapse potential high dimensional data (time series) into fewer metrics that if properly selected represent similar amount of information variance/conten, while also solving a ubiquitous problem of optical imagery: gaps in the imagery due to quality masking (e.g., clouds). As such, **STMs are fairly robust and spatially continuous features required for gap-free image analyses such as habitat or land cover mapping**.    \n",
    "\n",
    "**In this first example, we are going to translate the remote sensing methodology of deriving habitat metrics from Landsat to geeo** which could underpin similar research conducted in our study area. We will partly orientate the image processing workflow along the methodology by Oeser et al. (2019). In their paper, they combine different spectral features that proxy different aspects of land surface or habitat conditions with various intra-annual time windows that represent different phenological stages and thus seasonal ressource availability. In summary, they use all available Landsat imagery between 2011 and 2013 covering their study area and mask out all observations containing clouds, cloud shadows or snow using the the Pixel-Quality Assessment (QA) band. They calculate three main features from the multspectral bands of Landsat: the Tasseled Cap greenness (TCG), brightness (TCB) and wetness (TCW). TCG proxies photosynthetically active vegetation, TCB proxies the soil component and thus certain types of open habitat, and TCW proxies moisture, including soil and vegetation water content. Based on the TCG, TCB, and TCW time series, they derive a set of STMs (median, interquartile-range, etc.) for different seasonal windows (start-of-season DOY 60-151; peak-of-season DOY 152-243, etc.).\n",
    "\n",
    "**Defining the settings for the habitat metric calculation**\n",
    "- We want to capture average conditions of last three years: 2022-2024\n",
    "- We want to differentiate between spring (Mar-May), summer (Jun-Aug) and autumn (Sep-Nov), and winter (Dec-Feb) season\n",
    "- We will include all available Landsat-8 to Landsat-9 data with <75% cloud cover and mask all non-clear, invalid pixels except for snow\n",
    "- We will use the same spectral features as Oeser et al., i.e. TCG, TCB, and TCW (since they have the advantage of using the full multispectral spectrum recorded from Landsat)\n",
    "- We will calculate the following STMs for each season and feature combination: the median, 10% and 90% percentiles, and standard deviation\n",
    "\n",
    "Based on our defined criteria for deriving the metrics, we can now move on to how to translate these conditions into processing instructions for geeo. \n",
    "\n",
    "### Specifying the processing instructions\n",
    "Because it is easier for illustrational purposes within this notebook, we are going to specify the instructions directly here in a code chunk using a python dictionary instead of creating .yml parameter file.\n",
    "\n",
    "Here is the table of all parameters we should set in order to create a STM ee.ImageCollection based on Landsat that contains an ee.Image for each season for the desired feature + metric combination:"
   ]
  },
  {
   "cell_type": "markdown",
   "id": "003e049e",
   "metadata": {},
   "source": [
    "| Parameter                | Type    | Allowed Values / Format         | Description                                      |\n",
    "|--------------------------|---------|---------------------------------|--------------------------------------------------|\n",
    "| YEAR_MIN                 | int     | Any year                        | Start year (inclusive) when DATE_* not set. |\n",
    "| YEAR_MAX                 | int     | Any year                        | End year (inclusive); paired with MONTH/DOY filters when DATE_* absent. |\n",
    "| MONTH_MIN                | int     | 1-12                            | First month in seasonal window; can exceed MONTH_MAX to wrap (e.g. 11→2). |\n",
    "| MONTH_MAX                | int     | 1-12                            | Last month in window; wrapping applied when < MONTH_MIN. |\n",
    "| ROI                      | list / str / GeoDataFrame / ee object | Point [lon, lat]; BBox [xmin, ymin, xmax, ymax]; path to .shp/.gpkg; GeoDataFrame; ee.Geometry / ee.FeatureCollection | Area of Interest; complex polygons can slow filtering and may be bbox-simplified. |\n",
    "| | | | | \n",
    "| SENSORS                  | list    | L9, L8, L7, L5, L4, S2, HLS, HLSL30, HLSS30 | L9/L8/L7/L5/L4 -> LANDSAT Collection 2 Tier 1 Surface Reflectance product ([LANDSAT/LXXX/C02/T1_L2](https://developers.google.com/earth-engine/datasets/catalog/LANDSAT_LC09_C02_T1_L2)); S2 -> Sentinel-2 ([COPERNICUS/S2_SR_HARMONIZED](https://developers.google.com/earth-engine/datasets/catalog/COPERNICUS_S2_SR_HARMONIZED)). L9/L8/L7/L5/L4 + S2 can be merged, e.g. [L9, L8, S2]; HLS/HLSL30/HLSS30 -> Harmonized Landsat ([HLSL30](https://developers.google.com/earth-engine/datasets/catalog/NASA_HLS_HLSL30_v002)), Sentinel-2 ([HLSS30](https://developers.google.com/earth-engine/datasets/catalog/NASA_HLS_HLSS30_v002)) product, and combined (HLS) product. |\n",
    "| MAX_CLOUD                | int     | 0-100                           | Scene-level metadata cloud cover (%) filter before per-pixel masking. Band used for sensors: CLOUD_COVER_LAND (L9/L8/L7/L5/L4), CLOUDY_PIXEL_PERCENTAGE (S2), and CLOUD_COVERAGE (HLS/HLSL30/HLSS30). |\n",
    "| MASKS_LANDSAT            | list    | See description                 | Apply listed QA masks (cloud, cshadow, snow, fill, dilated, saturated); null disables. |\n",
    "| MASKS_LANDSAT_CONF       | str     | Medium, High                    | Confidence threshold for Landsat QA masking (Medium = more conservative; favours error of commission, i.e. cloud remnants less likely, but clear pixels may be falsely masked). |\n",
    "| | | | | \n",
    "| FEATURES                 | list    | See description                 | Bands / indices / custom formula outputs kept in pipeline; include DEM or unmixing outputs here for export. |\n",
    "| | | | | \n",
    "| FOLD_YEAR                | bool    | true, false                     | Partition time series into yearly subwindows. |\n",
    "| FOLD_MONTH               | bool    | true, false                     | Partition into monthly subwindows (Jan..Dec across years). |\n",
    "| FOLD_CUSTOM              | dict    | See description                 | Additional custom windows via ranges or target±offset lists (e.g. [2020-2021], [265+-30]). |\n",
    "| | | | | \n",
    "| STM                      | list    | min, p5, ..., max, mean, etc.   | Temporal reducers to apply (e.g. min, max, mean, stdDev, p5–p95); null skips. |\n",
    "| STM_BASE_IMGCOL          | str     | TSS, TSM, TSI, CIC              | Collection supplying time series for statistics. |\n",
    "| STM_FOLDING              | bool    | true, false                     | Compute metrics within each active fold (year/month/custom). |"
   ]
  },
  {
   "cell_type": "markdown",
   "id": "34475d5f",
   "metadata": {},
   "source": [
    "Note that we could set a few more settings specific to certain aspects of the processing. Just as an example, we could further change the masking behaviour by also requesting to perform an morphological erosion and dilation operation on the cloud mask to remove small false negative invalid pixels and buffer around edges of invalid pixels to decrease the likelihood of false negatives in our subsequent calculation. For this example, we keep it to the minimum, but still absolutely sufficient settings for achieving the desired outcome.\n",
    "\n",
    "To translate our settings for the habitat metric calculation to a geeo compatible dictionary looks then as follows (please be reminded that usually when tweaking many parameters, the efficient approach is to use a parameter file where only the values need to be adjusted and you do not have to write out all the keys and values as below): "
   ]
  },
  {
   "cell_type": "code",
   "execution_count": 6,
   "id": "ad1d010b",
   "metadata": {},
   "outputs": [
    {
     "data": {
      "text/html": [
       "\n",
       "            <style>\n",
       "                .geemap-dark {\n",
       "                    --jp-widgets-color: white;\n",
       "                    --jp-widgets-label-color: white;\n",
       "                    --jp-ui-font-color1: white;\n",
       "                    --jp-layout-color2: #454545;\n",
       "                    background-color: #383838;\n",
       "                }\n",
       "\n",
       "                .geemap-dark .jupyter-button {\n",
       "                    --jp-layout-color3: #383838;\n",
       "                }\n",
       "\n",
       "                .geemap-colab {\n",
       "                    background-color: var(--colab-primary-surface-color, white);\n",
       "                }\n",
       "\n",
       "                .geemap-colab .jupyter-button {\n",
       "                    --jp-layout-color3: var(--colab-primary-surface-color, white);\n",
       "                }\n",
       "            </style>\n",
       "            "
      ],
      "text/plain": [
       "<IPython.core.display.HTML object>"
      ]
     },
     "metadata": {},
     "output_type": "display_data"
    }
   ],
   "source": [
    "habitat_metric_settings = {\n",
    "    'YEAR_MIN': 2022,\n",
    "    'YEAR_MAX': 2024,\n",
    "    'MONTH_MIN': 1,                                 # we include all months at first, the seasonal subwindows are defined in the folding section\n",
    "    'MONTH_MAX': 12,\n",
    "    'ROI': study_area,                              # our study area, note we could also supply the path to our .gpkg here\n",
    "    'SENSORS': ['L8', 'L9'],                        # Landsat-8 and Landsat-9 Collection 2 Tier 1 surface reflectance data\n",
    "    'MAX_CLOUD': 75,                                # only include scenes with less or equal 75% cloud cover\n",
    "    'MASKS_LANDSAT': [                              # mask all pixels of this kind\n",
    "        'cloud', 'cshadow', \n",
    "        'fill', 'dilated'\n",
    "        ],  \n",
    "    'MASKS_LANDSAT_CONF': 'Medium',                 # lower certainty boundary, Medium masks more pixels to favour comission error over omission \n",
    "    'FEATURES': ['TCG', 'TCB', 'TCW'],              # Tasseled Cap greenness, brightness, and wetness\n",
    "    'FOLD_YEAR': False,                             # we do not wish to calculate metrics for each year separately\n",
    "    'FOLD_MONTH': False,                            # neither for each month\n",
    "    'FOLD_CUSTOM': {\n",
    "        'year': None,\n",
    "        'month': ['3-5', '6-8', '9-11', '12-2'],    # instead, we want a custom range of months\n",
    "        'doy': None, \n",
    "        'date': None\n",
    "        },  \n",
    "    'STM': ['p10', 'p50', 'p90', 'stdDev'],         # percentile 10, 50 (median), 90, and the standard deviation\n",
    "    'STM_BASE_IMGCOL': 'TSS',                       # collection on which to calculate the STMs; here we use the baseline Time-Series-Stack (TSS)\n",
    "    'STM_FOLDING': True,                             # actually apply the custom folding settings when calculating the STMs\n",
    "    'STM_FOLDING_LIST_ITER': False\n",
    "}"
   ]
  },
  {
   "cell_type": "markdown",
   "id": "04855d16",
   "metadata": {},
   "source": [
    "Once we have the settings in place, we can run the processing using `run_param()`. As described in the introduction tutorial, `run_param` is a wrapper function that executes the chain of `run_level2()` -> `run_level3()` -> `run_level4` -> `run_export()`, where each output of each module is fed into the subsequent one. Each module expects as input the dictionary, and also returns the dictionary + added variables (e.g. processed ee.ImageCollections):"
   ]
  },
  {
   "cell_type": "code",
   "execution_count": 7,
   "id": "12290a85",
   "metadata": {},
   "outputs": [
    {
     "data": {
      "text/html": [
       "\n",
       "            <style>\n",
       "                .geemap-dark {\n",
       "                    --jp-widgets-color: white;\n",
       "                    --jp-widgets-label-color: white;\n",
       "                    --jp-ui-font-color1: white;\n",
       "                    --jp-layout-color2: #454545;\n",
       "                    background-color: #383838;\n",
       "                }\n",
       "\n",
       "                .geemap-dark .jupyter-button {\n",
       "                    --jp-layout-color3: #383838;\n",
       "                }\n",
       "\n",
       "                .geemap-colab {\n",
       "                    background-color: var(--colab-primary-surface-color, white);\n",
       "                }\n",
       "\n",
       "                .geemap-colab .jupyter-button {\n",
       "                    --jp-layout-color3: var(--colab-primary-surface-color, white);\n",
       "                }\n",
       "            </style>\n",
       "            "
      ],
      "text/plain": [
       "<IPython.core.display.HTML object>"
      ]
     },
     "metadata": {},
     "output_type": "display_data"
    },
    {
     "data": {
      "text/plain": [
       "{'YEAR_MIN': 2022,\n",
       " 'YEAR_MAX': 2024,\n",
       " 'MONTH_MIN': 1,\n",
       " 'MONTH_MAX': 12,\n",
       " 'DOY_MIN': 1,\n",
       " 'DOY_MAX': 366,\n",
       " 'DATE_MIN': None,\n",
       " 'DATE_MAX': None,\n",
       " 'ROI': 'https://raw.githubusercontent.com/leonsnill/geeo/master/geeo/data/GLANCE_EU_150-X029-Y029.gpkg',\n",
       " 'ROI_SIMPLIFY_GEOM_TO_BBOX': True,\n",
       " 'ROI_TILES': False,\n",
       " 'ROI_TILES_ATTRIBUTE_COLUMN': None,\n",
       " 'ROI_TILES_ATTRIBUTE_LIST': None,\n",
       " 'SENSORS': ['L8', 'L9'],\n",
       " 'MAX_CLOUD': 75,\n",
       " 'EXCLUDE_SLCOFF': False,\n",
       " 'GCP_MIN_LANDSAT': 1,\n",
       " 'MASKS_LANDSAT': ['cloud', 'cshadow', 'fill', 'dilated'],\n",
       " 'MASKS_LANDSAT_CONF': 'Medium',\n",
       " 'MASKS_S2': 'CPLUS',\n",
       " 'MASKS_S2_CPLUS': 0.6,\n",
       " 'MASKS_S2_PROB': 30,\n",
       " 'MASKS_S2_NIR_THRESH_SHADOW': 0.2,\n",
       " 'MASKS_HLS': ['cloud', 'cshadow', 'snow'],\n",
       " 'ERODE_DILATE': False,\n",
       " 'ERODE_RADIUS': 60,\n",
       " 'DILATE_RADIUS': 120,\n",
       " 'ERODE_DILATE_SCALE': 60,\n",
       " 'BLUE_MAX_MASKING': None,\n",
       " 'FEATURES': ['TCG', 'TCB', 'TCW'],\n",
       " 'CUSTOM_FORMULAS': {'MY_FORMULA1': {'formula': '(G-SW1)/(G+SW1)',\n",
       "   'variable_map': {'G': 'GRN', 'SW1': 'SW1'}},\n",
       "  'MY_FORMULA2': {'formula': 'MY_FORMULA/2',\n",
       "   'variable_map': {'MY_FORMULA': 'MY_FORMULA1'}}},\n",
       " 'UMX': None,\n",
       " 'UMX_SUM_TO_ONE': True,\n",
       " 'UMX_NON_NEGATIVE': True,\n",
       " 'UMX_REMOVE_INPUT_FEATURES': True,\n",
       " 'CIC': None,\n",
       " 'CIC_FEATURES': None,\n",
       " 'TSM': False,\n",
       " 'TSM_BASE_IMGCOL': 'TSS',\n",
       " 'FOLD_YEAR': False,\n",
       " 'FOLD_MONTH': False,\n",
       " 'FOLD_CUSTOM': {'year': None,\n",
       "  'month': ['3-5', '6-8', '9-11', '12-2'],\n",
       "  'doy': None,\n",
       "  'date': None},\n",
       " 'NVO': False,\n",
       " 'NVO_FOLDING': False,\n",
       " 'TSI': None,\n",
       " 'TSI_BASE_IMGCOL': 'TSS',\n",
       " 'INTERVAL': 16,\n",
       " 'INTERVAL_UNIT': 'day',\n",
       " 'INIT_JANUARY_1ST': False,\n",
       " 'SIGMA1': 16,\n",
       " 'SIGMA2': 32,\n",
       " 'SIGMA3': 64,\n",
       " 'WIN1': 16,\n",
       " 'WIN2': 32,\n",
       " 'WIN3': 64,\n",
       " 'BW1': 4,\n",
       " 'BW2': 8,\n",
       " 'STM': <ee.imagecollection.ImageCollection at 0x140377310>,\n",
       " 'STM_BASE_IMGCOL': 'TSS',\n",
       " 'STM_FOLDING': True,\n",
       " 'STM_FOLDING_LIST_ITER': False,\n",
       " 'PBC': None,\n",
       " 'PBC_BASE_IMGCOL': 'TSS',\n",
       " 'PBC_FOLDING': False,\n",
       " 'PBC_INVERT_QUALITY_METRIC': False,\n",
       " 'PBC_BAP_DOY_EQ_YEAR': 30,\n",
       " 'PBC_BAP_MAX_CLOUDDISTANCE': 500,\n",
       " 'PBC_BAP_MIN_CLOUDDISTANCE': 0,\n",
       " 'PBC_BAP_WEIGHT_DOY': 0.6,\n",
       " 'PBC_BAP_WEIGHT_YEAR': 0.2,\n",
       " 'PBC_BAP_WEIGHT_CLOUD': 0.2,\n",
       " 'LSP': None,\n",
       " 'LSP_BASE_IMGCOL': 'TSI',\n",
       " 'LSP_BAND': 'NDVI',\n",
       " 'LSP_YEAR_MIN': None,\n",
       " 'LSP_YEAR_MAX': None,\n",
       " 'LSP_ADJUST_SEASONAL': False,\n",
       " 'LSP_ADJUST_SEASONAL_MAX_DAYS': 40,\n",
       " 'PIX_RES': 30,\n",
       " 'CRS': 'PROJCS[\"BU MEaSUREs Lambert Azimuthal Equal Area - EU - V01\",GEOGCS[\"WGS 84\",DATUM[\"WGS_1984\",SPHEROID[\"WGS 84\",6378137,298.257223563],AUTHORITY[\"EPSG\",\"6326\"]],PRIMEM[\"Greenwich\",0],UNIT[\"degree\",0.0174532925199433],AUTHORITY[\"EPSG\",\"4326\"]],PROJECTION[\"Lambert_Azimuthal_Equal_Area\"],PARAMETER[\"false_easting\",0],PARAMETER[\"false_northing\",0],PARAMETER[\"longitude_of_center\",20],PARAMETER[\"latitude_of_center\",55],UNIT[\"meter\",1],AXIS[\"Easting\",EAST],AXIS[\"Northing\",NORTH]]',\n",
       " 'CRS_TRANSFORM': [30, 0, -1155560.0, 0, -30, -1003755.0],\n",
       " 'IMG_DIMENSIONS': '5000x5000',\n",
       " 'RESAMPLING_METHOD': None,\n",
       " 'DATATYPE': 'int16',\n",
       " 'DATATYPE_SCALE': 10000,\n",
       " 'NODATA_VALUE': -9999,\n",
       " 'EXPORT_IMAGE': False,\n",
       " 'EXPORT_TABLE': False,\n",
       " 'EXPORT_TSS': False,\n",
       " 'EXPORT_CIC': False,\n",
       " 'EXPORT_TSM': False,\n",
       " 'EXPORT_NVO': False,\n",
       " 'EXPORT_TSI': False,\n",
       " 'EXPORT_STM': False,\n",
       " 'EXPORT_PBC': False,\n",
       " 'EXPORT_LSP': False,\n",
       " 'EXPORT_LOCATION': 'Drive',\n",
       " 'EXPORT_DIRECTORY': None,\n",
       " 'EXPORT_DESC': 'GEEO',\n",
       " 'EXPORT_DESC_DETAIL_TIME': False,\n",
       " 'EXPORT_BANDNAMES_AS_CSV': False,\n",
       " 'EXPORT_TABLE_FORMAT': 'CSV',\n",
       " 'EXPORT_TABLE_METHOD': 'reduceRegions',\n",
       " 'EXPORT_TABLE_TILE_SCALE': 1,\n",
       " 'EXPORT_TABLE_BUFFER': None,\n",
       " 'EXPORT_TABLE_REDUCER': 'first',\n",
       " 'EXPORT_TABLE_DROP_NODATA': False,\n",
       " 'EXPORT_PER_FEATURE': False,\n",
       " 'EXPORT_PER_TIME': False,\n",
       " 'ROI_GEOM': ee.Geometry({\n",
       "   \"functionInvocationValue\": {\n",
       "     \"functionName\": \"Geometry.bounds\",\n",
       "     \"arguments\": {\n",
       "       \"geometry\": {\n",
       "         \"functionInvocationValue\": {\n",
       "           \"functionName\": \"Collection.geometry\",\n",
       "           \"arguments\": {\n",
       "             \"collection\": {\n",
       "               \"functionInvocationValue\": {\n",
       "                 \"functionName\": \"Collection\",\n",
       "                 \"arguments\": {\n",
       "                   \"features\": {\n",
       "                     \"arrayValue\": {\n",
       "                       \"values\": [\n",
       "                         {\n",
       "                           \"functionInvocationValue\": {\n",
       "                             \"functionName\": \"Feature\",\n",
       "                             \"arguments\": {\n",
       "                               \"geometry\": {\n",
       "                                 \"functionInvocationValue\": {\n",
       "                                   \"functionName\": \"GeometryConstructors.Polygon\",\n",
       "                                   \"arguments\": {\n",
       "                                     \"coordinates\": {\n",
       "                                       \"constantValue\": [\n",
       "                                         [\n",
       "                                           [\n",
       "                                             5.6593584868701,\n",
       "                                             43.57748148130918\n",
       "                                           ],\n",
       "                                           [\n",
       "                                             5.3116252596184825,\n",
       "                                             44.9032037556808\n",
       "                                           ],\n",
       "                                           [\n",
       "                                             7.181754838210474,\n",
       "                                             45.159855141838804\n",
       "                                           ],\n",
       "                                           [\n",
       "                                             7.487636847422031,\n",
       "                                             43.827367746607514\n",
       "                                           ],\n",
       "                                           [\n",
       "                                             5.6593584868701,\n",
       "                                             43.57748148130918\n",
       "                                           ]\n",
       "                                         ]\n",
       "                                       ]\n",
       "                                     }\n",
       "                                   }\n",
       "                                 }\n",
       "                               },\n",
       "                               \"metadata\": {\n",
       "                                 \"constantValue\": {\n",
       "                                   \"ID1200\": \"EU_1200-X003-Y003\",\n",
       "                                   \"ID150\": \"EU_150-X029-Y029\",\n",
       "                                   \"ID300\": \"EU_300-X014-Y014\",\n",
       "                                   \"ID600\": \"EU_600-X007-Y007\",\n",
       "                                   \"X1200\": 3,\n",
       "                                   \"X150\": 29,\n",
       "                                   \"X300\": 14,\n",
       "                                   \"X600\": 7,\n",
       "                                   \"Y1200\": 3,\n",
       "                                   \"Y150\": 29,\n",
       "                                   \"Y300\": 14,\n",
       "                                   \"Y600\": 7,\n",
       "                                   \"system:index\": \"0\"\n",
       "                                 }\n",
       "                               }\n",
       "                             }\n",
       "                           }\n",
       "                         }\n",
       "                       ]\n",
       "                     }\n",
       "                   }\n",
       "                 }\n",
       "               }\n",
       "             }\n",
       "           }\n",
       "         }\n",
       "       }\n",
       "     }\n",
       "   }\n",
       " }),\n",
       " 'ROI_FEATCOL': <ee.featurecollection.FeatureCollection at 0x140369610>,\n",
       " 'ROI_BBOX': ee.Geometry({\n",
       "   \"functionInvocationValue\": {\n",
       "     \"functionName\": \"Geometry.bounds\",\n",
       "     \"arguments\": {\n",
       "       \"geometry\": {\n",
       "         \"functionInvocationValue\": {\n",
       "           \"functionName\": \"Collection.geometry\",\n",
       "           \"arguments\": {\n",
       "             \"collection\": {\n",
       "               \"functionInvocationValue\": {\n",
       "                 \"functionName\": \"Collection\",\n",
       "                 \"arguments\": {\n",
       "                   \"features\": {\n",
       "                     \"arrayValue\": {\n",
       "                       \"values\": [\n",
       "                         {\n",
       "                           \"functionInvocationValue\": {\n",
       "                             \"functionName\": \"Feature\",\n",
       "                             \"arguments\": {\n",
       "                               \"geometry\": {\n",
       "                                 \"functionInvocationValue\": {\n",
       "                                   \"functionName\": \"GeometryConstructors.Polygon\",\n",
       "                                   \"arguments\": {\n",
       "                                     \"coordinates\": {\n",
       "                                       \"constantValue\": [\n",
       "                                         [\n",
       "                                           [\n",
       "                                             5.6593584868701,\n",
       "                                             43.57748148130918\n",
       "                                           ],\n",
       "                                           [\n",
       "                                             5.3116252596184825,\n",
       "                                             44.9032037556808\n",
       "                                           ],\n",
       "                                           [\n",
       "                                             7.181754838210474,\n",
       "                                             45.159855141838804\n",
       "                                           ],\n",
       "                                           [\n",
       "                                             7.487636847422031,\n",
       "                                             43.827367746607514\n",
       "                                           ],\n",
       "                                           [\n",
       "                                             5.6593584868701,\n",
       "                                             43.57748148130918\n",
       "                                           ]\n",
       "                                         ]\n",
       "                                       ]\n",
       "                                     }\n",
       "                                   }\n",
       "                                 }\n",
       "                               },\n",
       "                               \"metadata\": {\n",
       "                                 \"constantValue\": {\n",
       "                                   \"ID1200\": \"EU_1200-X003-Y003\",\n",
       "                                   \"ID150\": \"EU_150-X029-Y029\",\n",
       "                                   \"ID300\": \"EU_300-X014-Y014\",\n",
       "                                   \"ID600\": \"EU_600-X007-Y007\",\n",
       "                                   \"X1200\": 3,\n",
       "                                   \"X150\": 29,\n",
       "                                   \"X300\": 14,\n",
       "                                   \"X600\": 7,\n",
       "                                   \"Y1200\": 3,\n",
       "                                   \"Y150\": 29,\n",
       "                                   \"Y300\": 14,\n",
       "                                   \"Y600\": 7,\n",
       "                                   \"system:index\": \"0\"\n",
       "                                 }\n",
       "                               }\n",
       "                             }\n",
       "                           }\n",
       "                         }\n",
       "                       ]\n",
       "                     }\n",
       "                   }\n",
       "                 }\n",
       "               }\n",
       "             }\n",
       "           }\n",
       "         }\n",
       "       }\n",
       "     }\n",
       "   }\n",
       " }),\n",
       " 'ROI_BBOX_GDF':                                             geometry\n",
       " 0  POLYGON ((-1005560 -1153755, -1005560 -1003755...,\n",
       " 'SATELLITE': 'LSAT',\n",
       " 'TSS': <ee.imagecollection.ImageCollection at 0x140369490>,\n",
       " 'TIME_DESC': '2022-2024',\n",
       " 'STM_reducer': ['p10', 'p50', 'p90', 'stdDev']}"
      ]
     },
     "execution_count": 7,
     "metadata": {},
     "output_type": "execute_result"
    }
   ],
   "source": [
    "run_prm = geeo.run_param(habitat_metric_settings)\n",
    "run_prm"
   ]
  },
  {
   "cell_type": "markdown",
   "id": "a434222d",
   "metadata": {},
   "source": [
    "The returned dictionary `run_prm` now contains an ee.ImageCollection at the STM key for which we previously defined the metrics to calculate:"
   ]
  },
  {
   "cell_type": "code",
   "execution_count": 8,
   "id": "9077cf07",
   "metadata": {},
   "outputs": [
    {
     "data": {
      "text/html": [
       "\n",
       "            <style>\n",
       "                .geemap-dark {\n",
       "                    --jp-widgets-color: white;\n",
       "                    --jp-widgets-label-color: white;\n",
       "                    --jp-ui-font-color1: white;\n",
       "                    --jp-layout-color2: #454545;\n",
       "                    background-color: #383838;\n",
       "                }\n",
       "\n",
       "                .geemap-dark .jupyter-button {\n",
       "                    --jp-layout-color3: #383838;\n",
       "                }\n",
       "\n",
       "                .geemap-colab {\n",
       "                    background-color: var(--colab-primary-surface-color, white);\n",
       "                }\n",
       "\n",
       "                .geemap-colab .jupyter-button {\n",
       "                    --jp-layout-color3: var(--colab-primary-surface-color, white);\n",
       "                }\n",
       "            </style>\n",
       "            "
      ],
      "text/plain": [
       "<IPython.core.display.HTML object>"
      ]
     },
     "metadata": {},
     "output_type": "display_data"
    }
   ],
   "source": [
    "STM = run_prm['STM']  # the calculated metrics are stored in an ee.ImageCollection at the STM key\n",
    "#STM"
   ]
  },
  {
   "cell_type": "markdown",
   "id": "3be9e17f",
   "metadata": {},
   "source": [
    "When we inspect the STM object, we see it contains four images with twelve bands each. These are our four specified subwindows matching our defined northern hemispheric seasons for our study area. In essence this is all that is needed to get the desired image results. We could now also have requested the export to Drive/Asset in the parameter settings, but here we are going to assess the result in the interactive python session.\n",
    "\n",
    "Let's get the bandnames as well as the `system:index` property which contains the temporal information of the image in an easily readable format:"
   ]
  },
  {
   "cell_type": "code",
   "execution_count": 9,
   "id": "4cb80b67",
   "metadata": {},
   "outputs": [
    {
     "data": {
      "text/html": [
       "\n",
       "            <style>\n",
       "                .geemap-dark {\n",
       "                    --jp-widgets-color: white;\n",
       "                    --jp-widgets-label-color: white;\n",
       "                    --jp-ui-font-color1: white;\n",
       "                    --jp-layout-color2: #454545;\n",
       "                    background-color: #383838;\n",
       "                }\n",
       "\n",
       "                .geemap-dark .jupyter-button {\n",
       "                    --jp-layout-color3: #383838;\n",
       "                }\n",
       "\n",
       "                .geemap-colab {\n",
       "                    background-color: var(--colab-primary-surface-color, white);\n",
       "                }\n",
       "\n",
       "                .geemap-colab .jupyter-button {\n",
       "                    --jp-layout-color3: var(--colab-primary-surface-color, white);\n",
       "                }\n",
       "            </style>\n",
       "            "
      ],
      "text/plain": [
       "<IPython.core.display.HTML object>"
      ]
     },
     "metadata": {},
     "output_type": "display_data"
    }
   ],
   "source": [
    "# print the bandnames of the first image\n",
    "#print(STM.first().bandNames().getInfo())\n",
    "#print(STM.aggregate_array('system:index').getInfo())"
   ]
  },
  {
   "cell_type": "code",
   "execution_count": 10,
   "id": "81c84e14",
   "metadata": {},
   "outputs": [
    {
     "data": {
      "text/html": [
       "\n",
       "            <style>\n",
       "                .geemap-dark {\n",
       "                    --jp-widgets-color: white;\n",
       "                    --jp-widgets-label-color: white;\n",
       "                    --jp-ui-font-color1: white;\n",
       "                    --jp-layout-color2: #454545;\n",
       "                    background-color: #383838;\n",
       "                }\n",
       "\n",
       "                .geemap-dark .jupyter-button {\n",
       "                    --jp-layout-color3: #383838;\n",
       "                }\n",
       "\n",
       "                .geemap-colab {\n",
       "                    background-color: var(--colab-primary-surface-color, white);\n",
       "                }\n",
       "\n",
       "                .geemap-colab .jupyter-button {\n",
       "                    --jp-layout-color3: var(--colab-primary-surface-color, white);\n",
       "                }\n",
       "            </style>\n",
       "            "
      ],
      "text/plain": [
       "<IPython.core.display.HTML object>"
      ]
     },
     "metadata": {},
     "output_type": "display_data"
    },
    {
     "data": {
      "text/plain": [
       "{'YEAR_MIN': 2022,\n",
       " 'YEAR_MAX': 2024,\n",
       " 'MONTH_MIN': 1,\n",
       " 'MONTH_MAX': 12,\n",
       " 'DOY_MIN': 1,\n",
       " 'DOY_MAX': 366,\n",
       " 'DATE_MIN': None,\n",
       " 'DATE_MAX': None,\n",
       " 'ROI': 'https://raw.githubusercontent.com/leonsnill/geeo/master/geeo/data/GLANCE_EU_150-X029-Y029.gpkg',\n",
       " 'ROI_SIMPLIFY_GEOM_TO_BBOX': True,\n",
       " 'ROI_TILES': False,\n",
       " 'ROI_TILES_ATTRIBUTE_COLUMN': None,\n",
       " 'ROI_TILES_ATTRIBUTE_LIST': None,\n",
       " 'SENSORS': ['L8', 'L9'],\n",
       " 'MAX_CLOUD': 75,\n",
       " 'EXCLUDE_SLCOFF': False,\n",
       " 'GCP_MIN_LANDSAT': 1,\n",
       " 'MASKS_LANDSAT': ['cloud', 'cshadow', 'fill', 'dilated'],\n",
       " 'MASKS_LANDSAT_CONF': 'Medium',\n",
       " 'MASKS_S2': 'CPLUS',\n",
       " 'MASKS_S2_CPLUS': 0.6,\n",
       " 'MASKS_S2_PROB': 30,\n",
       " 'MASKS_S2_NIR_THRESH_SHADOW': 0.2,\n",
       " 'MASKS_HLS': ['cloud', 'cshadow', 'snow'],\n",
       " 'ERODE_DILATE': False,\n",
       " 'ERODE_RADIUS': 60,\n",
       " 'DILATE_RADIUS': 120,\n",
       " 'ERODE_DILATE_SCALE': 60,\n",
       " 'BLUE_MAX_MASKING': None,\n",
       " 'FEATURES': ['TCG', 'TCB', 'TCW'],\n",
       " 'CUSTOM_FORMULAS': {'MY_FORMULA1': {'formula': '(G-SW1)/(G+SW1)',\n",
       "   'variable_map': {'G': 'GRN', 'SW1': 'SW1'}},\n",
       "  'MY_FORMULA2': {'formula': 'MY_FORMULA/2',\n",
       "   'variable_map': {'MY_FORMULA': 'MY_FORMULA1'}}},\n",
       " 'UMX': None,\n",
       " 'UMX_SUM_TO_ONE': True,\n",
       " 'UMX_NON_NEGATIVE': True,\n",
       " 'UMX_REMOVE_INPUT_FEATURES': True,\n",
       " 'CIC': None,\n",
       " 'CIC_FEATURES': None,\n",
       " 'TSM': False,\n",
       " 'TSM_BASE_IMGCOL': 'TSS',\n",
       " 'FOLD_YEAR': False,\n",
       " 'FOLD_MONTH': False,\n",
       " 'FOLD_CUSTOM': {'year': None,\n",
       "  'month': ['3-5', '6-8', '9-11', '12-2'],\n",
       "  'doy': None,\n",
       "  'date': None},\n",
       " 'NVO': False,\n",
       " 'NVO_FOLDING': False,\n",
       " 'TSI': None,\n",
       " 'TSI_BASE_IMGCOL': 'TSS',\n",
       " 'INTERVAL': 16,\n",
       " 'INTERVAL_UNIT': 'day',\n",
       " 'INIT_JANUARY_1ST': False,\n",
       " 'SIGMA1': 16,\n",
       " 'SIGMA2': 32,\n",
       " 'SIGMA3': 64,\n",
       " 'WIN1': 16,\n",
       " 'WIN2': 32,\n",
       " 'WIN3': 64,\n",
       " 'BW1': 4,\n",
       " 'BW2': 8,\n",
       " 'STM': <ee.imagecollection.ImageCollection at 0x140377310>,\n",
       " 'STM_BASE_IMGCOL': 'TSS',\n",
       " 'STM_FOLDING': True,\n",
       " 'STM_FOLDING_LIST_ITER': False,\n",
       " 'PBC': None,\n",
       " 'PBC_BASE_IMGCOL': 'TSS',\n",
       " 'PBC_FOLDING': False,\n",
       " 'PBC_INVERT_QUALITY_METRIC': False,\n",
       " 'PBC_BAP_DOY_EQ_YEAR': 30,\n",
       " 'PBC_BAP_MAX_CLOUDDISTANCE': 500,\n",
       " 'PBC_BAP_MIN_CLOUDDISTANCE': 0,\n",
       " 'PBC_BAP_WEIGHT_DOY': 0.6,\n",
       " 'PBC_BAP_WEIGHT_YEAR': 0.2,\n",
       " 'PBC_BAP_WEIGHT_CLOUD': 0.2,\n",
       " 'LSP': None,\n",
       " 'LSP_BASE_IMGCOL': 'TSI',\n",
       " 'LSP_BAND': 'NDVI',\n",
       " 'LSP_YEAR_MIN': None,\n",
       " 'LSP_YEAR_MAX': None,\n",
       " 'LSP_ADJUST_SEASONAL': False,\n",
       " 'LSP_ADJUST_SEASONAL_MAX_DAYS': 40,\n",
       " 'PIX_RES': 30,\n",
       " 'CRS': 'PROJCS[\"BU MEaSUREs Lambert Azimuthal Equal Area - EU - V01\",GEOGCS[\"WGS 84\",DATUM[\"WGS_1984\",SPHEROID[\"WGS 84\",6378137,298.257223563],AUTHORITY[\"EPSG\",\"6326\"]],PRIMEM[\"Greenwich\",0],UNIT[\"degree\",0.0174532925199433],AUTHORITY[\"EPSG\",\"4326\"]],PROJECTION[\"Lambert_Azimuthal_Equal_Area\"],PARAMETER[\"false_easting\",0],PARAMETER[\"false_northing\",0],PARAMETER[\"longitude_of_center\",20],PARAMETER[\"latitude_of_center\",55],UNIT[\"meter\",1],AXIS[\"Easting\",EAST],AXIS[\"Northing\",NORTH]]',\n",
       " 'CRS_TRANSFORM': [30, 0, -1155560.0, 0, -30, -1003755.0],\n",
       " 'IMG_DIMENSIONS': '5000x5000',\n",
       " 'RESAMPLING_METHOD': None,\n",
       " 'DATATYPE': 'int16',\n",
       " 'DATATYPE_SCALE': 10000,\n",
       " 'NODATA_VALUE': -9999,\n",
       " 'EXPORT_IMAGE': False,\n",
       " 'EXPORT_TABLE': False,\n",
       " 'EXPORT_TSS': False,\n",
       " 'EXPORT_CIC': False,\n",
       " 'EXPORT_TSM': False,\n",
       " 'EXPORT_NVO': False,\n",
       " 'EXPORT_TSI': False,\n",
       " 'EXPORT_STM': False,\n",
       " 'EXPORT_PBC': False,\n",
       " 'EXPORT_LSP': False,\n",
       " 'EXPORT_LOCATION': 'Drive',\n",
       " 'EXPORT_DIRECTORY': None,\n",
       " 'EXPORT_DESC': 'GEEO',\n",
       " 'EXPORT_DESC_DETAIL_TIME': False,\n",
       " 'EXPORT_BANDNAMES_AS_CSV': False,\n",
       " 'EXPORT_TABLE_FORMAT': 'CSV',\n",
       " 'EXPORT_TABLE_METHOD': 'reduceRegions',\n",
       " 'EXPORT_TABLE_TILE_SCALE': 1,\n",
       " 'EXPORT_TABLE_BUFFER': None,\n",
       " 'EXPORT_TABLE_REDUCER': 'first',\n",
       " 'EXPORT_TABLE_DROP_NODATA': False,\n",
       " 'EXPORT_PER_FEATURE': False,\n",
       " 'EXPORT_PER_TIME': False,\n",
       " 'ROI_GEOM': ee.Geometry({\n",
       "   \"functionInvocationValue\": {\n",
       "     \"functionName\": \"Geometry.bounds\",\n",
       "     \"arguments\": {\n",
       "       \"geometry\": {\n",
       "         \"functionInvocationValue\": {\n",
       "           \"functionName\": \"Collection.geometry\",\n",
       "           \"arguments\": {\n",
       "             \"collection\": {\n",
       "               \"functionInvocationValue\": {\n",
       "                 \"functionName\": \"Collection\",\n",
       "                 \"arguments\": {\n",
       "                   \"features\": {\n",
       "                     \"arrayValue\": {\n",
       "                       \"values\": [\n",
       "                         {\n",
       "                           \"functionInvocationValue\": {\n",
       "                             \"functionName\": \"Feature\",\n",
       "                             \"arguments\": {\n",
       "                               \"geometry\": {\n",
       "                                 \"functionInvocationValue\": {\n",
       "                                   \"functionName\": \"GeometryConstructors.Polygon\",\n",
       "                                   \"arguments\": {\n",
       "                                     \"coordinates\": {\n",
       "                                       \"constantValue\": [\n",
       "                                         [\n",
       "                                           [\n",
       "                                             5.6593584868701,\n",
       "                                             43.57748148130918\n",
       "                                           ],\n",
       "                                           [\n",
       "                                             5.3116252596184825,\n",
       "                                             44.9032037556808\n",
       "                                           ],\n",
       "                                           [\n",
       "                                             7.181754838210474,\n",
       "                                             45.159855141838804\n",
       "                                           ],\n",
       "                                           [\n",
       "                                             7.487636847422031,\n",
       "                                             43.827367746607514\n",
       "                                           ],\n",
       "                                           [\n",
       "                                             5.6593584868701,\n",
       "                                             43.57748148130918\n",
       "                                           ]\n",
       "                                         ]\n",
       "                                       ]\n",
       "                                     }\n",
       "                                   }\n",
       "                                 }\n",
       "                               },\n",
       "                               \"metadata\": {\n",
       "                                 \"constantValue\": {\n",
       "                                   \"ID1200\": \"EU_1200-X003-Y003\",\n",
       "                                   \"ID150\": \"EU_150-X029-Y029\",\n",
       "                                   \"ID300\": \"EU_300-X014-Y014\",\n",
       "                                   \"ID600\": \"EU_600-X007-Y007\",\n",
       "                                   \"X1200\": 3,\n",
       "                                   \"X150\": 29,\n",
       "                                   \"X300\": 14,\n",
       "                                   \"X600\": 7,\n",
       "                                   \"Y1200\": 3,\n",
       "                                   \"Y150\": 29,\n",
       "                                   \"Y300\": 14,\n",
       "                                   \"Y600\": 7,\n",
       "                                   \"system:index\": \"0\"\n",
       "                                 }\n",
       "                               }\n",
       "                             }\n",
       "                           }\n",
       "                         }\n",
       "                       ]\n",
       "                     }\n",
       "                   }\n",
       "                 }\n",
       "               }\n",
       "             }\n",
       "           }\n",
       "         }\n",
       "       }\n",
       "     }\n",
       "   }\n",
       " }),\n",
       " 'ROI_FEATCOL': <ee.featurecollection.FeatureCollection at 0x140369610>,\n",
       " 'ROI_BBOX': ee.Geometry({\n",
       "   \"functionInvocationValue\": {\n",
       "     \"functionName\": \"Geometry.bounds\",\n",
       "     \"arguments\": {\n",
       "       \"geometry\": {\n",
       "         \"functionInvocationValue\": {\n",
       "           \"functionName\": \"Collection.geometry\",\n",
       "           \"arguments\": {\n",
       "             \"collection\": {\n",
       "               \"functionInvocationValue\": {\n",
       "                 \"functionName\": \"Collection\",\n",
       "                 \"arguments\": {\n",
       "                   \"features\": {\n",
       "                     \"arrayValue\": {\n",
       "                       \"values\": [\n",
       "                         {\n",
       "                           \"functionInvocationValue\": {\n",
       "                             \"functionName\": \"Feature\",\n",
       "                             \"arguments\": {\n",
       "                               \"geometry\": {\n",
       "                                 \"functionInvocationValue\": {\n",
       "                                   \"functionName\": \"GeometryConstructors.Polygon\",\n",
       "                                   \"arguments\": {\n",
       "                                     \"coordinates\": {\n",
       "                                       \"constantValue\": [\n",
       "                                         [\n",
       "                                           [\n",
       "                                             5.6593584868701,\n",
       "                                             43.57748148130918\n",
       "                                           ],\n",
       "                                           [\n",
       "                                             5.3116252596184825,\n",
       "                                             44.9032037556808\n",
       "                                           ],\n",
       "                                           [\n",
       "                                             7.181754838210474,\n",
       "                                             45.159855141838804\n",
       "                                           ],\n",
       "                                           [\n",
       "                                             7.487636847422031,\n",
       "                                             43.827367746607514\n",
       "                                           ],\n",
       "                                           [\n",
       "                                             5.6593584868701,\n",
       "                                             43.57748148130918\n",
       "                                           ]\n",
       "                                         ]\n",
       "                                       ]\n",
       "                                     }\n",
       "                                   }\n",
       "                                 }\n",
       "                               },\n",
       "                               \"metadata\": {\n",
       "                                 \"constantValue\": {\n",
       "                                   \"ID1200\": \"EU_1200-X003-Y003\",\n",
       "                                   \"ID150\": \"EU_150-X029-Y029\",\n",
       "                                   \"ID300\": \"EU_300-X014-Y014\",\n",
       "                                   \"ID600\": \"EU_600-X007-Y007\",\n",
       "                                   \"X1200\": 3,\n",
       "                                   \"X150\": 29,\n",
       "                                   \"X300\": 14,\n",
       "                                   \"X600\": 7,\n",
       "                                   \"Y1200\": 3,\n",
       "                                   \"Y150\": 29,\n",
       "                                   \"Y300\": 14,\n",
       "                                   \"Y600\": 7,\n",
       "                                   \"system:index\": \"0\"\n",
       "                                 }\n",
       "                               }\n",
       "                             }\n",
       "                           }\n",
       "                         }\n",
       "                       ]\n",
       "                     }\n",
       "                   }\n",
       "                 }\n",
       "               }\n",
       "             }\n",
       "           }\n",
       "         }\n",
       "       }\n",
       "     }\n",
       "   }\n",
       " }),\n",
       " 'ROI_BBOX_GDF':                                             geometry\n",
       " 0  POLYGON ((-1005560 -1153755, -1005560 -1003755...,\n",
       " 'SATELLITE': 'LSAT',\n",
       " 'TSS': <ee.imagecollection.ImageCollection at 0x140369490>,\n",
       " 'TIME_DESC': '2022-2024',\n",
       " 'STM_reducer': ['p10', 'p50', 'p90', 'stdDev']}"
      ]
     },
     "execution_count": 10,
     "metadata": {},
     "output_type": "execute_result"
    }
   ],
   "source": [
    "run_prm"
   ]
  },
  {
   "cell_type": "markdown",
   "id": "90c8d92c",
   "metadata": {},
   "source": [
    "Both is just to illustrate the way the data is organized. Usually, this is nothing the user must care about, but mostly serves internal routines, for example, that outputs are named properly etc.\n",
    "\n",
    "Let us now visualize some of the results:"
   ]
  },
  {
   "cell_type": "code",
   "execution_count": 11,
   "id": "6bd6aeb7",
   "metadata": {},
   "outputs": [
    {
     "data": {
      "text/html": [
       "\n",
       "            <style>\n",
       "                .geemap-dark {\n",
       "                    --jp-widgets-color: white;\n",
       "                    --jp-widgets-label-color: white;\n",
       "                    --jp-ui-font-color1: white;\n",
       "                    --jp-layout-color2: #454545;\n",
       "                    background-color: #383838;\n",
       "                }\n",
       "\n",
       "                .geemap-dark .jupyter-button {\n",
       "                    --jp-layout-color3: #383838;\n",
       "                }\n",
       "\n",
       "                .geemap-colab {\n",
       "                    background-color: var(--colab-primary-surface-color, white);\n",
       "                }\n",
       "\n",
       "                .geemap-colab .jupyter-button {\n",
       "                    --jp-layout-color3: var(--colab-primary-surface-color, white);\n",
       "                }\n",
       "            </style>\n",
       "            "
      ],
      "text/plain": [
       "<IPython.core.display.HTML object>"
      ]
     },
     "metadata": {},
     "output_type": "display_data"
    },
    {
     "data": {
      "application/vnd.jupyter.widget-view+json": {
       "model_id": "443bc2d0fabe44edb6e716ff3612f33f",
       "version_major": 2,
       "version_minor": 0
      },
      "text/plain": [
       "Map(center=[44, 7], controls=(WidgetControl(options=['position', 'transparent_bg'], position='topright', trans…"
      ]
     },
     "execution_count": 11,
     "metadata": {},
     "output_type": "execute_result"
    }
   ],
   "source": [
    "img_spring = STM.first()  # first image in the collection, which is spring here\n",
    "\n",
    "M = geemap.Map(center=[44, 7], zoom=7)\n",
    "M.add_basemap('HYBRID')\n",
    "M.addLayer(img_spring, {'bands': ['TCB_p50', 'TCG_p50', 'TCW_p50'], 'min': [0.1, 0, -0.2], 'max': [0.6, 0.3, 0]}, 'Spring median STM')\n",
    "M.addLayer(roi_featcol.style(**vis_params), {}, 'Study Area')\n",
    "M"
   ]
  },
  {
   "cell_type": "markdown",
   "id": "d082b5dc",
   "metadata": {},
   "source": [
    "## Exporting the image data\n",
    "Often we would like to export data to Drive or as an Asset. If we are requesting an export from Earth Engine (via geeo), we either directly or indirectly specify metadata associated with the export. For example, an image export requires a Coordinate Reference System (CRS), spatial extent (defined by ROI), and pixel resolution (called 'scale' in GEE) to be set. In plain GEE, the user must at least specify the region and scale (pixel resolution) for the export to work, but this means all other metadata and precise CRS information are inferred. It is generally good practise to be explicit about the metadata and the CRS. \n",
    "\n",
    "geeo encourages being explicit and allows full control on specific metadata, for example, the CRS transform and image dimensions (https://developers.google.com/earth-engine/guides/exporting_images). At the same time, geeo can handle precisely aligning CRS grids etc. for the user. That means, by default it will align the output extent (precisely) to the input ROI. Read more on tiling schemes and CRS here.\n",
    "\n",
    "In our example, we use a 150x150km tile that defines our study area. In this case we know it is projected in a specific CRS following the GLANCE tiling scheme (https://measures-glance.github.io/glance-grids/). geeo knows these continent specific CRS (EU, NA, SA, AF, AS, OC) and we can thus specify \"CRS: EU\" in our parameter settings. Furthermore, we are working with Landsat data that predominantly records with a 30m spatial resolution which we intend to keep. Since our process involves many Landsat scenes, each stored in potentially different UTM CRSs, and we intend to reproject to the EU GLANCE CRS, we would like to use bilinear resampling as spatial interpolation method for our continuous spectral data (instead of nearest neighbour). To store data more efficiently, we accept the standard settings of scaling our data by a value of 10,000 and saving the resulting scaled data using the signed integer 16 data type (instead of floating point). Invalid, or missing pixels should be set to -9999. Last, we specify that we would like to export image products in general, and the STM in particular. We further specify the location to Asset and the associated directory within the Assets:"
   ]
  },
  {
   "cell_type": "code",
   "execution_count": 12,
   "id": "db2ae7a6",
   "metadata": {},
   "outputs": [
    {
     "data": {
      "text/html": [
       "\n",
       "            <style>\n",
       "                .geemap-dark {\n",
       "                    --jp-widgets-color: white;\n",
       "                    --jp-widgets-label-color: white;\n",
       "                    --jp-ui-font-color1: white;\n",
       "                    --jp-layout-color2: #454545;\n",
       "                    background-color: #383838;\n",
       "                }\n",
       "\n",
       "                .geemap-dark .jupyter-button {\n",
       "                    --jp-layout-color3: #383838;\n",
       "                }\n",
       "\n",
       "                .geemap-colab {\n",
       "                    background-color: var(--colab-primary-surface-color, white);\n",
       "                }\n",
       "\n",
       "                .geemap-colab .jupyter-button {\n",
       "                    --jp-layout-color3: var(--colab-primary-surface-color, white);\n",
       "                }\n",
       "            </style>\n",
       "            "
      ],
      "text/plain": [
       "<IPython.core.display.HTML object>"
      ]
     },
     "metadata": {},
     "output_type": "display_data"
    }
   ],
   "source": [
    "habitat_metric_settings_export = {\n",
    "    'PIX_RES': 30,  # spatial resolution\n",
    "    'CRS': 'EU',  # EU: Europe glance (https://measures-glance.github.io/glance-grids/)\n",
    "    'RESAMPLING_METHOD': 'bilinear',  # bilinear resampling for continuous data\n",
    "    'DATATYPE': 'int16',  # output data type ...\n",
    "    'DATATYPE_SCALE': 10000,   # ... and scale factor to convert to integer\n",
    "    'NODATA_VALUE': -9999,  # output nodata value\n",
    "    'EXPORT_IMAGE': True,  # whether to export the images\n",
    "    'EXPORT_STM': True,  # whether to export the calculated STMs\n",
    "    'EXPORT_LOCATION': 'Asset',  # 'Drive' or 'Asset'\n",
    "    'EXPORT_DIRECTORY': 'projects/eexnill/assets/geeo_public',  # path to export location\n",
    "    'EXPORT_DESC': 'HABITAT_METRICS'  # description appended to each image name\n",
    "}\n",
    "\n",
    "habitat_metric_settings.update(habitat_metric_settings_export)\n",
    "\n",
    "#run_prm = geeo.run_param(habitat_metric_settings)"
   ]
  },
  {
   "cell_type": "markdown",
   "id": "30fd5a3b",
   "metadata": {},
   "source": [
    "Once the export is finished, we can access the exported data as follows:"
   ]
  },
  {
   "cell_type": "code",
   "execution_count": 13,
   "id": "726d337a",
   "metadata": {},
   "outputs": [
    {
     "data": {
      "text/html": [
       "\n",
       "            <style>\n",
       "                .geemap-dark {\n",
       "                    --jp-widgets-color: white;\n",
       "                    --jp-widgets-label-color: white;\n",
       "                    --jp-ui-font-color1: white;\n",
       "                    --jp-layout-color2: #454545;\n",
       "                    background-color: #383838;\n",
       "                }\n",
       "\n",
       "                .geemap-dark .jupyter-button {\n",
       "                    --jp-layout-color3: #383838;\n",
       "                }\n",
       "\n",
       "                .geemap-colab {\n",
       "                    background-color: var(--colab-primary-surface-color, white);\n",
       "                }\n",
       "\n",
       "                .geemap-colab .jupyter-button {\n",
       "                    --jp-layout-color3: var(--colab-primary-surface-color, white);\n",
       "                }\n",
       "            </style>\n",
       "            "
      ],
      "text/plain": [
       "<IPython.core.display.HTML object>"
      ]
     },
     "metadata": {},
     "output_type": "display_data"
    },
    {
     "name": "stdout",
     "output_type": "stream",
     "text": [
      "['Y2022-2024_M03-05_D001-366_TCG_p10', 'Y2022-2024_M03-05_D001-366_TCG_p50', 'Y2022-2024_M03-05_D001-366_TCG_p90', 'Y2022-2024_M03-05_D001-366_TCG_stdDev', 'Y2022-2024_M03-05_D001-366_TCB_p10']\n"
     ]
    }
   ],
   "source": [
    "img_habitat = ee.Image('projects/eexnill/assets/geeo_public/STM_HABITAT_METRICS_2022-2024_LSAT')\n",
    "print(img_habitat.bandNames().getInfo()[:5])"
   ]
  },
  {
   "cell_type": "markdown",
   "id": "24846ef1",
   "metadata": {},
   "source": [
    "And visualize the exported STM ee.Image using geemap:"
   ]
  },
  {
   "cell_type": "code",
   "execution_count": 14,
   "id": "3a2b5cb3",
   "metadata": {},
   "outputs": [
    {
     "data": {
      "text/html": [
       "\n",
       "            <style>\n",
       "                .geemap-dark {\n",
       "                    --jp-widgets-color: white;\n",
       "                    --jp-widgets-label-color: white;\n",
       "                    --jp-ui-font-color1: white;\n",
       "                    --jp-layout-color2: #454545;\n",
       "                    background-color: #383838;\n",
       "                }\n",
       "\n",
       "                .geemap-dark .jupyter-button {\n",
       "                    --jp-layout-color3: #383838;\n",
       "                }\n",
       "\n",
       "                .geemap-colab {\n",
       "                    background-color: var(--colab-primary-surface-color, white);\n",
       "                }\n",
       "\n",
       "                .geemap-colab .jupyter-button {\n",
       "                    --jp-layout-color3: var(--colab-primary-surface-color, white);\n",
       "                }\n",
       "            </style>\n",
       "            "
      ],
      "text/plain": [
       "<IPython.core.display.HTML object>"
      ]
     },
     "metadata": {},
     "output_type": "display_data"
    },
    {
     "data": {
      "application/vnd.jupyter.widget-view+json": {
       "model_id": "46ad481aff704f78b00735c5fd1388a0",
       "version_major": 2,
       "version_minor": 0
      },
      "text/plain": [
       "Map(center=[44.5, 7], controls=(WidgetControl(options=['position', 'transparent_bg'], position='topright', tra…"
      ]
     },
     "execution_count": 14,
     "metadata": {},
     "output_type": "execute_result"
    }
   ],
   "source": [
    "M = geemap.Map(center=[44.5, 7], zoom=8)\n",
    "M.add_basemap('HYBRID')\n",
    "selected_bands = ['Y2022-2024_M03-05_D001-366_TCG_p50', 'Y2022-2024_M06-08_D001-366_TCG_p50', 'Y2022-2024_M09-11_D001-366_TCG_p50']\n",
    "M.addLayer(img_habitat, {'bands': selected_bands, 'min': -60, 'max': 2600}, 'Multitemporal median TCG')\n",
    "M.addLayer(roi_featcol.style(**vis_params), {}, 'Study Area')\n",
    "M"
   ]
  },
  {
   "cell_type": "markdown",
   "id": "03331a7c",
   "metadata": {},
   "source": [
    "Now we could continue with our analysis in Earth Engine using the ee.Image Asset or export it for local analysis to our Google Drive (in case the latter was our intention, we could have specified `EXPORT_LOCATION: Drive` in our parameter file/dictionary).\n",
    "\n",
    "#### Exporting images to Drive/Asset\n",
    "In case you run in the situation where you have an ee.ImageCollection or ee.Image and would like to export it to Drive or Asset outside the standard processing routine, you can also make use of geeo in-built helper function `export_img()`. \n",
    "\n",
    "As mentioned above, only specifying the output image, description, and nodata value means all other metadata are taken from the image, including the CRS settings and datatype, for instance.\n",
    "For full control on these settings, we recommend being explicit (see e.g. https://developers.google.com/earth-engine/guides/exporting_images).\n",
    "\n",
    "To precisely align to a given CRS grid, either specify crs, crsTransform and dimensions yourself, or calculate user a geeo helper function:"
   ]
  },
  {
   "cell_type": "code",
   "execution_count": 15,
   "id": "1514bfaa",
   "metadata": {},
   "outputs": [
    {
     "data": {
      "text/html": [
       "\n",
       "            <style>\n",
       "                .geemap-dark {\n",
       "                    --jp-widgets-color: white;\n",
       "                    --jp-widgets-label-color: white;\n",
       "                    --jp-ui-font-color1: white;\n",
       "                    --jp-layout-color2: #454545;\n",
       "                    background-color: #383838;\n",
       "                }\n",
       "\n",
       "                .geemap-dark .jupyter-button {\n",
       "                    --jp-layout-color3: #383838;\n",
       "                }\n",
       "\n",
       "                .geemap-colab {\n",
       "                    background-color: var(--colab-primary-surface-color, white);\n",
       "                }\n",
       "\n",
       "                .geemap-colab .jupyter-button {\n",
       "                    --jp-layout-color3: var(--colab-primary-surface-color, white);\n",
       "                }\n",
       "            </style>\n",
       "            "
      ],
      "text/plain": [
       "<IPython.core.display.HTML object>"
      ]
     },
     "metadata": {},
     "output_type": "display_data"
    },
    {
     "name": "stdout",
     "output_type": "stream",
     "text": [
      "crs:  PROJCS[\"BU MEaSUREs Lambert Azimuthal Equal Area - EU - V01\",GEOGCS[\"GCS_WGS_1984\",DATUM[\"D_WGS_1984\",SPHEROID[\"WGS_1984\",6378137.0,298.257223563]],PRIMEM[\"Greenwich\",0.0],UNIT[\"degree\",0.0174532925199433]],PROJECTION[\"Lambert_Azimuthal_Equal_Area\"],PARAMETER[\"false_easting\",0.0],PARAMETER[\"false_northing\",0.0],PARAMETER[\"longitude_of_center\",20],PARAMETER[\"latitude_of_center\",55],UNIT[\"meter\",1.0]]\n",
      "crsTransform:  [30, 0, -1155560.0, 0, -30, -1003755.0]\n",
      "dimensions:  5000x5000\n"
     ]
    }
   ],
   "source": [
    "from geeo import get_spatial_metadata\n",
    "\n",
    "# for a given region, CRS, and pixel resolution, get the spatial metadata: crs_transform and img_dimensions\n",
    "spatial_metadata = get_spatial_metadata(roi=study_area, crs='EU', px_res=30)\n",
    "CRS = spatial_metadata['crs']\n",
    "crsTransform = spatial_metadata['crs_transform']\n",
    "dimensions = spatial_metadata['img_dimensions']\n",
    "\n",
    "print('crs: ', CRS)\n",
    "print('crsTransform: ', crsTransform)\n",
    "print('dimensions: ', dimensions)"
   ]
  },
  {
   "cell_type": "markdown",
   "id": "dd020f35",
   "metadata": {},
   "source": [
    "Then specify image and crs parameter ins `export_image()` function:"
   ]
  },
  {
   "cell_type": "code",
   "execution_count": 16,
   "id": "7084b3d1",
   "metadata": {},
   "outputs": [
    {
     "data": {
      "text/html": [
       "\n",
       "            <style>\n",
       "                .geemap-dark {\n",
       "                    --jp-widgets-color: white;\n",
       "                    --jp-widgets-label-color: white;\n",
       "                    --jp-ui-font-color1: white;\n",
       "                    --jp-layout-color2: #454545;\n",
       "                    background-color: #383838;\n",
       "                }\n",
       "\n",
       "                .geemap-dark .jupyter-button {\n",
       "                    --jp-layout-color3: #383838;\n",
       "                }\n",
       "\n",
       "                .geemap-colab {\n",
       "                    background-color: var(--colab-primary-surface-color, white);\n",
       "                }\n",
       "\n",
       "                .geemap-colab .jupyter-button {\n",
       "                    --jp-layout-color3: var(--colab-primary-surface-color, white);\n",
       "                }\n",
       "            </style>\n",
       "            "
      ],
      "text/plain": [
       "<IPython.core.display.HTML object>"
      ]
     },
     "metadata": {},
     "output_type": "display_data"
    },
    {
     "data": {
      "text/plain": [
       "\"\\nmy_image_export = geeo.export_img(img_habitat,\\n                                  outname='STM_HABITAT_METRICS_2022-2024_LSAT',\\n                                  crs=CRS,\\n                                  crsTransform=crsTransform,\\n                                  dimensions=dimensions,\\n                                  nodata=-9999)\\n\""
      ]
     },
     "execution_count": 16,
     "metadata": {},
     "output_type": "execute_result"
    }
   ],
   "source": [
    "'''\n",
    "my_image_export = geeo.export_img(img_habitat,\n",
    "                                  outname='STM_HABITAT_METRICS_2022-2024_LSAT',\n",
    "                                  crs=CRS,\n",
    "                                  crsTransform=crsTransform,\n",
    "                                  dimensions=dimensions,\n",
    "                                  nodata=-9999)\n",
    "'''"
   ]
  },
  {
   "cell_type": "markdown",
   "id": "5c8439ca",
   "metadata": {},
   "source": [
    "----\n",
    "\n",
    "## Worked example 2: Time-Series Interpolation (TSI)"
   ]
  },
  {
   "cell_type": "markdown",
   "id": "7a89893c",
   "metadata": {},
   "source": [
    "In this section we are going to create a Time Series Interpolation (TSI) from our Landsat Time Series Stack (TSS). With STMs we already learned how to reduce the inconsistent, gappy time-series of different density into a continuous image product suitable, for example, for mapping exercises. TSIs uses interpolation methods to create a gap-free, equidistant time series which can be usefull for applications that require these attributes, i.e. when gappy, non-equidistant and fluctuating data densities directly impact the analysis. For example, when assessing spectral trends over time or when deriving STMs with strong seasonal data availability (e.g., due to clouds in wet season).\n",
    "\n",
    "#### Overview on Time Series Interpolation in geeo\n",
    "Originally, the spectral time series of Landsat/Sentinel are not equidistant, i.e. the amount of valid pixels varies over time due to the amount of sensors orbiting earth collecting data, cloud cover, etc.\n",
    "Accordingly, to ensure a consistent, gap-free time series, the data can be interpolated into an equidistant and smoothed time series. \n",
    "Consider the following time series plot showing the NDVI for a single pixel between 2010 and 2016:\n",
    "\n",
    "<div>\n",
    "<img src=\"https://raw.githubusercontent.com/leonsnill/geeo/master/geeo/data/fig/NDVI_time_series.png\" width=\"60%\"/>\n",
    "</div>\n",
    "\n",
    "To ensure a gap-free, equidistant time series which captures the reflectance dynamics smoothly, yet also is robust to potential outliers, a common method for TSI is based on a Radial-Basis-Function (RBF) or Gaussian kernel. This interpolation method is a convolution, so no function fitting is applied, but instead the Gaussian function acts as a moving window averaging. The RBF kernel is \"moved\" over the desired equidistant time steps, and the original observations (e.g. TSS) are weighted according to a Gaussian distribution. \n",
    "If we used a single RBF kernel and `sigma=16` (days) for the width parameter of the Gaussian function, this is how a smoothed time series looked like:\n",
    "\n",
    "<div>\n",
    "<img src=\"https://raw.githubusercontent.com/leonsnill/geeo/master/geeo/data/fig/NDVI_time_series_1RBF.png\" width=\"60%\"/>\n",
    "</div>\n",
    "\n",
    "You can see this is of not much help for the data scarce regions and follows the data\n",
    "points too closely. Additionally, anything beyond three times sigma is not interpolated.\n",
    "Usually, data density is variable, which means that we have seasons with\n",
    "good data availability and seasons with less ideal data availability.\n",
    "Where there are many observations, we would want to have a narrow kernel to more closely\n",
    "follow the actual time series. For data poor situations, however, a narrow kernel would\n",
    "result in many nodata values and wouldn’t smooth the time series appropriately.\n",
    "Accordingly, we use multiple RBF functions with different widths and weight the\n",
    "influence of each RBF kernel based on the actual data availability.\n",
    "Using two kernels, one 16 day, one 32 day, we get the following result:\n",
    "\n",
    "<div>\n",
    "<img src=\"https://raw.githubusercontent.com/leonsnill/geeo/master/geeo/data/fig/NDVI_time_series_2RBF.png\" width=\"60%\"/>\n",
    "</div>\n",
    "\n",
    "Of course, do not expect brilliant results if input data availability is low. Also keep in mind this is an interpolation and artificial image product you are generating. Smooth results does not mean smooth data quality!\n",
    "\n",
    "Here is the table of all parameters we can set in order to create a TSI in geeo:\n",
    "\n",
    "| Parameter                | Type    | Default      | Allowed Values / Format         | Description                                      |\n",
    "|--------------------------|---------|--------------|---------------------------------|--------------------------------------------------|\n",
    "| TSI                      | str     | null         | null, WLIN, 1RBF, 2RBF, 3RBF    | Interpolation method: WLIN (weighted linear) or Radial-Basis-Function (RBF) using one to three Gaussian kernels; null disables. |\n",
    "| TSI_BASE_IMGCOL          | str     | TSS          | TSS, TSM, CIC                   | Collection to interpolate (raw, mosaicked, or custom). |\n",
    "| INTERVAL                 | int     | 16           | days                            | Desired spacing between interpolated timestamps. |\n",
    "| INTERVAL_UNIT            | str     | day          | day, month, year                | Unit used for INTERVAL spacing. |\n",
    "| INIT_JANUARY_1ST         | bool    | false        | true, false                     | Force interpolation to start Jan 1 (of YEAR_MIN). |\n",
    "| SIGMA1                   | int     | 16           | days                            | First RBF kernel width (days). |\n",
    "| SIGMA2                   | int     | 32           | days                            | Second RBF kernel width (2RBF/3RBF only). |\n",
    "| SIGMA3                   | int     | 64           | days                            | Third RBF kernel width (3RBF only). |\n",
    "| WIN1                     | int     | 16           | days                            | +- of days (i.e. half-window size) maximum offset for observations in TSI_BASE_IMGCOL to be included for each INTERVAL for kernel 1.  |\n",
    "| WIN2                     | int     | 32           | days                            | +- of days (i.e. half-window size) maximum offset for observations in TSI_BASE_IMGCOL to be included for each INTERVAL for kernel 2. |\n",
    "| WIN3                     | int     | 64           | days                            | +- of days (i.e. half-window size) maximum offset for observations in TSI_BASE_IMGCOL to be included for each INTERVAL for kernel 3. |\n",
    "| BW1                      | int     | 4            |                                 | Expected/ideal number of observations between two timesteps (e.g. within 16 days when INTERVAL=16) used to calculate the weight for 2nd kernel (2RBF/3RBF) over the first. If there are enough observations to satisfy the ideal setting for a single kernel, the second kernel weight is set to zero, i.e. obervations further away do not impact the interpolation result. |\n",
    "| BW2                      | int     | 8            |                                 | Weight for 3rd kernel (3RBF), see BW1. |\n",
    "\n",
    "When attempting to use RBF interpolation, the user can specify `1RBF`, `2RBF`, or `3RBF` to either use a single, two, or three independent Gaussian functions to interpolate the time series. Note that more kernels is not necessarily better while definitely being more expensive computationally."
   ]
  },
  {
   "cell_type": "markdown",
   "id": "c5a8214f",
   "metadata": {},
   "source": [
    "### TSI for phenological analysis\n",
    "In this example we are considering the task of wanting to assess the spectral signal of trees/forests with different leaf habit (deciduous, evergreen) and form (broadleaf, coniferous) over time. This could be interesting to research studying leaf phenology (over space and time), their relation to other functional traits or when attempting to map different vegetation types or habitats.\n",
    "\n",
    "We stick with our study area and temporal window, and now would like to create a TSI for our Tasseled Cap features and the Normalized Difference Vegetation Index (NDVI).\n",
    "\n",
    "To keep things organized, we will use a new parameter file for this exercise:"
   ]
  },
  {
   "cell_type": "code",
   "execution_count": 17,
   "id": "6f3dd0d1",
   "metadata": {},
   "outputs": [
    {
     "data": {
      "text/html": [
       "\n",
       "            <style>\n",
       "                .geemap-dark {\n",
       "                    --jp-widgets-color: white;\n",
       "                    --jp-widgets-label-color: white;\n",
       "                    --jp-ui-font-color1: white;\n",
       "                    --jp-layout-color2: #454545;\n",
       "                    background-color: #383838;\n",
       "                }\n",
       "\n",
       "                .geemap-dark .jupyter-button {\n",
       "                    --jp-layout-color3: #383838;\n",
       "                }\n",
       "\n",
       "                .geemap-colab {\n",
       "                    background-color: var(--colab-primary-surface-color, white);\n",
       "                }\n",
       "\n",
       "                .geemap-colab .jupyter-button {\n",
       "                    --jp-layout-color3: var(--colab-primary-surface-color, white);\n",
       "                }\n",
       "            </style>\n",
       "            "
      ],
      "text/plain": [
       "<IPython.core.display.HTML object>"
      ]
     },
     "metadata": {},
     "output_type": "display_data"
    },
    {
     "name": "stdout",
     "output_type": "stream",
     "text": [
      "Warning: File already exists: landsat-tsi-habitat.yml. Set overwrite=True if you wish to replace it.\n"
     ]
    }
   ],
   "source": [
    "geeo.create_parameter_file('landsat-tsi-habitat', overwrite=False)"
   ]
  },
  {
   "cell_type": "markdown",
   "id": "4f388869",
   "metadata": {},
   "source": [
    "We adjust the settings in our .yml file (we did this for you) and load the parameters in this interactive session.\n",
    "To illustrate the adjustments, we print the parameters and values for the TSI below:"
   ]
  },
  {
   "cell_type": "code",
   "execution_count": 18,
   "id": "9fca27a5",
   "metadata": {},
   "outputs": [
    {
     "data": {
      "text/html": [
       "\n",
       "            <style>\n",
       "                .geemap-dark {\n",
       "                    --jp-widgets-color: white;\n",
       "                    --jp-widgets-label-color: white;\n",
       "                    --jp-ui-font-color1: white;\n",
       "                    --jp-layout-color2: #454545;\n",
       "                    background-color: #383838;\n",
       "                }\n",
       "\n",
       "                .geemap-dark .jupyter-button {\n",
       "                    --jp-layout-color3: #383838;\n",
       "                }\n",
       "\n",
       "                .geemap-colab {\n",
       "                    background-color: var(--colab-primary-surface-color, white);\n",
       "                }\n",
       "\n",
       "                .geemap-colab .jupyter-button {\n",
       "                    --jp-layout-color3: var(--colab-primary-surface-color, white);\n",
       "                }\n",
       "            </style>\n",
       "            "
      ],
      "text/plain": [
       "<IPython.core.display.HTML object>"
      ]
     },
     "metadata": {},
     "output_type": "display_data"
    },
    {
     "name": "stdout",
     "output_type": "stream",
     "text": [
      "TSI: 2RBF\n",
      "TSI_BASE_IMGCOL: TSS\n",
      "INTERVAL: 16\n",
      "INTERVAL_UNIT: day\n",
      "INIT_JANUARY_1ST: True\n",
      "SIGMA1: 16\n",
      "SIGMA2: 32\n",
      "SIGMA3: 64\n",
      "WIN1: 30\n",
      "WIN2: 90\n",
      "WIN3: 64\n",
      "BW1: 4\n",
      "BW2: 8\n"
     ]
    }
   ],
   "source": [
    "prm_tsi = geeo.load_parameters('landsat-tsi-habitat.yml')\n",
    "new_parameters_of_interest = [\n",
    "    'TSI',\n",
    "    'TSI_BASE_IMGCOL',\n",
    "    'INTERVAL',\n",
    "    'INTERVAL_UNIT',\n",
    "    'INIT_JANUARY_1ST',\n",
    "    'SIGMA1',\n",
    "    'SIGMA2',\n",
    "    'SIGMA3',\n",
    "    'WIN1',\n",
    "    'WIN2',\n",
    "    'WIN3',\n",
    "    'BW1',\n",
    "    'BW2'\n",
    "]\n",
    "\n",
    "for p in new_parameters_of_interest:\n",
    "    print(f\"{p}: {prm_tsi[p]}\")"
   ]
  },
  {
   "cell_type": "markdown",
   "id": "ce435405",
   "metadata": {},
   "source": [
    "We can see that we wish to use two RBF kernels `TSI: 2RBF` based on our original (preprocessed) Landsat TSS. We further would like to have a equidistant interval of 16 days, starting off January 1st 2022 (the latter is defined by the YEAR_MIN parameter). For our two gaussian kernels, we set the width (sigma) to 16 and 32 days respectively, and would like to only include observations falling within +-30 and +-90 days of our target time steps. `BW1: 4` means that if there more or equal four observations within the first window for a given time step, the second kernel is not used for the final TSI calculation.\n",
    "\n",
    "With these settings in place, we run the image export (using the export settings for pixel size, CRS, etc. we already used for the STM example):\n",
    "(Note that we set EXPORT_IMAGE to False again so that you do not trigger the export by running the notebook)"
   ]
  },
  {
   "cell_type": "code",
   "execution_count": 19,
   "id": "949047b2",
   "metadata": {},
   "outputs": [
    {
     "data": {
      "text/html": [
       "\n",
       "            <style>\n",
       "                .geemap-dark {\n",
       "                    --jp-widgets-color: white;\n",
       "                    --jp-widgets-label-color: white;\n",
       "                    --jp-ui-font-color1: white;\n",
       "                    --jp-layout-color2: #454545;\n",
       "                    background-color: #383838;\n",
       "                }\n",
       "\n",
       "                .geemap-dark .jupyter-button {\n",
       "                    --jp-layout-color3: #383838;\n",
       "                }\n",
       "\n",
       "                .geemap-colab {\n",
       "                    background-color: var(--colab-primary-surface-color, white);\n",
       "                }\n",
       "\n",
       "                .geemap-colab .jupyter-button {\n",
       "                    --jp-layout-color3: var(--colab-primary-surface-color, white);\n",
       "                }\n",
       "            </style>\n",
       "            "
      ],
      "text/plain": [
       "<IPython.core.display.HTML object>"
      ]
     },
     "metadata": {},
     "output_type": "display_data"
    }
   ],
   "source": [
    "my_run = geeo.run_param(prm_tsi)  # runs the analysis as specified in the .yml file"
   ]
  },
  {
   "cell_type": "markdown",
   "id": "18f1c032",
   "metadata": {},
   "source": [
    "After the exports are finished, we can continue with our analysis. In our case, we have exported the images as Asset and they can be accessed like so:"
   ]
  },
  {
   "cell_type": "code",
   "execution_count": 20,
   "id": "2bd9d010",
   "metadata": {},
   "outputs": [
    {
     "data": {
      "text/html": [
       "\n",
       "            <style>\n",
       "                .geemap-dark {\n",
       "                    --jp-widgets-color: white;\n",
       "                    --jp-widgets-label-color: white;\n",
       "                    --jp-ui-font-color1: white;\n",
       "                    --jp-layout-color2: #454545;\n",
       "                    background-color: #383838;\n",
       "                }\n",
       "\n",
       "                .geemap-dark .jupyter-button {\n",
       "                    --jp-layout-color3: #383838;\n",
       "                }\n",
       "\n",
       "                .geemap-colab {\n",
       "                    background-color: var(--colab-primary-surface-color, white);\n",
       "                }\n",
       "\n",
       "                .geemap-colab .jupyter-button {\n",
       "                    --jp-layout-color3: var(--colab-primary-surface-color, white);\n",
       "                }\n",
       "            </style>\n",
       "            "
      ],
      "text/plain": [
       "<IPython.core.display.HTML object>"
      ]
     },
     "metadata": {},
     "output_type": "display_data"
    }
   ],
   "source": [
    "tsi_tcg = ee.Image('projects/eexnill/assets/geeo_public/landsat-tsi/TSI_HABITAT_EU_150-X029-Y029_2022-2024_LSAT_TCG')\n",
    "tsi_tcb = ee.Image('projects/eexnill/assets/geeo_public/landsat-tsi/TSI_HABITAT_EU_150-X029-Y029_2022-2024_LSAT_TCB')\n",
    "tsi_tcw = ee.Image('projects/eexnill/assets/geeo_public/landsat-tsi/TSI_HABITAT_EU_150-X029-Y029_2022-2024_LSAT_TCW')\n",
    "tsi_ndvi = ee.Image('projects/eexnill/assets/geeo_public/landsat-tsi/TSI_HABITAT_EU_150-X029-Y029_2022-2024_LSAT_NDVI')"
   ]
  },
  {
   "cell_type": "markdown",
   "id": "7b7d3834",
   "metadata": {},
   "source": [
    "Checking the bandnames of the TSI NDVI image:"
   ]
  },
  {
   "cell_type": "code",
   "execution_count": 21,
   "id": "a569fb75",
   "metadata": {},
   "outputs": [
    {
     "data": {
      "text/html": [
       "\n",
       "            <style>\n",
       "                .geemap-dark {\n",
       "                    --jp-widgets-color: white;\n",
       "                    --jp-widgets-label-color: white;\n",
       "                    --jp-ui-font-color1: white;\n",
       "                    --jp-layout-color2: #454545;\n",
       "                    background-color: #383838;\n",
       "                }\n",
       "\n",
       "                .geemap-dark .jupyter-button {\n",
       "                    --jp-layout-color3: #383838;\n",
       "                }\n",
       "\n",
       "                .geemap-colab {\n",
       "                    background-color: var(--colab-primary-surface-color, white);\n",
       "                }\n",
       "\n",
       "                .geemap-colab .jupyter-button {\n",
       "                    --jp-layout-color3: var(--colab-primary-surface-color, white);\n",
       "                }\n",
       "            </style>\n",
       "            "
      ],
      "text/plain": [
       "<IPython.core.display.HTML object>"
      ]
     },
     "metadata": {},
     "output_type": "display_data"
    },
    {
     "data": {
      "text/html": [
       "<div><style>:root {\n",
       "  --font-color-primary: var(--jp-content-font-color0, rgba(0, 0, 0, 1));\n",
       "  --font-color-secondary: var(--jp-content-font-color2, rgba(0, 0, 0, 0.7));\n",
       "  --font-color-accent: rgba(123, 31, 162, 1);\n",
       "  --border-color: var(--jp-border-color2, #e0e0e0);\n",
       "  --background-color: var(--jp-layout-color0, white);\n",
       "  --background-color-row-even: var(--jp-layout-color1, white);\n",
       "  --background-color-row-odd: var(--jp-layout-color2, #eeeeee);\n",
       "}\n",
       "\n",
       "html[theme=\"dark\"],\n",
       "body[data-theme=\"dark\"],\n",
       "body.vscode-dark {\n",
       "  --font-color-primary: rgba(255, 255, 255, 1);\n",
       "  --font-color-secondary: rgba(255, 255, 255, 0.7);\n",
       "  --font-color-accent: rgb(173, 132, 190);\n",
       "  --border-color: #2e2e2e;\n",
       "  --background-color: #111111;\n",
       "  --background-color-row-even: #111111;\n",
       "  --background-color-row-odd: #313131;\n",
       "}\n",
       "\n",
       ".eerepr {\n",
       "  padding: 1em;\n",
       "  line-height: 1.5em;\n",
       "  min-width: 300px;\n",
       "  max-width: 1200px;\n",
       "  overflow-y: scroll;\n",
       "  max-height: 600px;\n",
       "  border: 1px solid var(--border-color);\n",
       "  font-family: monospace;\n",
       "  font-size: 14px;\n",
       "}\n",
       "\n",
       ".eerepr li {\n",
       "  list-style-type: none;\n",
       "  margin: 0;\n",
       "}\n",
       "\n",
       ".eerepr ul {\n",
       "  padding-left: 1.5em !important;\n",
       "  margin: 0;\n",
       "}\n",
       "\n",
       ".eerepr > ul {\n",
       "  padding-left: 0 !important;\n",
       "}\n",
       "\n",
       ".eerepr summary {\n",
       "  color: var(--font-color-secondary);\n",
       "  cursor: pointer;\n",
       "  margin: 0;\n",
       "}\n",
       "\n",
       ".eerepr summary:hover {\n",
       "  color: var(--font-color-primary);\n",
       "  background-color: var(--background-color-row-odd)\n",
       "}\n",
       "\n",
       ".ee-k {\n",
       "  color: var(--font-color-accent);\n",
       "  margin-right: 6px;\n",
       "}\n",
       "\n",
       ".ee-v {\n",
       "  color: var(--font-color-primary);\n",
       "}\n",
       "\n",
       ".eerepr details > summary::before {\n",
       "  content: '▼';\n",
       "  display: inline-block;\n",
       "  margin-right: 6px;\n",
       "  transition: transform 0.2s;\n",
       "  transform: rotate(-90deg);\n",
       "}\n",
       "\n",
       ".eerepr details[open] > summary::before {\n",
       "  transform: rotate(0deg);\n",
       "}\n",
       "\n",
       ".eerepr details summary::-webkit-details-marker {\n",
       "  display:none;\n",
       "}\n",
       "\n",
       ".eerepr details summary {\n",
       "  list-style-type: none;\n",
       "}\n",
       "</style><div class='eerepr'><ul><li><details><summary>List (69 elements)</summary><ul><li><span class='ee-k'>0:</span><span class='ee-v'>NDVI_20220101</span></li><li><span class='ee-k'>1:</span><span class='ee-v'>NDVI_20220117</span></li><li><span class='ee-k'>2:</span><span class='ee-v'>NDVI_20220202</span></li><li><span class='ee-k'>3:</span><span class='ee-v'>NDVI_20220218</span></li><li><span class='ee-k'>4:</span><span class='ee-v'>NDVI_20220306</span></li><li><span class='ee-k'>5:</span><span class='ee-v'>NDVI_20220322</span></li><li><span class='ee-k'>6:</span><span class='ee-v'>NDVI_20220407</span></li><li><span class='ee-k'>7:</span><span class='ee-v'>NDVI_20220423</span></li><li><span class='ee-k'>8:</span><span class='ee-v'>NDVI_20220509</span></li><li><span class='ee-k'>9:</span><span class='ee-v'>NDVI_20220525</span></li><li><span class='ee-k'>10:</span><span class='ee-v'>NDVI_20220610</span></li><li><span class='ee-k'>11:</span><span class='ee-v'>NDVI_20220626</span></li><li><span class='ee-k'>12:</span><span class='ee-v'>NDVI_20220712</span></li><li><span class='ee-k'>13:</span><span class='ee-v'>NDVI_20220728</span></li><li><span class='ee-k'>14:</span><span class='ee-v'>NDVI_20220813</span></li><li><span class='ee-k'>15:</span><span class='ee-v'>NDVI_20220829</span></li><li><span class='ee-k'>16:</span><span class='ee-v'>NDVI_20220914</span></li><li><span class='ee-k'>17:</span><span class='ee-v'>NDVI_20220930</span></li><li><span class='ee-k'>18:</span><span class='ee-v'>NDVI_20221016</span></li><li><span class='ee-k'>19:</span><span class='ee-v'>NDVI_20221101</span></li><li><span class='ee-k'>20:</span><span class='ee-v'>NDVI_20221117</span></li><li><span class='ee-k'>21:</span><span class='ee-v'>NDVI_20221203</span></li><li><span class='ee-k'>22:</span><span class='ee-v'>NDVI_20221219</span></li><li><span class='ee-k'>23:</span><span class='ee-v'>NDVI_20230104</span></li><li><span class='ee-k'>24:</span><span class='ee-v'>NDVI_20230120</span></li><li><span class='ee-k'>25:</span><span class='ee-v'>NDVI_20230205</span></li><li><span class='ee-k'>26:</span><span class='ee-v'>NDVI_20230221</span></li><li><span class='ee-k'>27:</span><span class='ee-v'>NDVI_20230309</span></li><li><span class='ee-k'>28:</span><span class='ee-v'>NDVI_20230325</span></li><li><span class='ee-k'>29:</span><span class='ee-v'>NDVI_20230410</span></li><li><span class='ee-k'>30:</span><span class='ee-v'>NDVI_20230426</span></li><li><span class='ee-k'>31:</span><span class='ee-v'>NDVI_20230512</span></li><li><span class='ee-k'>32:</span><span class='ee-v'>NDVI_20230528</span></li><li><span class='ee-k'>33:</span><span class='ee-v'>NDVI_20230613</span></li><li><span class='ee-k'>34:</span><span class='ee-v'>NDVI_20230629</span></li><li><span class='ee-k'>35:</span><span class='ee-v'>NDVI_20230715</span></li><li><span class='ee-k'>36:</span><span class='ee-v'>NDVI_20230731</span></li><li><span class='ee-k'>37:</span><span class='ee-v'>NDVI_20230816</span></li><li><span class='ee-k'>38:</span><span class='ee-v'>NDVI_20230901</span></li><li><span class='ee-k'>39:</span><span class='ee-v'>NDVI_20230917</span></li><li><span class='ee-k'>40:</span><span class='ee-v'>NDVI_20231003</span></li><li><span class='ee-k'>41:</span><span class='ee-v'>NDVI_20231019</span></li><li><span class='ee-k'>42:</span><span class='ee-v'>NDVI_20231104</span></li><li><span class='ee-k'>43:</span><span class='ee-v'>NDVI_20231120</span></li><li><span class='ee-k'>44:</span><span class='ee-v'>NDVI_20231206</span></li><li><span class='ee-k'>45:</span><span class='ee-v'>NDVI_20231222</span></li><li><span class='ee-k'>46:</span><span class='ee-v'>NDVI_20240107</span></li><li><span class='ee-k'>47:</span><span class='ee-v'>NDVI_20240123</span></li><li><span class='ee-k'>48:</span><span class='ee-v'>NDVI_20240208</span></li><li><span class='ee-k'>49:</span><span class='ee-v'>NDVI_20240224</span></li><li><span class='ee-k'>50:</span><span class='ee-v'>NDVI_20240311</span></li><li><span class='ee-k'>51:</span><span class='ee-v'>NDVI_20240327</span></li><li><span class='ee-k'>52:</span><span class='ee-v'>NDVI_20240412</span></li><li><span class='ee-k'>53:</span><span class='ee-v'>NDVI_20240428</span></li><li><span class='ee-k'>54:</span><span class='ee-v'>NDVI_20240514</span></li><li><span class='ee-k'>55:</span><span class='ee-v'>NDVI_20240530</span></li><li><span class='ee-k'>56:</span><span class='ee-v'>NDVI_20240615</span></li><li><span class='ee-k'>57:</span><span class='ee-v'>NDVI_20240701</span></li><li><span class='ee-k'>58:</span><span class='ee-v'>NDVI_20240717</span></li><li><span class='ee-k'>59:</span><span class='ee-v'>NDVI_20240802</span></li><li><span class='ee-k'>60:</span><span class='ee-v'>NDVI_20240818</span></li><li><span class='ee-k'>61:</span><span class='ee-v'>NDVI_20240903</span></li><li><span class='ee-k'>62:</span><span class='ee-v'>NDVI_20240919</span></li><li><span class='ee-k'>63:</span><span class='ee-v'>NDVI_20241005</span></li><li><span class='ee-k'>64:</span><span class='ee-v'>NDVI_20241021</span></li><li><span class='ee-k'>65:</span><span class='ee-v'>NDVI_20241106</span></li><li><span class='ee-k'>66:</span><span class='ee-v'>NDVI_20241122</span></li><li><span class='ee-k'>67:</span><span class='ee-v'>NDVI_20241208</span></li><li><span class='ee-k'>68:</span><span class='ee-v'>NDVI_20241224</span></li></ul></details></li></ul></div></div>"
      ],
      "text/plain": [
       "<ee.ee_list.List at 0x140544610>"
      ]
     },
     "execution_count": 21,
     "metadata": {},
     "output_type": "execute_result"
    }
   ],
   "source": [
    "tsi_ndvi.bandNames()"
   ]
  },
  {
   "cell_type": "markdown",
   "id": "f73cb88d",
   "metadata": {},
   "source": [
    "Visualizing the interpolated NDVI time series for three distinct moments in time:"
   ]
  },
  {
   "cell_type": "code",
   "execution_count": 22,
   "id": "b22fe11c",
   "metadata": {},
   "outputs": [
    {
     "data": {
      "text/html": [
       "\n",
       "            <style>\n",
       "                .geemap-dark {\n",
       "                    --jp-widgets-color: white;\n",
       "                    --jp-widgets-label-color: white;\n",
       "                    --jp-ui-font-color1: white;\n",
       "                    --jp-layout-color2: #454545;\n",
       "                    background-color: #383838;\n",
       "                }\n",
       "\n",
       "                .geemap-dark .jupyter-button {\n",
       "                    --jp-layout-color3: #383838;\n",
       "                }\n",
       "\n",
       "                .geemap-colab {\n",
       "                    background-color: var(--colab-primary-surface-color, white);\n",
       "                }\n",
       "\n",
       "                .geemap-colab .jupyter-button {\n",
       "                    --jp-layout-color3: var(--colab-primary-surface-color, white);\n",
       "                }\n",
       "            </style>\n",
       "            "
      ],
      "text/plain": [
       "<IPython.core.display.HTML object>"
      ]
     },
     "metadata": {},
     "output_type": "display_data"
    },
    {
     "data": {
      "application/vnd.jupyter.widget-view+json": {
       "model_id": "a75932bcf4164cac8eb9816c8c9319f1",
       "version_major": 2,
       "version_minor": 0
      },
      "text/plain": [
       "Map(center=[44.5112991, 5.6668306], controls=(WidgetControl(options=['position', 'transparent_bg'], position='…"
      ]
     },
     "execution_count": 22,
     "metadata": {},
     "output_type": "execute_result"
    }
   ],
   "source": [
    "# visualize TSI\n",
    "example_point = ee.Geometry.Point([5.6668306, 44.5112991])\n",
    "\n",
    "M = geemap.Map(center=[44.5112991, 5.6668306], zoom=8)\n",
    "M.add_basemap('HYBRID')\n",
    "selected_bands = ['NDVI_20240514', 'NDVI_20240701', 'NDVI_20240919']\n",
    "M.addLayer(tsi_ndvi, {'bands': selected_bands, 'min': 1000, 'max': 9000}, 'TSI NDVI')\n",
    "M.addLayer(example_point, {'color': 'red'}, 'Example Point')\n",
    "M.addLayer(roi_featcol.style(**vis_params), {}, 'Study Area')\n",
    "M"
   ]
  },
  {
   "cell_type": "markdown",
   "id": "71135ea2",
   "metadata": {},
   "source": [
    "Visualizing the TSS and TSI of the NDVI for the example point:"
   ]
  },
  {
   "cell_type": "code",
   "execution_count": 23,
   "id": "6be22685",
   "metadata": {},
   "outputs": [
    {
     "data": {
      "text/html": [
       "\n",
       "            <style>\n",
       "                .geemap-dark {\n",
       "                    --jp-widgets-color: white;\n",
       "                    --jp-widgets-label-color: white;\n",
       "                    --jp-ui-font-color1: white;\n",
       "                    --jp-layout-color2: #454545;\n",
       "                    background-color: #383838;\n",
       "                }\n",
       "\n",
       "                .geemap-dark .jupyter-button {\n",
       "                    --jp-layout-color3: #383838;\n",
       "                }\n",
       "\n",
       "                .geemap-colab {\n",
       "                    background-color: var(--colab-primary-surface-color, white);\n",
       "                }\n",
       "\n",
       "                .geemap-colab .jupyter-button {\n",
       "                    --jp-layout-color3: var(--colab-primary-surface-color, white);\n",
       "                }\n",
       "            </style>\n",
       "            "
      ],
      "text/plain": [
       "<IPython.core.display.HTML object>"
      ]
     },
     "metadata": {},
     "output_type": "display_data"
    }
   ],
   "source": [
    "from geeo import plot_getRegion\n",
    "import matplotlib.pyplot as plt\n",
    "\n",
    "TSS = my_run['TSS']\n",
    "TSI = my_run['TSI']\n",
    "#fig, ax = plt.subplots(figsize=(10, 4))\n",
    "#plot_getRegion(TSS, band='NDVI', roi=example_point, scale=30, axis=ax, style='x')\n",
    "#plot_getRegion(TSI, band='NDVI', roi=example_point, scale=30, axis=ax, style='.-', color='blue')"
   ]
  },
  {
   "cell_type": "markdown",
   "id": "1c586020",
   "metadata": {},
   "source": [
    "<div>\n",
    "<img src=\"https://raw.githubusercontent.com/leonsnill/geeo/master/geeo/data/fig/TSI_example_NDVI.png\" width=\"50%\"/>\n",
    "</div>"
   ]
  },
  {
   "cell_type": "markdown",
   "id": "5c4b4aa6",
   "metadata": {},
   "source": [
    "This is how you can create an equidistant, gap-free (if orignal data allows) time series. As you can see, some observations that could be considered outliers are also smoothed-out in the resulting TSI and data dense intervals are reduced to the average conditions and represented in much fewer observations. "
   ]
  },
  {
   "cell_type": "markdown",
   "id": "aaa41dea",
   "metadata": {},
   "source": [
    "# European-wide Land Cover Mapping"
   ]
  },
  {
   "cell_type": "code",
   "execution_count": 24,
   "id": "773fb2da",
   "metadata": {},
   "outputs": [
    {
     "data": {
      "text/html": [
       "\n",
       "            <style>\n",
       "                .geemap-dark {\n",
       "                    --jp-widgets-color: white;\n",
       "                    --jp-widgets-label-color: white;\n",
       "                    --jp-ui-font-color1: white;\n",
       "                    --jp-layout-color2: #454545;\n",
       "                    background-color: #383838;\n",
       "                }\n",
       "\n",
       "                .geemap-dark .jupyter-button {\n",
       "                    --jp-layout-color3: #383838;\n",
       "                }\n",
       "\n",
       "                .geemap-colab {\n",
       "                    background-color: var(--colab-primary-surface-color, white);\n",
       "                }\n",
       "\n",
       "                .geemap-colab .jupyter-button {\n",
       "                    --jp-layout-color3: var(--colab-primary-surface-color, white);\n",
       "                }\n",
       "            </style>\n",
       "            "
      ],
      "text/plain": [
       "<IPython.core.display.HTML object>"
      ]
     },
     "metadata": {},
     "output_type": "display_data"
    }
   ],
   "source": [
    "model = 'projects/eexnill/assets/geeo_public/RF-MODEL_LUCAS_NTREE-50' \n",
    "# geeo has a function to load the table asset to a model\n",
    "from geeo.level4.model import dt_table_asset_to_model\n",
    "rf = dt_table_asset_to_model(model)\n",
    "# we change the output mode of the model to 'raw' to get the raw output of the model, i.e. the probability of wetland of each tree in the forest (instead of the majority vote)\n",
    "#rf = rf.setOutputMode('raw')"
   ]
  },
  {
   "cell_type": "code",
   "execution_count": 25,
   "id": "5522995a",
   "metadata": {},
   "outputs": [
    {
     "data": {
      "text/html": [
       "\n",
       "            <style>\n",
       "                .geemap-dark {\n",
       "                    --jp-widgets-color: white;\n",
       "                    --jp-widgets-label-color: white;\n",
       "                    --jp-ui-font-color1: white;\n",
       "                    --jp-layout-color2: #454545;\n",
       "                    background-color: #383838;\n",
       "                }\n",
       "\n",
       "                .geemap-dark .jupyter-button {\n",
       "                    --jp-layout-color3: #383838;\n",
       "                }\n",
       "\n",
       "                .geemap-colab {\n",
       "                    background-color: var(--colab-primary-surface-color, white);\n",
       "                }\n",
       "\n",
       "                .geemap-colab .jupyter-button {\n",
       "                    --jp-layout-color3: var(--colab-primary-surface-color, white);\n",
       "                }\n",
       "            </style>\n",
       "            "
      ],
      "text/plain": [
       "<IPython.core.display.HTML object>"
      ]
     },
     "metadata": {},
     "output_type": "display_data"
    }
   ],
   "source": [
    "model = 'projects/eexnill/assets/geeo_public/RF-MODEL_LUCAS_NTREE-50' \n",
    "feature_collection = ee.FeatureCollection(model)\n",
    "#tree_names = ee.List(list(feature_collection.first().getInfo()['properties'].keys()))\n",
    "tree_names = ee.List(['tree'+str(x+1) for x in range(4)])\n",
    "\n",
    "def get_tree_string(tree):\n",
    "    tree_string = feature_collection.aggregate_array(tree).filter(ee.Filter.neq('item', \"NA\")).join(\"\\n\")\n",
    "    return tree_string\n",
    "\n",
    "tree_list = ee.List(tree_names.map(get_tree_string))\n",
    "rf = ee.Classifier.decisionTreeEnsemble(tree_list)"
   ]
  },
  {
   "cell_type": "code",
   "execution_count": 26,
   "id": "f4dd2fdb",
   "metadata": {},
   "outputs": [
    {
     "data": {
      "text/html": [
       "\n",
       "            <style>\n",
       "                .geemap-dark {\n",
       "                    --jp-widgets-color: white;\n",
       "                    --jp-widgets-label-color: white;\n",
       "                    --jp-ui-font-color1: white;\n",
       "                    --jp-layout-color2: #454545;\n",
       "                    background-color: #383838;\n",
       "                }\n",
       "\n",
       "                .geemap-dark .jupyter-button {\n",
       "                    --jp-layout-color3: #383838;\n",
       "                }\n",
       "\n",
       "                .geemap-colab {\n",
       "                    background-color: var(--colab-primary-surface-color, white);\n",
       "                }\n",
       "\n",
       "                .geemap-colab .jupyter-button {\n",
       "                    --jp-layout-color3: var(--colab-primary-surface-color, white);\n",
       "                }\n",
       "            </style>\n",
       "            "
      ],
      "text/plain": [
       "<IPython.core.display.HTML object>"
      ]
     },
     "metadata": {},
     "output_type": "display_data"
    }
   ],
   "source": [
    "all_features = [\n",
    "    'full_NIR_p25',\n",
    "    'full_NBR_p5',\n",
    "    'full_NIR_p95',\n",
    "    'full_NBR_stdDev',\n",
    "    'full_RED_p75',\n",
    "    'full_NBR_p75',\n",
    "    'full_NBR_p95',\n",
    "    'full_NDVI_p25',\n",
    "    'full_SW2_stdDev',\n",
    "    'full_MDWI_p75',\n",
    "    'full_NIR_stdDev',\n",
    "\n",
    "    'spring_MDWI_p50',\n",
    "    'spring_SW1_p95',\n",
    "    'spring_NDVI_p5',\n",
    "    'spring_NDVI_p75',\n",
    "    'spring_MDWI_p25',\n",
    "    'spring_NIR_p95',\n",
    "\n",
    "    'summer_SW1_p95',\n",
    "    'summer_NIR_p95',\n",
    "    'summer_NBR_p5',\n",
    "    'summer_MDWI_p95',\n",
    "    'summer_NBR_stdDev',\n",
    "    'summer_RED_stdDev',\n",
    "\n",
    "    'autumn_MDWI_p75',\n",
    "    'autumn_NBR_p25',\n",
    "    'autumn_SW1_p95',\n",
    "    'autumn_NDVI_p25',\n",
    "\n",
    "    'slope',\n",
    "    'DEM',\n",
    "    'bio9',\n",
    "    'bio6',\n",
    "    'bio18',\n",
    "    'bio5'\n",
    "]"
   ]
  },
  {
   "cell_type": "markdown",
   "id": "7b1da8d5",
   "metadata": {},
   "source": [
    "Temporal windows\n",
    "- Full year\n",
    "- winter (Dec, Jan, Feb)\n",
    "- spring (Mar, Apr, May)\n",
    "- summer (Jun, Jul, Aug)\n",
    "- autumn (Sep, Oct, Nov)\n",
    "\n",
    "Metrics\n",
    "- p5\n",
    "- p25\n",
    "- p50\n",
    "- p75\n",
    "- p95\n",
    "- stdDev"
   ]
  },
  {
   "cell_type": "code",
   "execution_count": 27,
   "id": "0535a8cb",
   "metadata": {},
   "outputs": [
    {
     "data": {
      "text/html": [
       "\n",
       "            <style>\n",
       "                .geemap-dark {\n",
       "                    --jp-widgets-color: white;\n",
       "                    --jp-widgets-label-color: white;\n",
       "                    --jp-ui-font-color1: white;\n",
       "                    --jp-layout-color2: #454545;\n",
       "                    background-color: #383838;\n",
       "                }\n",
       "\n",
       "                .geemap-dark .jupyter-button {\n",
       "                    --jp-layout-color3: #383838;\n",
       "                }\n",
       "\n",
       "                .geemap-colab {\n",
       "                    background-color: var(--colab-primary-surface-color, white);\n",
       "                }\n",
       "\n",
       "                .geemap-colab .jupyter-button {\n",
       "                    --jp-layout-color3: var(--colab-primary-surface-color, white);\n",
       "                }\n",
       "            </style>\n",
       "            "
      ],
      "text/plain": [
       "<IPython.core.display.HTML object>"
      ]
     },
     "metadata": {},
     "output_type": "display_data"
    },
    {
     "name": "stdout",
     "output_type": "stream",
     "text": [
      "Filtering grid tiles using the land mask...\n"
     ]
    },
    {
     "data": {
      "text/html": [
       "<div>\n",
       "<style scoped>\n",
       "    .dataframe tbody tr th:only-of-type {\n",
       "        vertical-align: middle;\n",
       "    }\n",
       "\n",
       "    .dataframe tbody tr th {\n",
       "        vertical-align: top;\n",
       "    }\n",
       "\n",
       "    .dataframe thead th {\n",
       "        text-align: right;\n",
       "    }\n",
       "</style>\n",
       "<table border=\"1\" class=\"dataframe\">\n",
       "  <thead>\n",
       "    <tr style=\"text-align: right;\">\n",
       "      <th></th>\n",
       "      <th>geometry</th>\n",
       "      <th>ID1200</th>\n",
       "      <th>ID600</th>\n",
       "      <th>X1200</th>\n",
       "      <th>X600</th>\n",
       "      <th>Y1200</th>\n",
       "      <th>Y600</th>\n",
       "    </tr>\n",
       "  </thead>\n",
       "  <tbody>\n",
       "    <tr>\n",
       "      <th>98</th>\n",
       "      <td>POLYGON ((-1305560 -1453755, -1305560 -853755,...</td>\n",
       "      <td>EU_1200-X003-Y003</td>\n",
       "      <td>EU_600-X007-Y007</td>\n",
       "      <td>3</td>\n",
       "      <td>7</td>\n",
       "      <td>3</td>\n",
       "      <td>7</td>\n",
       "    </tr>\n",
       "  </tbody>\n",
       "</table>\n",
       "</div>"
      ],
      "text/plain": [
       "                                             geometry             ID1200  \\\n",
       "98  POLYGON ((-1305560 -1453755, -1305560 -853755,...  EU_1200-X003-Y003   \n",
       "\n",
       "               ID600  X1200  X600  Y1200  Y600  \n",
       "98  EU_600-X007-Y007      3     7      3     7  "
      ]
     },
     "execution_count": 27,
     "metadata": {},
     "output_type": "execute_result"
    }
   ],
   "source": [
    "glance_600 = geeo.create_glance_tiles(continent_code='EU', tile_size=600000, land_mask=True)\n",
    "tile = 'EU_600-X007-Y007'\n",
    "roi = glance_600[glance_600['ID600'] == tile]\n",
    "roi"
   ]
  },
  {
   "cell_type": "markdown",
   "id": "03bd1a0f",
   "metadata": {},
   "source": [
    "### Full Season"
   ]
  },
  {
   "cell_type": "code",
   "execution_count": 28,
   "id": "c5be606d",
   "metadata": {},
   "outputs": [
    {
     "data": {
      "text/html": [
       "\n",
       "            <style>\n",
       "                .geemap-dark {\n",
       "                    --jp-widgets-color: white;\n",
       "                    --jp-widgets-label-color: white;\n",
       "                    --jp-ui-font-color1: white;\n",
       "                    --jp-layout-color2: #454545;\n",
       "                    background-color: #383838;\n",
       "                }\n",
       "\n",
       "                .geemap-dark .jupyter-button {\n",
       "                    --jp-layout-color3: #383838;\n",
       "                }\n",
       "\n",
       "                .geemap-colab {\n",
       "                    background-color: var(--colab-primary-surface-color, white);\n",
       "                }\n",
       "\n",
       "                .geemap-colab .jupyter-button {\n",
       "                    --jp-layout-color3: var(--colab-primary-surface-color, white);\n",
       "                }\n",
       "            </style>\n",
       "            "
      ],
      "text/plain": [
       "<IPython.core.display.HTML object>"
      ]
     },
     "metadata": {},
     "output_type": "display_data"
    },
    {
     "data": {
      "text/html": [
       "<div><style>:root {\n",
       "  --font-color-primary: var(--jp-content-font-color0, rgba(0, 0, 0, 1));\n",
       "  --font-color-secondary: var(--jp-content-font-color2, rgba(0, 0, 0, 0.7));\n",
       "  --font-color-accent: rgba(123, 31, 162, 1);\n",
       "  --border-color: var(--jp-border-color2, #e0e0e0);\n",
       "  --background-color: var(--jp-layout-color0, white);\n",
       "  --background-color-row-even: var(--jp-layout-color1, white);\n",
       "  --background-color-row-odd: var(--jp-layout-color2, #eeeeee);\n",
       "}\n",
       "\n",
       "html[theme=\"dark\"],\n",
       "body[data-theme=\"dark\"],\n",
       "body.vscode-dark {\n",
       "  --font-color-primary: rgba(255, 255, 255, 1);\n",
       "  --font-color-secondary: rgba(255, 255, 255, 0.7);\n",
       "  --font-color-accent: rgb(173, 132, 190);\n",
       "  --border-color: #2e2e2e;\n",
       "  --background-color: #111111;\n",
       "  --background-color-row-even: #111111;\n",
       "  --background-color-row-odd: #313131;\n",
       "}\n",
       "\n",
       ".eerepr {\n",
       "  padding: 1em;\n",
       "  line-height: 1.5em;\n",
       "  min-width: 300px;\n",
       "  max-width: 1200px;\n",
       "  overflow-y: scroll;\n",
       "  max-height: 600px;\n",
       "  border: 1px solid var(--border-color);\n",
       "  font-family: monospace;\n",
       "  font-size: 14px;\n",
       "}\n",
       "\n",
       ".eerepr li {\n",
       "  list-style-type: none;\n",
       "  margin: 0;\n",
       "}\n",
       "\n",
       ".eerepr ul {\n",
       "  padding-left: 1.5em !important;\n",
       "  margin: 0;\n",
       "}\n",
       "\n",
       ".eerepr > ul {\n",
       "  padding-left: 0 !important;\n",
       "}\n",
       "\n",
       ".eerepr summary {\n",
       "  color: var(--font-color-secondary);\n",
       "  cursor: pointer;\n",
       "  margin: 0;\n",
       "}\n",
       "\n",
       ".eerepr summary:hover {\n",
       "  color: var(--font-color-primary);\n",
       "  background-color: var(--background-color-row-odd)\n",
       "}\n",
       "\n",
       ".ee-k {\n",
       "  color: var(--font-color-accent);\n",
       "  margin-right: 6px;\n",
       "}\n",
       "\n",
       ".ee-v {\n",
       "  color: var(--font-color-primary);\n",
       "}\n",
       "\n",
       ".eerepr details > summary::before {\n",
       "  content: '▼';\n",
       "  display: inline-block;\n",
       "  margin-right: 6px;\n",
       "  transition: transform 0.2s;\n",
       "  transform: rotate(-90deg);\n",
       "}\n",
       "\n",
       ".eerepr details[open] > summary::before {\n",
       "  transform: rotate(0deg);\n",
       "}\n",
       "\n",
       ".eerepr details summary::-webkit-details-marker {\n",
       "  display:none;\n",
       "}\n",
       "\n",
       ".eerepr details summary {\n",
       "  list-style-type: none;\n",
       "}\n",
       "</style><div class='eerepr'><ul><li><details><summary>Image (42 bands)</summary><ul><li><span class='ee-k'>type:</span><span class='ee-v'>Image</span></li><li><details><summary>bands: List (42 elements)</summary><ul><li><details><summary>0: \"full_RED_p5\", double, EPSG:4326</summary><ul><li><span class='ee-k'>id:</span><span class='ee-v'>full_RED_p5</span></li><li><span class='ee-k'>crs:</span><span class='ee-v'>EPSG:4326</span></li><li><details><summary>crs_transform: [1, 0, 0, 0, 1, 0]</summary><ul><li><span class='ee-k'>0:</span><span class='ee-v'>1</span></li><li><span class='ee-k'>1:</span><span class='ee-v'>0</span></li><li><span class='ee-k'>2:</span><span class='ee-v'>0</span></li><li><span class='ee-k'>3:</span><span class='ee-v'>0</span></li><li><span class='ee-k'>4:</span><span class='ee-v'>1</span></li><li><span class='ee-k'>5:</span><span class='ee-v'>0</span></li></ul></details></li><li><details><summary>data_type: double</summary><ul><li><span class='ee-k'>type:</span><span class='ee-v'>PixelType</span></li><li><span class='ee-k'>max:</span><span class='ee-v'>16022.125</span></li><li><span class='ee-k'>min:</span><span class='ee-v'>-2000</span></li><li><span class='ee-k'>precision:</span><span class='ee-v'>double</span></li></ul></details></li></ul></details></li><li><details><summary>1: \"full_RED_p25\", double, EPSG:4326</summary><ul><li><span class='ee-k'>id:</span><span class='ee-v'>full_RED_p25</span></li><li><span class='ee-k'>crs:</span><span class='ee-v'>EPSG:4326</span></li><li><details><summary>crs_transform: [1, 0, 0, 0, 1, 0]</summary><ul><li><span class='ee-k'>0:</span><span class='ee-v'>1</span></li><li><span class='ee-k'>1:</span><span class='ee-v'>0</span></li><li><span class='ee-k'>2:</span><span class='ee-v'>0</span></li><li><span class='ee-k'>3:</span><span class='ee-v'>0</span></li><li><span class='ee-k'>4:</span><span class='ee-v'>1</span></li><li><span class='ee-k'>5:</span><span class='ee-v'>0</span></li></ul></details></li><li><details><summary>data_type: double</summary><ul><li><span class='ee-k'>type:</span><span class='ee-v'>PixelType</span></li><li><span class='ee-k'>max:</span><span class='ee-v'>16022.125</span></li><li><span class='ee-k'>min:</span><span class='ee-v'>-2000</span></li><li><span class='ee-k'>precision:</span><span class='ee-v'>double</span></li></ul></details></li></ul></details></li><li><details><summary>2: \"full_RED_p50\", double, EPSG:4326</summary><ul><li><span class='ee-k'>id:</span><span class='ee-v'>full_RED_p50</span></li><li><span class='ee-k'>crs:</span><span class='ee-v'>EPSG:4326</span></li><li><details><summary>crs_transform: [1, 0, 0, 0, 1, 0]</summary><ul><li><span class='ee-k'>0:</span><span class='ee-v'>1</span></li><li><span class='ee-k'>1:</span><span class='ee-v'>0</span></li><li><span class='ee-k'>2:</span><span class='ee-v'>0</span></li><li><span class='ee-k'>3:</span><span class='ee-v'>0</span></li><li><span class='ee-k'>4:</span><span class='ee-v'>1</span></li><li><span class='ee-k'>5:</span><span class='ee-v'>0</span></li></ul></details></li><li><details><summary>data_type: double</summary><ul><li><span class='ee-k'>type:</span><span class='ee-v'>PixelType</span></li><li><span class='ee-k'>max:</span><span class='ee-v'>16022.125</span></li><li><span class='ee-k'>min:</span><span class='ee-v'>-2000</span></li><li><span class='ee-k'>precision:</span><span class='ee-v'>double</span></li></ul></details></li></ul></details></li><li><details><summary>3: \"full_RED_p75\", double, EPSG:4326</summary><ul><li><span class='ee-k'>id:</span><span class='ee-v'>full_RED_p75</span></li><li><span class='ee-k'>crs:</span><span class='ee-v'>EPSG:4326</span></li><li><details><summary>crs_transform: [1, 0, 0, 0, 1, 0]</summary><ul><li><span class='ee-k'>0:</span><span class='ee-v'>1</span></li><li><span class='ee-k'>1:</span><span class='ee-v'>0</span></li><li><span class='ee-k'>2:</span><span class='ee-v'>0</span></li><li><span class='ee-k'>3:</span><span class='ee-v'>0</span></li><li><span class='ee-k'>4:</span><span class='ee-v'>1</span></li><li><span class='ee-k'>5:</span><span class='ee-v'>0</span></li></ul></details></li><li><details><summary>data_type: double</summary><ul><li><span class='ee-k'>type:</span><span class='ee-v'>PixelType</span></li><li><span class='ee-k'>max:</span><span class='ee-v'>16022.125</span></li><li><span class='ee-k'>min:</span><span class='ee-v'>-2000</span></li><li><span class='ee-k'>precision:</span><span class='ee-v'>double</span></li></ul></details></li></ul></details></li><li><details><summary>4: \"full_RED_p95\", double, EPSG:4326</summary><ul><li><span class='ee-k'>id:</span><span class='ee-v'>full_RED_p95</span></li><li><span class='ee-k'>crs:</span><span class='ee-v'>EPSG:4326</span></li><li><details><summary>crs_transform: [1, 0, 0, 0, 1, 0]</summary><ul><li><span class='ee-k'>0:</span><span class='ee-v'>1</span></li><li><span class='ee-k'>1:</span><span class='ee-v'>0</span></li><li><span class='ee-k'>2:</span><span class='ee-v'>0</span></li><li><span class='ee-k'>3:</span><span class='ee-v'>0</span></li><li><span class='ee-k'>4:</span><span class='ee-v'>1</span></li><li><span class='ee-k'>5:</span><span class='ee-v'>0</span></li></ul></details></li><li><details><summary>data_type: double</summary><ul><li><span class='ee-k'>type:</span><span class='ee-v'>PixelType</span></li><li><span class='ee-k'>max:</span><span class='ee-v'>16022.125</span></li><li><span class='ee-k'>min:</span><span class='ee-v'>-2000</span></li><li><span class='ee-k'>precision:</span><span class='ee-v'>double</span></li></ul></details></li></ul></details></li><li><details><summary>5: \"full_RED_stdDev\", double, EPSG:4326</summary><ul><li><span class='ee-k'>id:</span><span class='ee-v'>full_RED_stdDev</span></li><li><span class='ee-k'>crs:</span><span class='ee-v'>EPSG:4326</span></li><li><details><summary>crs_transform: [1, 0, 0, 0, 1, 0]</summary><ul><li><span class='ee-k'>0:</span><span class='ee-v'>1</span></li><li><span class='ee-k'>1:</span><span class='ee-v'>0</span></li><li><span class='ee-k'>2:</span><span class='ee-v'>0</span></li><li><span class='ee-k'>3:</span><span class='ee-v'>0</span></li><li><span class='ee-k'>4:</span><span class='ee-v'>1</span></li><li><span class='ee-k'>5:</span><span class='ee-v'>0</span></li></ul></details></li><li><details><summary>data_type: double</summary><ul><li><span class='ee-k'>type:</span><span class='ee-v'>PixelType</span></li><li><span class='ee-k'>precision:</span><span class='ee-v'>double</span></li></ul></details></li></ul></details></li><li><details><summary>6: \"full_NIR_p5\", double, EPSG:4326</summary><ul><li><span class='ee-k'>id:</span><span class='ee-v'>full_NIR_p5</span></li><li><span class='ee-k'>crs:</span><span class='ee-v'>EPSG:4326</span></li><li><details><summary>crs_transform: [1, 0, 0, 0, 1, 0]</summary><ul><li><span class='ee-k'>0:</span><span class='ee-v'>1</span></li><li><span class='ee-k'>1:</span><span class='ee-v'>0</span></li><li><span class='ee-k'>2:</span><span class='ee-v'>0</span></li><li><span class='ee-k'>3:</span><span class='ee-v'>0</span></li><li><span class='ee-k'>4:</span><span class='ee-v'>1</span></li><li><span class='ee-k'>5:</span><span class='ee-v'>0</span></li></ul></details></li><li><details><summary>data_type: double</summary><ul><li><span class='ee-k'>type:</span><span class='ee-v'>PixelType</span></li><li><span class='ee-k'>max:</span><span class='ee-v'>16022.125</span></li><li><span class='ee-k'>min:</span><span class='ee-v'>-2000</span></li><li><span class='ee-k'>precision:</span><span class='ee-v'>double</span></li></ul></details></li></ul></details></li><li><details><summary>7: \"full_NIR_p25\", double, EPSG:4326</summary><ul><li><span class='ee-k'>id:</span><span class='ee-v'>full_NIR_p25</span></li><li><span class='ee-k'>crs:</span><span class='ee-v'>EPSG:4326</span></li><li><details><summary>crs_transform: [1, 0, 0, 0, 1, 0]</summary><ul><li><span class='ee-k'>0:</span><span class='ee-v'>1</span></li><li><span class='ee-k'>1:</span><span class='ee-v'>0</span></li><li><span class='ee-k'>2:</span><span class='ee-v'>0</span></li><li><span class='ee-k'>3:</span><span class='ee-v'>0</span></li><li><span class='ee-k'>4:</span><span class='ee-v'>1</span></li><li><span class='ee-k'>5:</span><span class='ee-v'>0</span></li></ul></details></li><li><details><summary>data_type: double</summary><ul><li><span class='ee-k'>type:</span><span class='ee-v'>PixelType</span></li><li><span class='ee-k'>max:</span><span class='ee-v'>16022.125</span></li><li><span class='ee-k'>min:</span><span class='ee-v'>-2000</span></li><li><span class='ee-k'>precision:</span><span class='ee-v'>double</span></li></ul></details></li></ul></details></li><li><details><summary>8: \"full_NIR_p50\", double, EPSG:4326</summary><ul><li><span class='ee-k'>id:</span><span class='ee-v'>full_NIR_p50</span></li><li><span class='ee-k'>crs:</span><span class='ee-v'>EPSG:4326</span></li><li><details><summary>crs_transform: [1, 0, 0, 0, 1, 0]</summary><ul><li><span class='ee-k'>0:</span><span class='ee-v'>1</span></li><li><span class='ee-k'>1:</span><span class='ee-v'>0</span></li><li><span class='ee-k'>2:</span><span class='ee-v'>0</span></li><li><span class='ee-k'>3:</span><span class='ee-v'>0</span></li><li><span class='ee-k'>4:</span><span class='ee-v'>1</span></li><li><span class='ee-k'>5:</span><span class='ee-v'>0</span></li></ul></details></li><li><details><summary>data_type: double</summary><ul><li><span class='ee-k'>type:</span><span class='ee-v'>PixelType</span></li><li><span class='ee-k'>max:</span><span class='ee-v'>16022.125</span></li><li><span class='ee-k'>min:</span><span class='ee-v'>-2000</span></li><li><span class='ee-k'>precision:</span><span class='ee-v'>double</span></li></ul></details></li></ul></details></li><li><details><summary>9: \"full_NIR_p75\", double, EPSG:4326</summary><ul><li><span class='ee-k'>id:</span><span class='ee-v'>full_NIR_p75</span></li><li><span class='ee-k'>crs:</span><span class='ee-v'>EPSG:4326</span></li><li><details><summary>crs_transform: [1, 0, 0, 0, 1, 0]</summary><ul><li><span class='ee-k'>0:</span><span class='ee-v'>1</span></li><li><span class='ee-k'>1:</span><span class='ee-v'>0</span></li><li><span class='ee-k'>2:</span><span class='ee-v'>0</span></li><li><span class='ee-k'>3:</span><span class='ee-v'>0</span></li><li><span class='ee-k'>4:</span><span class='ee-v'>1</span></li><li><span class='ee-k'>5:</span><span class='ee-v'>0</span></li></ul></details></li><li><details><summary>data_type: double</summary><ul><li><span class='ee-k'>type:</span><span class='ee-v'>PixelType</span></li><li><span class='ee-k'>max:</span><span class='ee-v'>16022.125</span></li><li><span class='ee-k'>min:</span><span class='ee-v'>-2000</span></li><li><span class='ee-k'>precision:</span><span class='ee-v'>double</span></li></ul></details></li></ul></details></li><li><details><summary>10: \"full_NIR_p95\", double, EPSG:4326</summary><ul><li><span class='ee-k'>id:</span><span class='ee-v'>full_NIR_p95</span></li><li><span class='ee-k'>crs:</span><span class='ee-v'>EPSG:4326</span></li><li><details><summary>crs_transform: [1, 0, 0, 0, 1, 0]</summary><ul><li><span class='ee-k'>0:</span><span class='ee-v'>1</span></li><li><span class='ee-k'>1:</span><span class='ee-v'>0</span></li><li><span class='ee-k'>2:</span><span class='ee-v'>0</span></li><li><span class='ee-k'>3:</span><span class='ee-v'>0</span></li><li><span class='ee-k'>4:</span><span class='ee-v'>1</span></li><li><span class='ee-k'>5:</span><span class='ee-v'>0</span></li></ul></details></li><li><details><summary>data_type: double</summary><ul><li><span class='ee-k'>type:</span><span class='ee-v'>PixelType</span></li><li><span class='ee-k'>max:</span><span class='ee-v'>16022.125</span></li><li><span class='ee-k'>min:</span><span class='ee-v'>-2000</span></li><li><span class='ee-k'>precision:</span><span class='ee-v'>double</span></li></ul></details></li></ul></details></li><li><details><summary>11: \"full_NIR_stdDev\", double, EPSG:4326</summary><ul><li><span class='ee-k'>id:</span><span class='ee-v'>full_NIR_stdDev</span></li><li><span class='ee-k'>crs:</span><span class='ee-v'>EPSG:4326</span></li><li><details><summary>crs_transform: [1, 0, 0, 0, 1, 0]</summary><ul><li><span class='ee-k'>0:</span><span class='ee-v'>1</span></li><li><span class='ee-k'>1:</span><span class='ee-v'>0</span></li><li><span class='ee-k'>2:</span><span class='ee-v'>0</span></li><li><span class='ee-k'>3:</span><span class='ee-v'>0</span></li><li><span class='ee-k'>4:</span><span class='ee-v'>1</span></li><li><span class='ee-k'>5:</span><span class='ee-v'>0</span></li></ul></details></li><li><details><summary>data_type: double</summary><ul><li><span class='ee-k'>type:</span><span class='ee-v'>PixelType</span></li><li><span class='ee-k'>precision:</span><span class='ee-v'>double</span></li></ul></details></li></ul></details></li><li><details><summary>12: \"full_SW1_p5\", double, EPSG:4326</summary><ul><li><span class='ee-k'>id:</span><span class='ee-v'>full_SW1_p5</span></li><li><span class='ee-k'>crs:</span><span class='ee-v'>EPSG:4326</span></li><li><details><summary>crs_transform: [1, 0, 0, 0, 1, 0]</summary><ul><li><span class='ee-k'>0:</span><span class='ee-v'>1</span></li><li><span class='ee-k'>1:</span><span class='ee-v'>0</span></li><li><span class='ee-k'>2:</span><span class='ee-v'>0</span></li><li><span class='ee-k'>3:</span><span class='ee-v'>0</span></li><li><span class='ee-k'>4:</span><span class='ee-v'>1</span></li><li><span class='ee-k'>5:</span><span class='ee-v'>0</span></li></ul></details></li><li><details><summary>data_type: double</summary><ul><li><span class='ee-k'>type:</span><span class='ee-v'>PixelType</span></li><li><span class='ee-k'>max:</span><span class='ee-v'>16022.125</span></li><li><span class='ee-k'>min:</span><span class='ee-v'>-2000</span></li><li><span class='ee-k'>precision:</span><span class='ee-v'>double</span></li></ul></details></li></ul></details></li><li><details><summary>13: \"full_SW1_p25\", double, EPSG:4326</summary><ul><li><span class='ee-k'>id:</span><span class='ee-v'>full_SW1_p25</span></li><li><span class='ee-k'>crs:</span><span class='ee-v'>EPSG:4326</span></li><li><details><summary>crs_transform: [1, 0, 0, 0, 1, 0]</summary><ul><li><span class='ee-k'>0:</span><span class='ee-v'>1</span></li><li><span class='ee-k'>1:</span><span class='ee-v'>0</span></li><li><span class='ee-k'>2:</span><span class='ee-v'>0</span></li><li><span class='ee-k'>3:</span><span class='ee-v'>0</span></li><li><span class='ee-k'>4:</span><span class='ee-v'>1</span></li><li><span class='ee-k'>5:</span><span class='ee-v'>0</span></li></ul></details></li><li><details><summary>data_type: double</summary><ul><li><span class='ee-k'>type:</span><span class='ee-v'>PixelType</span></li><li><span class='ee-k'>max:</span><span class='ee-v'>16022.125</span></li><li><span class='ee-k'>min:</span><span class='ee-v'>-2000</span></li><li><span class='ee-k'>precision:</span><span class='ee-v'>double</span></li></ul></details></li></ul></details></li><li><details><summary>14: \"full_SW1_p50\", double, EPSG:4326</summary><ul><li><span class='ee-k'>id:</span><span class='ee-v'>full_SW1_p50</span></li><li><span class='ee-k'>crs:</span><span class='ee-v'>EPSG:4326</span></li><li><details><summary>crs_transform: [1, 0, 0, 0, 1, 0]</summary><ul><li><span class='ee-k'>0:</span><span class='ee-v'>1</span></li><li><span class='ee-k'>1:</span><span class='ee-v'>0</span></li><li><span class='ee-k'>2:</span><span class='ee-v'>0</span></li><li><span class='ee-k'>3:</span><span class='ee-v'>0</span></li><li><span class='ee-k'>4:</span><span class='ee-v'>1</span></li><li><span class='ee-k'>5:</span><span class='ee-v'>0</span></li></ul></details></li><li><details><summary>data_type: double</summary><ul><li><span class='ee-k'>type:</span><span class='ee-v'>PixelType</span></li><li><span class='ee-k'>max:</span><span class='ee-v'>16022.125</span></li><li><span class='ee-k'>min:</span><span class='ee-v'>-2000</span></li><li><span class='ee-k'>precision:</span><span class='ee-v'>double</span></li></ul></details></li></ul></details></li><li><details><summary>15: \"full_SW1_p75\", double, EPSG:4326</summary><ul><li><span class='ee-k'>id:</span><span class='ee-v'>full_SW1_p75</span></li><li><span class='ee-k'>crs:</span><span class='ee-v'>EPSG:4326</span></li><li><details><summary>crs_transform: [1, 0, 0, 0, 1, 0]</summary><ul><li><span class='ee-k'>0:</span><span class='ee-v'>1</span></li><li><span class='ee-k'>1:</span><span class='ee-v'>0</span></li><li><span class='ee-k'>2:</span><span class='ee-v'>0</span></li><li><span class='ee-k'>3:</span><span class='ee-v'>0</span></li><li><span class='ee-k'>4:</span><span class='ee-v'>1</span></li><li><span class='ee-k'>5:</span><span class='ee-v'>0</span></li></ul></details></li><li><details><summary>data_type: double</summary><ul><li><span class='ee-k'>type:</span><span class='ee-v'>PixelType</span></li><li><span class='ee-k'>max:</span><span class='ee-v'>16022.125</span></li><li><span class='ee-k'>min:</span><span class='ee-v'>-2000</span></li><li><span class='ee-k'>precision:</span><span class='ee-v'>double</span></li></ul></details></li></ul></details></li><li><details><summary>16: \"full_SW1_p95\", double, EPSG:4326</summary><ul><li><span class='ee-k'>id:</span><span class='ee-v'>full_SW1_p95</span></li><li><span class='ee-k'>crs:</span><span class='ee-v'>EPSG:4326</span></li><li><details><summary>crs_transform: [1, 0, 0, 0, 1, 0]</summary><ul><li><span class='ee-k'>0:</span><span class='ee-v'>1</span></li><li><span class='ee-k'>1:</span><span class='ee-v'>0</span></li><li><span class='ee-k'>2:</span><span class='ee-v'>0</span></li><li><span class='ee-k'>3:</span><span class='ee-v'>0</span></li><li><span class='ee-k'>4:</span><span class='ee-v'>1</span></li><li><span class='ee-k'>5:</span><span class='ee-v'>0</span></li></ul></details></li><li><details><summary>data_type: double</summary><ul><li><span class='ee-k'>type:</span><span class='ee-v'>PixelType</span></li><li><span class='ee-k'>max:</span><span class='ee-v'>16022.125</span></li><li><span class='ee-k'>min:</span><span class='ee-v'>-2000</span></li><li><span class='ee-k'>precision:</span><span class='ee-v'>double</span></li></ul></details></li></ul></details></li><li><details><summary>17: \"full_SW1_stdDev\", double, EPSG:4326</summary><ul><li><span class='ee-k'>id:</span><span class='ee-v'>full_SW1_stdDev</span></li><li><span class='ee-k'>crs:</span><span class='ee-v'>EPSG:4326</span></li><li><details><summary>crs_transform: [1, 0, 0, 0, 1, 0]</summary><ul><li><span class='ee-k'>0:</span><span class='ee-v'>1</span></li><li><span class='ee-k'>1:</span><span class='ee-v'>0</span></li><li><span class='ee-k'>2:</span><span class='ee-v'>0</span></li><li><span class='ee-k'>3:</span><span class='ee-v'>0</span></li><li><span class='ee-k'>4:</span><span class='ee-v'>1</span></li><li><span class='ee-k'>5:</span><span class='ee-v'>0</span></li></ul></details></li><li><details><summary>data_type: double</summary><ul><li><span class='ee-k'>type:</span><span class='ee-v'>PixelType</span></li><li><span class='ee-k'>precision:</span><span class='ee-v'>double</span></li></ul></details></li></ul></details></li><li><details><summary>18: \"full_SW2_p5\", double, EPSG:4326</summary><ul><li><span class='ee-k'>id:</span><span class='ee-v'>full_SW2_p5</span></li><li><span class='ee-k'>crs:</span><span class='ee-v'>EPSG:4326</span></li><li><details><summary>crs_transform: [1, 0, 0, 0, 1, 0]</summary><ul><li><span class='ee-k'>0:</span><span class='ee-v'>1</span></li><li><span class='ee-k'>1:</span><span class='ee-v'>0</span></li><li><span class='ee-k'>2:</span><span class='ee-v'>0</span></li><li><span class='ee-k'>3:</span><span class='ee-v'>0</span></li><li><span class='ee-k'>4:</span><span class='ee-v'>1</span></li><li><span class='ee-k'>5:</span><span class='ee-v'>0</span></li></ul></details></li><li><details><summary>data_type: double</summary><ul><li><span class='ee-k'>type:</span><span class='ee-v'>PixelType</span></li><li><span class='ee-k'>max:</span><span class='ee-v'>16022.125</span></li><li><span class='ee-k'>min:</span><span class='ee-v'>-2000</span></li><li><span class='ee-k'>precision:</span><span class='ee-v'>double</span></li></ul></details></li></ul></details></li><li><details><summary>19: \"full_SW2_p25\", double, EPSG:4326</summary><ul><li><span class='ee-k'>id:</span><span class='ee-v'>full_SW2_p25</span></li><li><span class='ee-k'>crs:</span><span class='ee-v'>EPSG:4326</span></li><li><details><summary>crs_transform: [1, 0, 0, 0, 1, 0]</summary><ul><li><span class='ee-k'>0:</span><span class='ee-v'>1</span></li><li><span class='ee-k'>1:</span><span class='ee-v'>0</span></li><li><span class='ee-k'>2:</span><span class='ee-v'>0</span></li><li><span class='ee-k'>3:</span><span class='ee-v'>0</span></li><li><span class='ee-k'>4:</span><span class='ee-v'>1</span></li><li><span class='ee-k'>5:</span><span class='ee-v'>0</span></li></ul></details></li><li><details><summary>data_type: double</summary><ul><li><span class='ee-k'>type:</span><span class='ee-v'>PixelType</span></li><li><span class='ee-k'>max:</span><span class='ee-v'>16022.125</span></li><li><span class='ee-k'>min:</span><span class='ee-v'>-2000</span></li><li><span class='ee-k'>precision:</span><span class='ee-v'>double</span></li></ul></details></li></ul></details></li><li><details><summary>20: \"full_SW2_p50\", double, EPSG:4326</summary><ul><li><span class='ee-k'>id:</span><span class='ee-v'>full_SW2_p50</span></li><li><span class='ee-k'>crs:</span><span class='ee-v'>EPSG:4326</span></li><li><details><summary>crs_transform: [1, 0, 0, 0, 1, 0]</summary><ul><li><span class='ee-k'>0:</span><span class='ee-v'>1</span></li><li><span class='ee-k'>1:</span><span class='ee-v'>0</span></li><li><span class='ee-k'>2:</span><span class='ee-v'>0</span></li><li><span class='ee-k'>3:</span><span class='ee-v'>0</span></li><li><span class='ee-k'>4:</span><span class='ee-v'>1</span></li><li><span class='ee-k'>5:</span><span class='ee-v'>0</span></li></ul></details></li><li><details><summary>data_type: double</summary><ul><li><span class='ee-k'>type:</span><span class='ee-v'>PixelType</span></li><li><span class='ee-k'>max:</span><span class='ee-v'>16022.125</span></li><li><span class='ee-k'>min:</span><span class='ee-v'>-2000</span></li><li><span class='ee-k'>precision:</span><span class='ee-v'>double</span></li></ul></details></li></ul></details></li><li><details><summary>21: \"full_SW2_p75\", double, EPSG:4326</summary><ul><li><span class='ee-k'>id:</span><span class='ee-v'>full_SW2_p75</span></li><li><span class='ee-k'>crs:</span><span class='ee-v'>EPSG:4326</span></li><li><details><summary>crs_transform: [1, 0, 0, 0, 1, 0]</summary><ul><li><span class='ee-k'>0:</span><span class='ee-v'>1</span></li><li><span class='ee-k'>1:</span><span class='ee-v'>0</span></li><li><span class='ee-k'>2:</span><span class='ee-v'>0</span></li><li><span class='ee-k'>3:</span><span class='ee-v'>0</span></li><li><span class='ee-k'>4:</span><span class='ee-v'>1</span></li><li><span class='ee-k'>5:</span><span class='ee-v'>0</span></li></ul></details></li><li><details><summary>data_type: double</summary><ul><li><span class='ee-k'>type:</span><span class='ee-v'>PixelType</span></li><li><span class='ee-k'>max:</span><span class='ee-v'>16022.125</span></li><li><span class='ee-k'>min:</span><span class='ee-v'>-2000</span></li><li><span class='ee-k'>precision:</span><span class='ee-v'>double</span></li></ul></details></li></ul></details></li><li><details><summary>22: \"full_SW2_p95\", double, EPSG:4326</summary><ul><li><span class='ee-k'>id:</span><span class='ee-v'>full_SW2_p95</span></li><li><span class='ee-k'>crs:</span><span class='ee-v'>EPSG:4326</span></li><li><details><summary>crs_transform: [1, 0, 0, 0, 1, 0]</summary><ul><li><span class='ee-k'>0:</span><span class='ee-v'>1</span></li><li><span class='ee-k'>1:</span><span class='ee-v'>0</span></li><li><span class='ee-k'>2:</span><span class='ee-v'>0</span></li><li><span class='ee-k'>3:</span><span class='ee-v'>0</span></li><li><span class='ee-k'>4:</span><span class='ee-v'>1</span></li><li><span class='ee-k'>5:</span><span class='ee-v'>0</span></li></ul></details></li><li><details><summary>data_type: double</summary><ul><li><span class='ee-k'>type:</span><span class='ee-v'>PixelType</span></li><li><span class='ee-k'>max:</span><span class='ee-v'>16022.125</span></li><li><span class='ee-k'>min:</span><span class='ee-v'>-2000</span></li><li><span class='ee-k'>precision:</span><span class='ee-v'>double</span></li></ul></details></li></ul></details></li><li><details><summary>23: \"full_SW2_stdDev\", double, EPSG:4326</summary><ul><li><span class='ee-k'>id:</span><span class='ee-v'>full_SW2_stdDev</span></li><li><span class='ee-k'>crs:</span><span class='ee-v'>EPSG:4326</span></li><li><details><summary>crs_transform: [1, 0, 0, 0, 1, 0]</summary><ul><li><span class='ee-k'>0:</span><span class='ee-v'>1</span></li><li><span class='ee-k'>1:</span><span class='ee-v'>0</span></li><li><span class='ee-k'>2:</span><span class='ee-v'>0</span></li><li><span class='ee-k'>3:</span><span class='ee-v'>0</span></li><li><span class='ee-k'>4:</span><span class='ee-v'>1</span></li><li><span class='ee-k'>5:</span><span class='ee-v'>0</span></li></ul></details></li><li><details><summary>data_type: double</summary><ul><li><span class='ee-k'>type:</span><span class='ee-v'>PixelType</span></li><li><span class='ee-k'>precision:</span><span class='ee-v'>double</span></li></ul></details></li></ul></details></li><li><details><summary>24: \"full_NDVI_p5\", float, EPSG:4326</summary><ul><li><span class='ee-k'>id:</span><span class='ee-v'>full_NDVI_p5</span></li><li><span class='ee-k'>crs:</span><span class='ee-v'>EPSG:4326</span></li><li><details><summary>crs_transform: [1, 0, 0, 0, 1, 0]</summary><ul><li><span class='ee-k'>0:</span><span class='ee-v'>1</span></li><li><span class='ee-k'>1:</span><span class='ee-v'>0</span></li><li><span class='ee-k'>2:</span><span class='ee-v'>0</span></li><li><span class='ee-k'>3:</span><span class='ee-v'>0</span></li><li><span class='ee-k'>4:</span><span class='ee-v'>1</span></li><li><span class='ee-k'>5:</span><span class='ee-v'>0</span></li></ul></details></li><li><details><summary>data_type: float</summary><ul><li><span class='ee-k'>type:</span><span class='ee-v'>PixelType</span></li><li><span class='ee-k'>max:</span><span class='ee-v'>10000</span></li><li><span class='ee-k'>min:</span><span class='ee-v'>-10000</span></li><li><span class='ee-k'>precision:</span><span class='ee-v'>float</span></li></ul></details></li></ul></details></li><li><details><summary>25: \"full_NDVI_p25\", float, EPSG:4326</summary><ul><li><span class='ee-k'>id:</span><span class='ee-v'>full_NDVI_p25</span></li><li><span class='ee-k'>crs:</span><span class='ee-v'>EPSG:4326</span></li><li><details><summary>crs_transform: [1, 0, 0, 0, 1, 0]</summary><ul><li><span class='ee-k'>0:</span><span class='ee-v'>1</span></li><li><span class='ee-k'>1:</span><span class='ee-v'>0</span></li><li><span class='ee-k'>2:</span><span class='ee-v'>0</span></li><li><span class='ee-k'>3:</span><span class='ee-v'>0</span></li><li><span class='ee-k'>4:</span><span class='ee-v'>1</span></li><li><span class='ee-k'>5:</span><span class='ee-v'>0</span></li></ul></details></li><li><details><summary>data_type: float</summary><ul><li><span class='ee-k'>type:</span><span class='ee-v'>PixelType</span></li><li><span class='ee-k'>max:</span><span class='ee-v'>10000</span></li><li><span class='ee-k'>min:</span><span class='ee-v'>-10000</span></li><li><span class='ee-k'>precision:</span><span class='ee-v'>float</span></li></ul></details></li></ul></details></li><li><details><summary>26: \"full_NDVI_p50\", float, EPSG:4326</summary><ul><li><span class='ee-k'>id:</span><span class='ee-v'>full_NDVI_p50</span></li><li><span class='ee-k'>crs:</span><span class='ee-v'>EPSG:4326</span></li><li><details><summary>crs_transform: [1, 0, 0, 0, 1, 0]</summary><ul><li><span class='ee-k'>0:</span><span class='ee-v'>1</span></li><li><span class='ee-k'>1:</span><span class='ee-v'>0</span></li><li><span class='ee-k'>2:</span><span class='ee-v'>0</span></li><li><span class='ee-k'>3:</span><span class='ee-v'>0</span></li><li><span class='ee-k'>4:</span><span class='ee-v'>1</span></li><li><span class='ee-k'>5:</span><span class='ee-v'>0</span></li></ul></details></li><li><details><summary>data_type: float</summary><ul><li><span class='ee-k'>type:</span><span class='ee-v'>PixelType</span></li><li><span class='ee-k'>max:</span><span class='ee-v'>10000</span></li><li><span class='ee-k'>min:</span><span class='ee-v'>-10000</span></li><li><span class='ee-k'>precision:</span><span class='ee-v'>float</span></li></ul></details></li></ul></details></li><li><details><summary>27: \"full_NDVI_p75\", float, EPSG:4326</summary><ul><li><span class='ee-k'>id:</span><span class='ee-v'>full_NDVI_p75</span></li><li><span class='ee-k'>crs:</span><span class='ee-v'>EPSG:4326</span></li><li><details><summary>crs_transform: [1, 0, 0, 0, 1, 0]</summary><ul><li><span class='ee-k'>0:</span><span class='ee-v'>1</span></li><li><span class='ee-k'>1:</span><span class='ee-v'>0</span></li><li><span class='ee-k'>2:</span><span class='ee-v'>0</span></li><li><span class='ee-k'>3:</span><span class='ee-v'>0</span></li><li><span class='ee-k'>4:</span><span class='ee-v'>1</span></li><li><span class='ee-k'>5:</span><span class='ee-v'>0</span></li></ul></details></li><li><details><summary>data_type: float</summary><ul><li><span class='ee-k'>type:</span><span class='ee-v'>PixelType</span></li><li><span class='ee-k'>max:</span><span class='ee-v'>10000</span></li><li><span class='ee-k'>min:</span><span class='ee-v'>-10000</span></li><li><span class='ee-k'>precision:</span><span class='ee-v'>float</span></li></ul></details></li></ul></details></li><li><details><summary>28: \"full_NDVI_p95\", float, EPSG:4326</summary><ul><li><span class='ee-k'>id:</span><span class='ee-v'>full_NDVI_p95</span></li><li><span class='ee-k'>crs:</span><span class='ee-v'>EPSG:4326</span></li><li><details><summary>crs_transform: [1, 0, 0, 0, 1, 0]</summary><ul><li><span class='ee-k'>0:</span><span class='ee-v'>1</span></li><li><span class='ee-k'>1:</span><span class='ee-v'>0</span></li><li><span class='ee-k'>2:</span><span class='ee-v'>0</span></li><li><span class='ee-k'>3:</span><span class='ee-v'>0</span></li><li><span class='ee-k'>4:</span><span class='ee-v'>1</span></li><li><span class='ee-k'>5:</span><span class='ee-v'>0</span></li></ul></details></li><li><details><summary>data_type: float</summary><ul><li><span class='ee-k'>type:</span><span class='ee-v'>PixelType</span></li><li><span class='ee-k'>max:</span><span class='ee-v'>10000</span></li><li><span class='ee-k'>min:</span><span class='ee-v'>-10000</span></li><li><span class='ee-k'>precision:</span><span class='ee-v'>float</span></li></ul></details></li></ul></details></li><li><details><summary>29: \"full_NDVI_stdDev\", double, EPSG:4326</summary><ul><li><span class='ee-k'>id:</span><span class='ee-v'>full_NDVI_stdDev</span></li><li><span class='ee-k'>crs:</span><span class='ee-v'>EPSG:4326</span></li><li><details><summary>crs_transform: [1, 0, 0, 0, 1, 0]</summary><ul><li><span class='ee-k'>0:</span><span class='ee-v'>1</span></li><li><span class='ee-k'>1:</span><span class='ee-v'>0</span></li><li><span class='ee-k'>2:</span><span class='ee-v'>0</span></li><li><span class='ee-k'>3:</span><span class='ee-v'>0</span></li><li><span class='ee-k'>4:</span><span class='ee-v'>1</span></li><li><span class='ee-k'>5:</span><span class='ee-v'>0</span></li></ul></details></li><li><details><summary>data_type: double</summary><ul><li><span class='ee-k'>type:</span><span class='ee-v'>PixelType</span></li><li><span class='ee-k'>precision:</span><span class='ee-v'>double</span></li></ul></details></li></ul></details></li><li><details><summary>30: \"full_NBR_p5\", float, EPSG:4326</summary><ul><li><span class='ee-k'>id:</span><span class='ee-v'>full_NBR_p5</span></li><li><span class='ee-k'>crs:</span><span class='ee-v'>EPSG:4326</span></li><li><details><summary>crs_transform: [1, 0, 0, 0, 1, 0]</summary><ul><li><span class='ee-k'>0:</span><span class='ee-v'>1</span></li><li><span class='ee-k'>1:</span><span class='ee-v'>0</span></li><li><span class='ee-k'>2:</span><span class='ee-v'>0</span></li><li><span class='ee-k'>3:</span><span class='ee-v'>0</span></li><li><span class='ee-k'>4:</span><span class='ee-v'>1</span></li><li><span class='ee-k'>5:</span><span class='ee-v'>0</span></li></ul></details></li><li><details><summary>data_type: float</summary><ul><li><span class='ee-k'>type:</span><span class='ee-v'>PixelType</span></li><li><span class='ee-k'>max:</span><span class='ee-v'>10000</span></li><li><span class='ee-k'>min:</span><span class='ee-v'>-10000</span></li><li><span class='ee-k'>precision:</span><span class='ee-v'>float</span></li></ul></details></li></ul></details></li><li><details><summary>31: \"full_NBR_p25\", float, EPSG:4326</summary><ul><li><span class='ee-k'>id:</span><span class='ee-v'>full_NBR_p25</span></li><li><span class='ee-k'>crs:</span><span class='ee-v'>EPSG:4326</span></li><li><details><summary>crs_transform: [1, 0, 0, 0, 1, 0]</summary><ul><li><span class='ee-k'>0:</span><span class='ee-v'>1</span></li><li><span class='ee-k'>1:</span><span class='ee-v'>0</span></li><li><span class='ee-k'>2:</span><span class='ee-v'>0</span></li><li><span class='ee-k'>3:</span><span class='ee-v'>0</span></li><li><span class='ee-k'>4:</span><span class='ee-v'>1</span></li><li><span class='ee-k'>5:</span><span class='ee-v'>0</span></li></ul></details></li><li><details><summary>data_type: float</summary><ul><li><span class='ee-k'>type:</span><span class='ee-v'>PixelType</span></li><li><span class='ee-k'>max:</span><span class='ee-v'>10000</span></li><li><span class='ee-k'>min:</span><span class='ee-v'>-10000</span></li><li><span class='ee-k'>precision:</span><span class='ee-v'>float</span></li></ul></details></li></ul></details></li><li><details><summary>32: \"full_NBR_p50\", float, EPSG:4326</summary><ul><li><span class='ee-k'>id:</span><span class='ee-v'>full_NBR_p50</span></li><li><span class='ee-k'>crs:</span><span class='ee-v'>EPSG:4326</span></li><li><details><summary>crs_transform: [1, 0, 0, 0, 1, 0]</summary><ul><li><span class='ee-k'>0:</span><span class='ee-v'>1</span></li><li><span class='ee-k'>1:</span><span class='ee-v'>0</span></li><li><span class='ee-k'>2:</span><span class='ee-v'>0</span></li><li><span class='ee-k'>3:</span><span class='ee-v'>0</span></li><li><span class='ee-k'>4:</span><span class='ee-v'>1</span></li><li><span class='ee-k'>5:</span><span class='ee-v'>0</span></li></ul></details></li><li><details><summary>data_type: float</summary><ul><li><span class='ee-k'>type:</span><span class='ee-v'>PixelType</span></li><li><span class='ee-k'>max:</span><span class='ee-v'>10000</span></li><li><span class='ee-k'>min:</span><span class='ee-v'>-10000</span></li><li><span class='ee-k'>precision:</span><span class='ee-v'>float</span></li></ul></details></li></ul></details></li><li><details><summary>33: \"full_NBR_p75\", float, EPSG:4326</summary><ul><li><span class='ee-k'>id:</span><span class='ee-v'>full_NBR_p75</span></li><li><span class='ee-k'>crs:</span><span class='ee-v'>EPSG:4326</span></li><li><details><summary>crs_transform: [1, 0, 0, 0, 1, 0]</summary><ul><li><span class='ee-k'>0:</span><span class='ee-v'>1</span></li><li><span class='ee-k'>1:</span><span class='ee-v'>0</span></li><li><span class='ee-k'>2:</span><span class='ee-v'>0</span></li><li><span class='ee-k'>3:</span><span class='ee-v'>0</span></li><li><span class='ee-k'>4:</span><span class='ee-v'>1</span></li><li><span class='ee-k'>5:</span><span class='ee-v'>0</span></li></ul></details></li><li><details><summary>data_type: float</summary><ul><li><span class='ee-k'>type:</span><span class='ee-v'>PixelType</span></li><li><span class='ee-k'>max:</span><span class='ee-v'>10000</span></li><li><span class='ee-k'>min:</span><span class='ee-v'>-10000</span></li><li><span class='ee-k'>precision:</span><span class='ee-v'>float</span></li></ul></details></li></ul></details></li><li><details><summary>34: \"full_NBR_p95\", float, EPSG:4326</summary><ul><li><span class='ee-k'>id:</span><span class='ee-v'>full_NBR_p95</span></li><li><span class='ee-k'>crs:</span><span class='ee-v'>EPSG:4326</span></li><li><details><summary>crs_transform: [1, 0, 0, 0, 1, 0]</summary><ul><li><span class='ee-k'>0:</span><span class='ee-v'>1</span></li><li><span class='ee-k'>1:</span><span class='ee-v'>0</span></li><li><span class='ee-k'>2:</span><span class='ee-v'>0</span></li><li><span class='ee-k'>3:</span><span class='ee-v'>0</span></li><li><span class='ee-k'>4:</span><span class='ee-v'>1</span></li><li><span class='ee-k'>5:</span><span class='ee-v'>0</span></li></ul></details></li><li><details><summary>data_type: float</summary><ul><li><span class='ee-k'>type:</span><span class='ee-v'>PixelType</span></li><li><span class='ee-k'>max:</span><span class='ee-v'>10000</span></li><li><span class='ee-k'>min:</span><span class='ee-v'>-10000</span></li><li><span class='ee-k'>precision:</span><span class='ee-v'>float</span></li></ul></details></li></ul></details></li><li><details><summary>35: \"full_NBR_stdDev\", double, EPSG:4326</summary><ul><li><span class='ee-k'>id:</span><span class='ee-v'>full_NBR_stdDev</span></li><li><span class='ee-k'>crs:</span><span class='ee-v'>EPSG:4326</span></li><li><details><summary>crs_transform: [1, 0, 0, 0, 1, 0]</summary><ul><li><span class='ee-k'>0:</span><span class='ee-v'>1</span></li><li><span class='ee-k'>1:</span><span class='ee-v'>0</span></li><li><span class='ee-k'>2:</span><span class='ee-v'>0</span></li><li><span class='ee-k'>3:</span><span class='ee-v'>0</span></li><li><span class='ee-k'>4:</span><span class='ee-v'>1</span></li><li><span class='ee-k'>5:</span><span class='ee-v'>0</span></li></ul></details></li><li><details><summary>data_type: double</summary><ul><li><span class='ee-k'>type:</span><span class='ee-v'>PixelType</span></li><li><span class='ee-k'>precision:</span><span class='ee-v'>double</span></li></ul></details></li></ul></details></li><li><details><summary>36: \"full_MDWI_p5\", float, EPSG:4326</summary><ul><li><span class='ee-k'>id:</span><span class='ee-v'>full_MDWI_p5</span></li><li><span class='ee-k'>crs:</span><span class='ee-v'>EPSG:4326</span></li><li><details><summary>crs_transform: [1, 0, 0, 0, 1, 0]</summary><ul><li><span class='ee-k'>0:</span><span class='ee-v'>1</span></li><li><span class='ee-k'>1:</span><span class='ee-v'>0</span></li><li><span class='ee-k'>2:</span><span class='ee-v'>0</span></li><li><span class='ee-k'>3:</span><span class='ee-v'>0</span></li><li><span class='ee-k'>4:</span><span class='ee-v'>1</span></li><li><span class='ee-k'>5:</span><span class='ee-v'>0</span></li></ul></details></li><li><details><summary>data_type: float</summary><ul><li><span class='ee-k'>type:</span><span class='ee-v'>PixelType</span></li><li><span class='ee-k'>max:</span><span class='ee-v'>10000</span></li><li><span class='ee-k'>min:</span><span class='ee-v'>-10000</span></li><li><span class='ee-k'>precision:</span><span class='ee-v'>float</span></li></ul></details></li></ul></details></li><li><details><summary>37: \"full_MDWI_p25\", float, EPSG:4326</summary><ul><li><span class='ee-k'>id:</span><span class='ee-v'>full_MDWI_p25</span></li><li><span class='ee-k'>crs:</span><span class='ee-v'>EPSG:4326</span></li><li><details><summary>crs_transform: [1, 0, 0, 0, 1, 0]</summary><ul><li><span class='ee-k'>0:</span><span class='ee-v'>1</span></li><li><span class='ee-k'>1:</span><span class='ee-v'>0</span></li><li><span class='ee-k'>2:</span><span class='ee-v'>0</span></li><li><span class='ee-k'>3:</span><span class='ee-v'>0</span></li><li><span class='ee-k'>4:</span><span class='ee-v'>1</span></li><li><span class='ee-k'>5:</span><span class='ee-v'>0</span></li></ul></details></li><li><details><summary>data_type: float</summary><ul><li><span class='ee-k'>type:</span><span class='ee-v'>PixelType</span></li><li><span class='ee-k'>max:</span><span class='ee-v'>10000</span></li><li><span class='ee-k'>min:</span><span class='ee-v'>-10000</span></li><li><span class='ee-k'>precision:</span><span class='ee-v'>float</span></li></ul></details></li></ul></details></li><li><details><summary>38: \"full_MDWI_p50\", float, EPSG:4326</summary><ul><li><span class='ee-k'>id:</span><span class='ee-v'>full_MDWI_p50</span></li><li><span class='ee-k'>crs:</span><span class='ee-v'>EPSG:4326</span></li><li><details><summary>crs_transform: [1, 0, 0, 0, 1, 0]</summary><ul><li><span class='ee-k'>0:</span><span class='ee-v'>1</span></li><li><span class='ee-k'>1:</span><span class='ee-v'>0</span></li><li><span class='ee-k'>2:</span><span class='ee-v'>0</span></li><li><span class='ee-k'>3:</span><span class='ee-v'>0</span></li><li><span class='ee-k'>4:</span><span class='ee-v'>1</span></li><li><span class='ee-k'>5:</span><span class='ee-v'>0</span></li></ul></details></li><li><details><summary>data_type: float</summary><ul><li><span class='ee-k'>type:</span><span class='ee-v'>PixelType</span></li><li><span class='ee-k'>max:</span><span class='ee-v'>10000</span></li><li><span class='ee-k'>min:</span><span class='ee-v'>-10000</span></li><li><span class='ee-k'>precision:</span><span class='ee-v'>float</span></li></ul></details></li></ul></details></li><li><details><summary>39: \"full_MDWI_p75\", float, EPSG:4326</summary><ul><li><span class='ee-k'>id:</span><span class='ee-v'>full_MDWI_p75</span></li><li><span class='ee-k'>crs:</span><span class='ee-v'>EPSG:4326</span></li><li><details><summary>crs_transform: [1, 0, 0, 0, 1, 0]</summary><ul><li><span class='ee-k'>0:</span><span class='ee-v'>1</span></li><li><span class='ee-k'>1:</span><span class='ee-v'>0</span></li><li><span class='ee-k'>2:</span><span class='ee-v'>0</span></li><li><span class='ee-k'>3:</span><span class='ee-v'>0</span></li><li><span class='ee-k'>4:</span><span class='ee-v'>1</span></li><li><span class='ee-k'>5:</span><span class='ee-v'>0</span></li></ul></details></li><li><details><summary>data_type: float</summary><ul><li><span class='ee-k'>type:</span><span class='ee-v'>PixelType</span></li><li><span class='ee-k'>max:</span><span class='ee-v'>10000</span></li><li><span class='ee-k'>min:</span><span class='ee-v'>-10000</span></li><li><span class='ee-k'>precision:</span><span class='ee-v'>float</span></li></ul></details></li></ul></details></li><li><details><summary>40: \"full_MDWI_p95\", float, EPSG:4326</summary><ul><li><span class='ee-k'>id:</span><span class='ee-v'>full_MDWI_p95</span></li><li><span class='ee-k'>crs:</span><span class='ee-v'>EPSG:4326</span></li><li><details><summary>crs_transform: [1, 0, 0, 0, 1, 0]</summary><ul><li><span class='ee-k'>0:</span><span class='ee-v'>1</span></li><li><span class='ee-k'>1:</span><span class='ee-v'>0</span></li><li><span class='ee-k'>2:</span><span class='ee-v'>0</span></li><li><span class='ee-k'>3:</span><span class='ee-v'>0</span></li><li><span class='ee-k'>4:</span><span class='ee-v'>1</span></li><li><span class='ee-k'>5:</span><span class='ee-v'>0</span></li></ul></details></li><li><details><summary>data_type: float</summary><ul><li><span class='ee-k'>type:</span><span class='ee-v'>PixelType</span></li><li><span class='ee-k'>max:</span><span class='ee-v'>10000</span></li><li><span class='ee-k'>min:</span><span class='ee-v'>-10000</span></li><li><span class='ee-k'>precision:</span><span class='ee-v'>float</span></li></ul></details></li></ul></details></li><li><details><summary>41: \"full_MDWI_stdDev\", double, EPSG:4326</summary><ul><li><span class='ee-k'>id:</span><span class='ee-v'>full_MDWI_stdDev</span></li><li><span class='ee-k'>crs:</span><span class='ee-v'>EPSG:4326</span></li><li><details><summary>crs_transform: [1, 0, 0, 0, 1, 0]</summary><ul><li><span class='ee-k'>0:</span><span class='ee-v'>1</span></li><li><span class='ee-k'>1:</span><span class='ee-v'>0</span></li><li><span class='ee-k'>2:</span><span class='ee-v'>0</span></li><li><span class='ee-k'>3:</span><span class='ee-v'>0</span></li><li><span class='ee-k'>4:</span><span class='ee-v'>1</span></li><li><span class='ee-k'>5:</span><span class='ee-v'>0</span></li></ul></details></li><li><details><summary>data_type: double</summary><ul><li><span class='ee-k'>type:</span><span class='ee-v'>PixelType</span></li><li><span class='ee-k'>precision:</span><span class='ee-v'>double</span></li></ul></details></li></ul></details></li></ul></details></li></ul></details></li></ul></div></div>"
      ],
      "text/plain": [
       "<ee.image.Image at 0x16ca1c510>"
      ]
     },
     "execution_count": 28,
     "metadata": {},
     "output_type": "execute_result"
    }
   ],
   "source": [
    "prm_lc_mapping = {\n",
    "    'YEAR_MIN': 2017,\n",
    "    'YEAR_MAX': 2019,\n",
    "    'ROI': roi,\n",
    "    'SENSORS': ['L7', 'L8', 'L9'],\n",
    "    'MASKS_LANDSAT': ['cloud', 'cshadow', 'fill', 'dilated'],\n",
    "    'FEATURES': ['RED', 'NIR', 'SW1', 'SW2', 'NDVI', 'NBR', 'MDWI'],\n",
    "    'FOLD_CUSTOM': {'month': ['3-5', '6-8', '9-11']},  # spring, summer, autumn\n",
    "    'STM': ['p5', 'p25', 'p50', 'p75', 'p95', 'stdDev'],\n",
    "    'STM_FOLDING': False,\n",
    "    'RESAMPLING_METHOD': 'bilinear',\n",
    "}\n",
    "\n",
    "# run\n",
    "full_run_lc = geeo.run_param(prm_lc_mapping)\n",
    "full_STM = full_run_lc['STM']  # get STM\n",
    "initial_bandnames = full_STM.bandNames().getInfo()  # get band names\n",
    "new_bandnames = [f'full_{b}' if not b.startswith('full_') else b for b in initial_bandnames]  # adjust to match the RF model\n",
    "full_STM = full_STM.multiply(10000).rename(new_bandnames)  # rename bands\n",
    "full_STM"
   ]
  },
  {
   "cell_type": "markdown",
   "id": "055f0fea",
   "metadata": {},
   "source": [
    "### Sub-Seasons"
   ]
  },
  {
   "cell_type": "code",
   "execution_count": 29,
   "id": "b106058a",
   "metadata": {},
   "outputs": [
    {
     "data": {
      "text/html": [
       "\n",
       "            <style>\n",
       "                .geemap-dark {\n",
       "                    --jp-widgets-color: white;\n",
       "                    --jp-widgets-label-color: white;\n",
       "                    --jp-ui-font-color1: white;\n",
       "                    --jp-layout-color2: #454545;\n",
       "                    background-color: #383838;\n",
       "                }\n",
       "\n",
       "                .geemap-dark .jupyter-button {\n",
       "                    --jp-layout-color3: #383838;\n",
       "                }\n",
       "\n",
       "                .geemap-colab {\n",
       "                    background-color: var(--colab-primary-surface-color, white);\n",
       "                }\n",
       "\n",
       "                .geemap-colab .jupyter-button {\n",
       "                    --jp-layout-color3: var(--colab-primary-surface-color, white);\n",
       "                }\n",
       "            </style>\n",
       "            "
      ],
      "text/plain": [
       "<IPython.core.display.HTML object>"
      ]
     },
     "metadata": {},
     "output_type": "display_data"
    }
   ],
   "source": [
    "prm_lc_mapping.update({'STM_FOLDING': True})\n",
    "\n",
    "# run\n",
    "seasonal_run_lc = geeo.run_param(prm_lc_mapping)\n",
    "seasonal_STM = seasonal_run_lc['STM']  # get STM\n",
    "\n",
    "# rename bands to match RF model\n",
    "season_prefixes = ['spring', 'summer', 'autumn']\n",
    "\n",
    "def set_season_index(img, idx):\n",
    "    return img.set('system:index', season_prefixes[idx])\n",
    "\n",
    "images = seasonal_STM.toList(seasonal_STM.size())\n",
    "seasonal_STM = ee.ImageCollection([\n",
    "    set_season_index(ee.Image(images.get(i)), i)\n",
    "    for i in range(3)\n",
    "])\n",
    "\n",
    "seasonal_STM = seasonal_STM.toBands().multiply(10000)  # scale to match int16 stored in model\n",
    "#seasonal_STM"
   ]
  },
  {
   "cell_type": "markdown",
   "id": "6fdb2033",
   "metadata": {},
   "source": [
    "### DEM and CHELSA Bioclim"
   ]
  },
  {
   "cell_type": "code",
   "execution_count": 30,
   "id": "c7e979dc",
   "metadata": {},
   "outputs": [
    {
     "data": {
      "text/html": [
       "\n",
       "            <style>\n",
       "                .geemap-dark {\n",
       "                    --jp-widgets-color: white;\n",
       "                    --jp-widgets-label-color: white;\n",
       "                    --jp-ui-font-color1: white;\n",
       "                    --jp-layout-color2: #454545;\n",
       "                    background-color: #383838;\n",
       "                }\n",
       "\n",
       "                .geemap-dark .jupyter-button {\n",
       "                    --jp-layout-color3: #383838;\n",
       "                }\n",
       "\n",
       "                .geemap-colab {\n",
       "                    background-color: var(--colab-primary-surface-color, white);\n",
       "                }\n",
       "\n",
       "                .geemap-colab .jupyter-button {\n",
       "                    --jp-layout-color3: var(--colab-primary-surface-color, white);\n",
       "                }\n",
       "            </style>\n",
       "            "
      ],
      "text/plain": [
       "<IPython.core.display.HTML object>"
      ]
     },
     "metadata": {},
     "output_type": "display_data"
    }
   ],
   "source": [
    "dem = ee.ImageCollection('COPERNICUS/DEM/GLO30').filterBounds(full_run_lc['ROI_GEOM']).select('DEM')\n",
    "dem = ee.Image(dem.mosaic().set('system:time_start', dem.first().get('system:time_start'))).setDefaultProjection(ee.Projection('EPSG:3857'), scale=30)\n",
    "dem = dem.addBands(ee.Terrain.slope(dem).rename('slope'))\n",
    "chelsa = ee.Image('projects/eeleeon/assets/CHELSA/CHELSA_BIOCLIM_1981-2010_V21')"
   ]
  },
  {
   "cell_type": "markdown",
   "id": "1c2160ee",
   "metadata": {},
   "source": [
    "### Combine into one image"
   ]
  },
  {
   "cell_type": "code",
   "execution_count": 31,
   "id": "f6ccbcd0",
   "metadata": {},
   "outputs": [
    {
     "data": {
      "text/html": [
       "\n",
       "            <style>\n",
       "                .geemap-dark {\n",
       "                    --jp-widgets-color: white;\n",
       "                    --jp-widgets-label-color: white;\n",
       "                    --jp-ui-font-color1: white;\n",
       "                    --jp-layout-color2: #454545;\n",
       "                    background-color: #383838;\n",
       "                }\n",
       "\n",
       "                .geemap-dark .jupyter-button {\n",
       "                    --jp-layout-color3: #383838;\n",
       "                }\n",
       "\n",
       "                .geemap-colab {\n",
       "                    background-color: var(--colab-primary-surface-color, white);\n",
       "                }\n",
       "\n",
       "                .geemap-colab .jupyter-button {\n",
       "                    --jp-layout-color3: var(--colab-primary-surface-color, white);\n",
       "                }\n",
       "            </style>\n",
       "            "
      ],
      "text/plain": [
       "<IPython.core.display.HTML object>"
      ]
     },
     "metadata": {},
     "output_type": "display_data"
    }
   ],
   "source": [
    "img = ee.Image(full_STM.addBands(seasonal_STM).addBands(dem).addBands(chelsa)).select(all_features)\n",
    "#img"
   ]
  },
  {
   "cell_type": "markdown",
   "id": "1a24deba",
   "metadata": {},
   "source": [
    "### predict and map"
   ]
  },
  {
   "cell_type": "code",
   "execution_count": 12,
   "id": "7893225a",
   "metadata": {},
   "outputs": [
    {
     "data": {
      "text/html": [
       "\n",
       "            <style>\n",
       "                .geemap-dark {\n",
       "                    --jp-widgets-color: white;\n",
       "                    --jp-widgets-label-color: white;\n",
       "                    --jp-ui-font-color1: white;\n",
       "                    --jp-layout-color2: #454545;\n",
       "                    background-color: #383838;\n",
       "                }\n",
       "\n",
       "                .geemap-dark .jupyter-button {\n",
       "                    --jp-layout-color3: #383838;\n",
       "                }\n",
       "\n",
       "                .geemap-colab {\n",
       "                    background-color: var(--colab-primary-surface-color, white);\n",
       "                }\n",
       "\n",
       "                .geemap-colab .jupyter-button {\n",
       "                    --jp-layout-color3: var(--colab-primary-surface-color, white);\n",
       "                }\n",
       "            </style>\n",
       "            "
      ],
      "text/plain": [
       "<IPython.core.display.HTML object>"
      ]
     },
     "metadata": {},
     "output_type": "display_data"
    }
   ],
   "source": [
    "cl_img = img.classify(rf)\n",
    "cl_img = cl_img.toUint8()"
   ]
  },
  {
   "cell_type": "code",
   "execution_count": 13,
   "id": "b3f01b34",
   "metadata": {},
   "outputs": [
    {
     "data": {
      "text/html": [
       "\n",
       "            <style>\n",
       "                .geemap-dark {\n",
       "                    --jp-widgets-color: white;\n",
       "                    --jp-widgets-label-color: white;\n",
       "                    --jp-ui-font-color1: white;\n",
       "                    --jp-layout-color2: #454545;\n",
       "                    background-color: #383838;\n",
       "                }\n",
       "\n",
       "                .geemap-dark .jupyter-button {\n",
       "                    --jp-layout-color3: #383838;\n",
       "                }\n",
       "\n",
       "                .geemap-colab {\n",
       "                    background-color: var(--colab-primary-surface-color, white);\n",
       "                }\n",
       "\n",
       "                .geemap-colab .jupyter-button {\n",
       "                    --jp-layout-color3: var(--colab-primary-surface-color, white);\n",
       "                }\n",
       "            </style>\n",
       "            "
      ],
      "text/plain": [
       "<IPython.core.display.HTML object>"
      ]
     },
     "metadata": {},
     "output_type": "display_data"
    }
   ],
   "source": [
    "my_export = geeo.export_img(img=cl_img,\n",
    "                            px_res=30, region=roi, crs='EU', \n",
    "                            out_location='Asset', out_dir='projects/eexnill/assets/geeo_public', outname='LUCAS_LC_2022-2024_RF_EU_600-X007-Y007',\n",
    "                            dtype='uint8', nodata=255, pyramidingPolicy={'.default': 'mode'})"
   ]
  },
  {
   "cell_type": "code",
   "execution_count": 5,
   "id": "cc61dcfe",
   "metadata": {},
   "outputs": [
    {
     "data": {
      "text/html": [
       "\n",
       "            <style>\n",
       "                .geemap-dark {\n",
       "                    --jp-widgets-color: white;\n",
       "                    --jp-widgets-label-color: white;\n",
       "                    --jp-ui-font-color1: white;\n",
       "                    --jp-layout-color2: #454545;\n",
       "                    background-color: #383838;\n",
       "                }\n",
       "\n",
       "                .geemap-dark .jupyter-button {\n",
       "                    --jp-layout-color3: #383838;\n",
       "                }\n",
       "\n",
       "                .geemap-colab {\n",
       "                    background-color: var(--colab-primary-surface-color, white);\n",
       "                }\n",
       "\n",
       "                .geemap-colab .jupyter-button {\n",
       "                    --jp-layout-color3: var(--colab-primary-surface-color, white);\n",
       "                }\n",
       "            </style>\n",
       "            "
      ],
      "text/plain": [
       "<IPython.core.display.HTML object>"
      ]
     },
     "metadata": {},
     "output_type": "display_data"
    }
   ],
   "source": [
    "img = ee.Image('projects/eexnill/assets/geeo_public/landsat-tsi/TSI_HABITAT_EU_150-X029-Y029_2022-2024_LSAT_NDVI')\n",
    "\n",
    "my_export = geeo.export_img(img=img,\n",
    "                            px_res=30, region=study_area, crs='EU', \n",
    "                            out_location='Drive', out_dir=None, outname='TSI_HABITAT_EU_150-X029-Y029_2022-2024_LSAT_NDVI',\n",
    "                            dtype='int16', nodata=-9999)"
   ]
  },
  {
   "cell_type": "code",
   "execution_count": 32,
   "id": "5ec0b5a2",
   "metadata": {},
   "outputs": [
    {
     "data": {
      "text/html": [
       "\n",
       "            <style>\n",
       "                .geemap-dark {\n",
       "                    --jp-widgets-color: white;\n",
       "                    --jp-widgets-label-color: white;\n",
       "                    --jp-ui-font-color1: white;\n",
       "                    --jp-layout-color2: #454545;\n",
       "                    background-color: #383838;\n",
       "                }\n",
       "\n",
       "                .geemap-dark .jupyter-button {\n",
       "                    --jp-layout-color3: #383838;\n",
       "                }\n",
       "\n",
       "                .geemap-colab {\n",
       "                    background-color: var(--colab-primary-surface-color, white);\n",
       "                }\n",
       "\n",
       "                .geemap-colab .jupyter-button {\n",
       "                    --jp-layout-color3: var(--colab-primary-surface-color, white);\n",
       "                }\n",
       "            </style>\n",
       "            "
      ],
      "text/plain": [
       "<IPython.core.display.HTML object>"
      ]
     },
     "metadata": {},
     "output_type": "display_data"
    },
    {
     "data": {
      "application/vnd.jupyter.widget-view+json": {
       "model_id": "2b5c558c997c49fead27289ceaa17791",
       "version_major": 2,
       "version_minor": 0
      },
      "text/plain": [
       "Map(center=[44.5112991, 5.6668306], controls=(WidgetControl(options=['position', 'transparent_bg'], position='…"
      ]
     },
     "execution_count": 32,
     "metadata": {},
     "output_type": "execute_result"
    }
   ],
   "source": [
    "cl_img = ee.Image('projects/eexnill/assets/geeo_public/LUCAS_LC_2022-2024_RF_EU_600-X007-Y007')\n",
    "\n",
    "lc_names = [\n",
    "    \"Artificial land\",\n",
    "    \"Cropland, seasonal\",\n",
    "    \"Cropland, perennial\",\n",
    "    \"Forest, broadleaved\",\n",
    "    \"Forest, coniferous\",\n",
    "    \"Forest, mixed\",\n",
    "    \"Shrubland\",\n",
    "    \"Grassland\",\n",
    "    \"Barren\",\n",
    "    \"Wetland\",\n",
    "    \"Water\",\n",
    "    \"Snow/ice\"\n",
    "]\n",
    "# colours for classes\n",
    "lc_colors = [\n",
    "    \"FF0000\",  # 0 - Artificial land (red)\n",
    "    \"FFD700\",  # 1 - Cropland, seasonal (golden/yellow)\n",
    "    \"CD853F\",  # 2 - Cropland, perennial (tan/brown)\n",
    "    \"32CD32\",  # 3 - Forest, broadleaved (forest green)\n",
    "    \"006400\",  # 4 - Forest, coniferous (dark green)\n",
    "    \"228B22\",  # 5 - Forest, mixed (lime green)\n",
    "    \"FFA500\",  # 6 - Shrubland (orange/kaki)\n",
    "    \"9ACD32\",  # 7 - Grassland (yellow green)\n",
    "    \"D2B48C\",  # 8 - Barren (tan)\n",
    "    \"800080\",  # 9 - Wetland (purple)\n",
    "    \"0000FF\",  # 10 - Water (blue)\n",
    "    \"FFFFFF\"   # 11 - Snow/ice (white)\n",
    "]\n",
    "vis_params_cl = {\n",
    "    'min': 0,\n",
    "    'max': 11,\n",
    "    'palette': lc_colors,\n",
    "    'bands': ['classification']\n",
    "}\n",
    "vis_params = {'color': 'red', 'width': 2, 'lineType': 'solid','fillColor': '00000000'}\n",
    "\n",
    "M = geemap.Map(center=[44.5112991, 5.6668306], zoom=8)\n",
    "M.add_basemap('HYBRID')\n",
    "#M.addLayer(img)\n",
    "M.addLayer(cl_img, vis_params_cl, 'Classification')\n",
    "M.addLayer(roi_featcol.style(**vis_params), {}, 'Study Area')\n",
    "M"
   ]
  },
  {
   "cell_type": "markdown",
   "id": "60ad3f8e",
   "metadata": {},
   "source": [
    "# OLD"
   ]
  },
  {
   "cell_type": "code",
   "execution_count": null,
   "id": "fac21964",
   "metadata": {},
   "outputs": [],
   "source": [
    "# EUNIS and LUCAS ee.FeatureCollections\n",
    "lucas = ee.FeatureCollection('projects/eexnill/assets/geeo_public/LUCAS_HARMO_V1_EO_LC')\n",
    "eunis = ee.FeatureCollection('projects/eexnill/assets/geeo_public/EUNIS_habitat_distribution_plots_v01')"
   ]
  },
  {
   "cell_type": "code",
   "execution_count": null,
   "id": "71b8ed96",
   "metadata": {},
   "outputs": [],
   "source": [
    "# names for legend\n",
    "lc_names = [\n",
    "    \"Artificial land\",\n",
    "    \"Cropland, seasonal\",\n",
    "    \"Cropland, perennial\",\n",
    "    \"Forest, broadleaved\",\n",
    "    \"Forest, coniferous\",\n",
    "    \"Forest, mixed\",\n",
    "    \"Shrubland\",\n",
    "    \"Grassland\",\n",
    "    \"Barren\",\n",
    "    \"Wetland\",\n",
    "    \"Water\",\n",
    "    \"Snow/ice\"\n",
    "]\n",
    "# colours for classes\n",
    "lc_colors = [\n",
    "    \"FF0000\",  # 0 - Artificial land (red)\n",
    "    \"FFD700\",  # 1 - Cropland, seasonal (golden/yellow)\n",
    "    \"CD853F\",  # 2 - Cropland, perennial (tan/brown)\n",
    "    \"32CD32\",  # 3 - Forest, broadleaved (forest green)\n",
    "    \"006400\",  # 4 - Forest, coniferous (dark green)\n",
    "    \"228B22\",  # 5 - Forest, mixed (lime green)\n",
    "    \"FFA500\",  # 6 - Shrubland (orange/kaki)\n",
    "    \"9ACD32\",  # 7 - Grassland (yellow green)\n",
    "    \"D2B48C\",  # 8 - Barren (tan)\n",
    "    \"800080\",  # 9 - Wetland (purple)\n",
    "    \"0000FF\",  # 10 - Water (blue)\n",
    "    \"FFFFFF\"   # 11 - Snow/ice (white)\n",
    "]\n",
    "\n",
    "styled_lucas = geemap.ee_vector_style(\n",
    "    lucas, \n",
    "    column=\"LC_ID\", \n",
    "    labels=list(range(len(lc_names))), \n",
    "    color=lc_colors,\n",
    "    pointSize=1\n",
    ")\n",
    "\n",
    "M = geemap.Map(center=[44, 7], zoom=7)\n",
    "M.add_basemap('HYBRID')\n",
    "M.addLayer(styled_lucas, {}, \"lc1\")\n",
    "M.add_legend(title=\"Land Cover Classes\", keys=[str(l) for l in lc_names], colors=lc_colors)\n",
    "M"
   ]
  },
  {
   "cell_type": "code",
   "execution_count": null,
   "id": "d6924696",
   "metadata": {},
   "outputs": [],
   "source": [
    "geeo.create_parameter_file('landsat-tsi-habitat', overwrite=False)"
   ]
  },
  {
   "cell_type": "markdown",
   "id": "5bc6ae32",
   "metadata": {},
   "source": [
    "Check the parameter file...\n",
    "\n",
    "Only adjustment needed: Once swap ROI to EUNIS, once to LUCAS and adjust the outname accordingly."
   ]
  },
  {
   "cell_type": "code",
   "execution_count": null,
   "id": "58cd3fa7",
   "metadata": {},
   "outputs": [],
   "source": [
    "prm_tsi = geeo.load_parameters('landsat-tsi-habitat.yml')\n",
    "prm_tsi"
   ]
  },
  {
   "cell_type": "code",
   "execution_count": null,
   "id": "ba7cd772",
   "metadata": {},
   "outputs": [],
   "source": [
    "eunis_study_area = eunis.filterBounds(roi_featcol)  # filter to our study area\n",
    "lucas_study_area = lucas.filterBounds(roi_featcol)  # filter to our study area\n",
    "print(eunis_study_area.size().getInfo())\n",
    "print(lucas_study_area.size().getInfo())"
   ]
  },
  {
   "cell_type": "code",
   "execution_count": null,
   "id": "78ced0e5",
   "metadata": {},
   "outputs": [],
   "source": [
    "# EUNIS\n",
    "prm_eunis = {\n",
    "    'ROI': eunis_study_area,\n",
    "    'EXPORT_DESC': 'EUNIS_habitat_distribution_plots_v01_GLANCE_EU_150-X029-Y029'\n",
    "}\n",
    "prm_tsi.update(prm_eunis)\n",
    "# run\n",
    "geeo.run_param(prm_tsi)\n",
    "\n",
    "# LUCAS\n",
    "prm_lucas = {\n",
    "    'ROI': lucas_study_area,\n",
    "    'EXPORT_DESC': 'LUCAS_HARMO_V1_EO_LC_GLANCE_EU_150-X029-Y029'\n",
    "}\n",
    "prm_tsi.update(prm_lucas)\n",
    "geeo.run_param(prm_tsi)"
   ]
  },
  {
   "cell_type": "markdown",
   "id": "feb2e4d3",
   "metadata": {},
   "source": []
  }
 ],
 "metadata": {
  "kernelspec": {
   "display_name": "geeo_dev",
   "language": "python",
   "name": "python3"
  },
  "language_info": {
   "codemirror_mode": {
    "name": "ipython",
    "version": 3
   },
   "file_extension": ".py",
   "mimetype": "text/x-python",
   "name": "python",
   "nbconvert_exporter": "python",
   "pygments_lexer": "ipython3",
   "version": "3.11.9"
  }
 },
 "nbformat": 4,
 "nbformat_minor": 5
}
