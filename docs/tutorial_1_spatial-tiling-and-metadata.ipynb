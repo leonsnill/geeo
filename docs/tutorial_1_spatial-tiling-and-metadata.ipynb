{
 "cells": [
  {
   "cell_type": "markdown",
   "id": "6c9e497b",
   "metadata": {},
   "source": [
    "# GEEO Tutorial 1 - Spatial Tiling and Metadata\n",
    "\n",
    "[![Open in Colab](https://colab.research.google.com/assets/colab-badge.svg)](https://colab.research.google.com/github/leonsnill/geeo/blob/master/docs/tutorial_1_spatial-tiling-and-metadata.ipynb)"
   ]
  },
  {
   "cell_type": "code",
   "execution_count": 2,
   "id": "1f875b55",
   "metadata": {},
   "outputs": [
    {
     "data": {
      "text/html": [
       "\n",
       "            <style>\n",
       "                .geemap-dark {\n",
       "                    --jp-widgets-color: white;\n",
       "                    --jp-widgets-label-color: white;\n",
       "                    --jp-ui-font-color1: white;\n",
       "                    --jp-layout-color2: #454545;\n",
       "                    background-color: #383838;\n",
       "                }\n",
       "\n",
       "                .geemap-dark .jupyter-button {\n",
       "                    --jp-layout-color3: #383838;\n",
       "                }\n",
       "\n",
       "                .geemap-colab {\n",
       "                    background-color: var(--colab-primary-surface-color, white);\n",
       "                }\n",
       "\n",
       "                .geemap-colab .jupyter-button {\n",
       "                    --jp-layout-color3: var(--colab-primary-surface-color, white);\n",
       "                }\n",
       "            </style>\n",
       "            "
      ],
      "text/plain": [
       "<IPython.core.display.HTML object>"
      ]
     },
     "metadata": {},
     "output_type": "display_data"
    },
    {
     "name": "stderr",
     "output_type": "stream",
     "text": [
      "*** Earth Engine *** Share your feedback by taking our Annual Developer Satisfaction Survey: https://google.qualtrics.com/jfe/form/SV_7TDKVSyKvBdmMqW?ref=4i2o6\n"
     ]
    }
   ],
   "source": [
    "import ee\n",
    "ee.Authenticate()\n",
    "ee.Initialize(project='eexnill')\n",
    "\n",
    "import geeo"
   ]
  },
  {
   "cell_type": "markdown",
   "id": "8c8ffad5",
   "metadata": {},
   "source": [
    "Google Earth Engine hides much of the underlying complexities for mass-processing geospatial data, including spatial data organization in general, and proejctions in particular. *\"[Earth Engine is designed so that you rarely have to worry about map projections when doing computations.](https://developers.google.com/earth-engine/guides/projections)\"*. This is comfortable, but also bears its risks. In case you are coding in GEE yourself, we highly recommend getting familiar with the concepts of [scale](https://developers.google.com/earth-engine/guides/scale), [projections](https://developers.google.com/earth-engine/guides/projections), and [resampling](https://developers.google.com/earth-engine/guides/resample). **Geeo does potentially necessary spatial metadata handling for you within its core processing routine.**  \n",
    "\n",
    "Although there is generally no need in GEE to specify a projection for instructing computations (with a few exceptions), and many of the spatial metadata and processing can simply be inferred or set to default settings (e.g. EPSG:4326 for crs), it is generally good practise to be explicit about these settings and being aware of the influence they can have. \n",
    "\n",
    "### Spatial Metadata\n",
    "\n",
    "**When triggering an export, the following settings should ideally be explicitly set:**\n",
    "\n",
    "- The **pixel resolution** (termed ['scale'](https://developers.google.com/earth-engine/guides/scale) in GEE):\n",
    "- The **Coordinate Reference System (CRS)** or 'projection'\n",
    "- The **resampling method**: By default, Nearest Neighbour (NN) resampling is used if neither 'bilinear' or 'bicubic' are specified.\n",
    "- The **Region Of Interest (ROI)** or spatial extent/bounding box of the output image\n",
    "\n",
    "In geeo, these are either set in the parameter .yml-file / dictionary (`PIX_RES`, `CRS`, `RESAMPLING_METHOD`, `ROI`) or when using the auxiliary function `export_img()`.\n",
    "\n",
    "Optionally, the user can also precisely define the affine transform (`CRS_TRANSFORM`) to use for the export, as well as the image dimensions (`IMG_DIMENSIONS`). Note from the GEE docs: *\"to get a block of pixels precisely aligned to another data source, specify dimensions, crs and crsTransform.\"*. Geeo can handle precisely aligning the pixels onto a desired grid based on the `ROI` (more on this below).\n",
    "\n",
    "### Spatial Tiling\n",
    "**Geeo has in-built functions for creating a spatial tiling scheme for a given CRS.** This faciliates spatial organization of the data similar to the datacube concept and allows precisely aligning output images onto a grid scheme. Especially when working with long and/or dense time series, as well as when working with different geospatial raster datasets in a given region, spatial tiling schemes can be extremely usefull.\n",
    "\n",
    "- **Grid:** The spatial, regular division of the space into tiles starting the grid origin.\n",
    "- **Grid Origin:** Upper left corner coordinate where numbering of tiles start in X and Y direction\n",
    "- **Tile:** A (square) grid cell covering an area defined by the tile size. Associated with a unique identifier (X000_Y0000).\n",
    "- **Tile Size:** The n times n size in meters covered by a tile.\n"
   ]
  },
  {
   "cell_type": "markdown",
   "id": "d29f0224",
   "metadata": {},
   "source": [
    "<br>\n",
    "\n",
    "<div>\n",
    "<img src=\"https://raw.githubusercontent.com/leonsnill/geeo/master/geeo/data/fig/datacube.svg\" width=\"50%\" style=\"display:block; margin: 0 auto;\"/>\n",
    "</div>"
   ]
  },
  {
   "cell_type": "markdown",
   "id": "c8debf62",
   "metadata": {},
   "source": [
    "In geeo, the user can use the functions `create_tiles()` and `create_glance_tiles()` to construct a tiling scheme for a given CRS, area, and tile size.\n",
    "\n",
    "----"
   ]
  },
  {
   "cell_type": "markdown",
   "id": "a34556e1",
   "metadata": {},
   "source": [
    "## User-defined CRS tiling scheme\n",
    "\n",
    "Optionally, the user can specify a output directory to which the GeoDataFrame will be saved as GeoPackage (.gpkg) file. The user can futher specify a vector file to clip the resulting grid to and wether to filter the tiles to terrestrial surfaces (i.e., masking oceans and large lakes)."
   ]
  },
  {
   "cell_type": "code",
   "execution_count": 2,
   "id": "78925026",
   "metadata": {},
   "outputs": [
    {
     "name": "stdout",
     "output_type": "stream",
     "text": [
      "\u001b[31mSignature:\u001b[39m\n",
      "geeo.create_tiles(\n",
      "    crs,\n",
      "    extent=\u001b[38;5;28;01mNone\u001b[39;00m,\n",
      "    tile_size=\u001b[32m150000\u001b[39m,\n",
      "    origin=\u001b[38;5;28;01mNone\u001b[39;00m,\n",
      "    vector_roi=\u001b[38;5;28;01mNone\u001b[39;00m,\n",
      "    output_dir=\u001b[38;5;28;01mNone\u001b[39;00m,\n",
      "    land_mask=\u001b[38;5;28;01mFalse\u001b[39;00m,\n",
      "    land_mask_path=\u001b[38;5;28;01mNone\u001b[39;00m,\n",
      ")\n",
      "\u001b[31mDocstring:\u001b[39m <no docstring>\n",
      "\u001b[31mFile:\u001b[39m      c:\\users\\leonx\\documents\\repos\\geeo\\geeo\\misc\\spacetime.py\n",
      "\u001b[31mType:\u001b[39m      function"
     ]
    }
   ],
   "source": [
    "?geeo.create_tiles"
   ]
  },
  {
   "cell_type": "markdown",
   "id": "7e7df6e2",
   "metadata": {},
   "source": [
    "The user defines the CRS, spatial extent and tile size. The spatial extent can be specied by using a rectangular extent, a origin coordinates, or a vector ROI. Optionally, the user can specify a output directory to which the GeoDataFrame will be saved as GeoPackage (.gpkg) file. The user can futher specify a vector file to clip the resulting grid to and wether to filter the tiles to terrestrial surfaces (i.e., masking oceans and large lakes).\n",
    "\n",
    "To create a 30x30km grid for Germany:"
   ]
  },
  {
   "cell_type": "code",
   "execution_count": 3,
   "id": "949ab767",
   "metadata": {},
   "outputs": [
    {
     "data": {
      "text/html": [
       "\n",
       "            <style>\n",
       "                .geemap-dark {\n",
       "                    --jp-widgets-color: white;\n",
       "                    --jp-widgets-label-color: white;\n",
       "                    --jp-ui-font-color1: white;\n",
       "                    --jp-layout-color2: #454545;\n",
       "                    background-color: #383838;\n",
       "                }\n",
       "\n",
       "                .geemap-dark .jupyter-button {\n",
       "                    --jp-layout-color3: #383838;\n",
       "                }\n",
       "\n",
       "                .geemap-colab {\n",
       "                    background-color: var(--colab-primary-surface-color, white);\n",
       "                }\n",
       "\n",
       "                .geemap-colab .jupyter-button {\n",
       "                    --jp-layout-color3: var(--colab-primary-surface-color, white);\n",
       "                }\n",
       "            </style>\n",
       "            "
      ],
      "text/plain": [
       "<IPython.core.display.HTML object>"
      ]
     },
     "metadata": {},
     "output_type": "display_data"
    },
    {
     "data": {
      "application/vnd.jupyter.widget-view+json": {
       "model_id": "edb2e9d73f864949919ffc64d88ea457",
       "version_major": 2,
       "version_minor": 0
      },
      "text/plain": [
       "Map(center=[51, 10], controls=(WidgetControl(options=['position', 'transparent_bg'], position='topright', tran…"
      ]
     },
     "execution_count": 3,
     "metadata": {},
     "output_type": "execute_result"
    }
   ],
   "source": [
    "import geemap\n",
    "import geopandas as gpd\n",
    "\n",
    "gdf_countries = gpd.read_file('https://raw.githubusercontent.com/leonsnill/geeo/master/geeo/data/ne_50m_admin_countries.gpkg')\n",
    "germany = gdf_countries[gdf_countries['ADMIN'] == 'Germany']\n",
    "\n",
    "M = geemap.Map(center=[51, 10], zoom=6)\n",
    "M.add_basemap('HYBRID')\n",
    "M.add_gdf(germany, style={'color': 'blue'}, layer_name=\"Germany\", zoom_to_layer=False)\n",
    "M"
   ]
  },
  {
   "cell_type": "code",
   "execution_count": 6,
   "id": "9964c0f2",
   "metadata": {},
   "outputs": [
    {
     "data": {
      "text/html": [
       "\n",
       "            <style>\n",
       "                .geemap-dark {\n",
       "                    --jp-widgets-color: white;\n",
       "                    --jp-widgets-label-color: white;\n",
       "                    --jp-ui-font-color1: white;\n",
       "                    --jp-layout-color2: #454545;\n",
       "                    background-color: #383838;\n",
       "                }\n",
       "\n",
       "                .geemap-dark .jupyter-button {\n",
       "                    --jp-layout-color3: #383838;\n",
       "                }\n",
       "\n",
       "                .geemap-colab {\n",
       "                    background-color: var(--colab-primary-surface-color, white);\n",
       "                }\n",
       "\n",
       "                .geemap-colab .jupyter-button {\n",
       "                    --jp-layout-color3: var(--colab-primary-surface-color, white);\n",
       "                }\n",
       "            </style>\n",
       "            "
      ],
      "text/plain": [
       "<IPython.core.display.HTML object>"
      ]
     },
     "metadata": {},
     "output_type": "display_data"
    },
    {
     "data": {
      "text/html": [
       "<div>\n",
       "<style scoped>\n",
       "    .dataframe tbody tr th:only-of-type {\n",
       "        vertical-align: middle;\n",
       "    }\n",
       "\n",
       "    .dataframe tbody tr th {\n",
       "        vertical-align: top;\n",
       "    }\n",
       "\n",
       "    .dataframe thead th {\n",
       "        text-align: right;\n",
       "    }\n",
       "</style>\n",
       "<table border=\"1\" class=\"dataframe\">\n",
       "  <thead>\n",
       "    <tr style=\"text-align: right;\">\n",
       "      <th></th>\n",
       "      <th>geometry</th>\n",
       "      <th>ID</th>\n",
       "      <th>X</th>\n",
       "      <th>Y</th>\n",
       "    </tr>\n",
       "  </thead>\n",
       "  <tbody>\n",
       "    <tr>\n",
       "      <th>0</th>\n",
       "      <td>POLYGON ((4210570.037 3521502.597, 4210570.037...</td>\n",
       "      <td>X006-Y000</td>\n",
       "      <td>6</td>\n",
       "      <td>0</td>\n",
       "    </tr>\n",
       "    <tr>\n",
       "      <th>1</th>\n",
       "      <td>POLYGON ((4240570.037 3521502.597, 4240570.037...</td>\n",
       "      <td>X007-Y000</td>\n",
       "      <td>7</td>\n",
       "      <td>0</td>\n",
       "    </tr>\n",
       "    <tr>\n",
       "      <th>2</th>\n",
       "      <td>POLYGON ((4270570.037 3521502.597, 4270570.037...</td>\n",
       "      <td>X008-Y000</td>\n",
       "      <td>8</td>\n",
       "      <td>0</td>\n",
       "    </tr>\n",
       "    <tr>\n",
       "      <th>3</th>\n",
       "      <td>POLYGON ((4300570.037 3521502.597, 4300570.037...</td>\n",
       "      <td>X009-Y000</td>\n",
       "      <td>9</td>\n",
       "      <td>0</td>\n",
       "    </tr>\n",
       "    <tr>\n",
       "      <th>4</th>\n",
       "      <td>POLYGON ((4180570.037 3491502.597, 4180570.037...</td>\n",
       "      <td>X005-Y001</td>\n",
       "      <td>5</td>\n",
       "      <td>1</td>\n",
       "    </tr>\n",
       "  </tbody>\n",
       "</table>\n",
       "</div>"
      ],
      "text/plain": [
       "                                            geometry         ID  X  Y\n",
       "0  POLYGON ((4210570.037 3521502.597, 4210570.037...  X006-Y000  6  0\n",
       "1  POLYGON ((4240570.037 3521502.597, 4240570.037...  X007-Y000  7  0\n",
       "2  POLYGON ((4270570.037 3521502.597, 4270570.037...  X008-Y000  8  0\n",
       "3  POLYGON ((4300570.037 3521502.597, 4300570.037...  X009-Y000  9  0\n",
       "4  POLYGON ((4180570.037 3491502.597, 4180570.037...  X005-Y001  5  1"
      ]
     },
     "execution_count": 6,
     "metadata": {},
     "output_type": "execute_result"
    }
   ],
   "source": [
    "germany_tiles = geeo.create_tiles(crs='EPSG:3035', vector_roi=germany, tile_size=30000, land_mask=True)\n",
    "germany_tiles.head()"
   ]
  },
  {
   "cell_type": "code",
   "execution_count": 7,
   "id": "b2f21e75",
   "metadata": {},
   "outputs": [
    {
     "data": {
      "text/html": [
       "\n",
       "            <style>\n",
       "                .geemap-dark {\n",
       "                    --jp-widgets-color: white;\n",
       "                    --jp-widgets-label-color: white;\n",
       "                    --jp-ui-font-color1: white;\n",
       "                    --jp-layout-color2: #454545;\n",
       "                    background-color: #383838;\n",
       "                }\n",
       "\n",
       "                .geemap-dark .jupyter-button {\n",
       "                    --jp-layout-color3: #383838;\n",
       "                }\n",
       "\n",
       "                .geemap-colab {\n",
       "                    background-color: var(--colab-primary-surface-color, white);\n",
       "                }\n",
       "\n",
       "                .geemap-colab .jupyter-button {\n",
       "                    --jp-layout-color3: var(--colab-primary-surface-color, white);\n",
       "                }\n",
       "            </style>\n",
       "            "
      ],
      "text/plain": [
       "<IPython.core.display.HTML object>"
      ]
     },
     "metadata": {},
     "output_type": "display_data"
    },
    {
     "data": {
      "application/vnd.jupyter.widget-view+json": {
       "model_id": "855327326d784a579cea87041eca3d2a",
       "version_major": 2,
       "version_minor": 0
      },
      "text/plain": [
       "Map(center=[51, 10], controls=(WidgetControl(options=['position', 'transparent_bg'], position='topright', tran…"
      ]
     },
     "execution_count": 7,
     "metadata": {},
     "output_type": "execute_result"
    }
   ],
   "source": [
    "M = geemap.Map(center=[51, 10], zoom=6)\n",
    "M.add_basemap('HYBRID')\n",
    "M.add_gdf(germany, style={'color': 'blue'}, layer_name=\"Germany\", zoom_to_layer=False)\n",
    "M.add_gdf(germany_tiles, style={'color': 'red'}, layer_name=\"Germany Tiles\", zoom_to_layer=False)\n",
    "M"
   ]
  },
  {
   "cell_type": "markdown",
   "id": "71c1a383",
   "metadata": {},
   "source": [
    "The X and Y position (e.g. `X003-Y001`) creates a unique and spatially explicit identifier.  "
   ]
  },
  {
   "cell_type": "markdown",
   "id": "f881ef96",
   "metadata": {},
   "source": [
    "----"
   ]
  },
  {
   "cell_type": "markdown",
   "id": "cf06d00f",
   "metadata": {},
   "source": [
    "## Modified Global LANd Cover mapping and Estimation (GLANCE) Grids\n",
    "\n",
    "**Geeo contains a modified version of the Global LANd Cover mapping and Estimation (GLANCE) projection and tiling system** (https://github.com/measures-glance/glance-grids). \n",
    "GLANCE grids is a tile gridding system that uses Lambert Azimuthal Equal Area projections for different 'continents' to minimize distortion for each region. Originally, the grid system is based on a 30m pixel and with tiles that are 5000x5000 pixels in size, i.e. 150x150km tiles. Geeo allows to specify other tile sizes that all cover the common pixel sizes of medium resolution satellite data (10m, 20m, 30m). \n",
    "\n",
    "<br>\n",
    "\n",
    "<div style=\"text-align:center;\">\n",
    "    <img src=\"https://raw.githubusercontent.com/leonsnill/geeo/master/geeo/data/GLANCE-tiles/glance_continents_overview.png\" width=\"50%\"/>\n",
    "    <p><em>Figure: GLANCE grids overview (source: https://measures-glance.github.io/glance-grids/)</em></p>\n",
    "</div>"
   ]
  },
  {
   "cell_type": "markdown",
   "id": "5e97526f",
   "metadata": {},
   "source": [
    "Use `create_glance_tiles()` to create a new grid for a continent.\n",
    "The parameters of the function are:"
   ]
  },
  {
   "cell_type": "code",
   "execution_count": 6,
   "id": "50a5a97b",
   "metadata": {},
   "outputs": [
    {
     "data": {
      "text/html": [
       "\n",
       "            <style>\n",
       "                .geemap-dark {\n",
       "                    --jp-widgets-color: white;\n",
       "                    --jp-widgets-label-color: white;\n",
       "                    --jp-ui-font-color1: white;\n",
       "                    --jp-layout-color2: #454545;\n",
       "                    background-color: #383838;\n",
       "                }\n",
       "\n",
       "                .geemap-dark .jupyter-button {\n",
       "                    --jp-layout-color3: #383838;\n",
       "                }\n",
       "\n",
       "                .geemap-colab {\n",
       "                    background-color: var(--colab-primary-surface-color, white);\n",
       "                }\n",
       "\n",
       "                .geemap-colab .jupyter-button {\n",
       "                    --jp-layout-color3: var(--colab-primary-surface-color, white);\n",
       "                }\n",
       "            </style>\n",
       "            "
      ],
      "text/plain": [
       "<IPython.core.display.HTML object>"
      ]
     },
     "metadata": {},
     "output_type": "display_data"
    },
    {
     "name": "stdout",
     "output_type": "stream",
     "text": [
      "\u001b[31mSignature:\u001b[39m\n",
      "geeo.create_glance_tiles(\n",
      "    continent_code,\n",
      "    tile_size=\u001b[32m150000\u001b[39m,\n",
      "    vector_roi=\u001b[38;5;28;01mNone\u001b[39;00m,\n",
      "    output_dir=\u001b[38;5;28;01mNone\u001b[39;00m,\n",
      "    zone_mask=\u001b[38;5;28;01mFalse\u001b[39;00m,\n",
      "    land_mask=\u001b[38;5;28;01mFalse\u001b[39;00m,\n",
      ")\n",
      "\u001b[31mDocstring:\u001b[39m\n",
      "Create grid GeoPackage files based on continent code and grid parameters with explicit ID naming.\n",
      "Optionally restrict the grid to land surfaces using a land mask.\n",
      "Parameters:\n",
      "- continent_code (str): The code of the continent for which to create the grid. Either AF, AN, AS, EU, OC, NA, SA or use \"ALL\" for all continents.\n",
      "- tile_size (int): The size of the main grid tile in meters. Must be one of [1200000, 600000, 300000, 150000, 75000, 30000].\n",
      "- vector_roi (str or GeoDataFrame): The shapefile path or GeoDataFrame to clip the grid with. Default is None.\n",
      "- output_dir (str): The directory to save the grid GeoPackage files. Default is None.\n",
      "- land_mask (bool): Whether to restrict the grid to land surfaces. Default is False (no masking).\n",
      "Returns:\n",
      "- GeoDataFrame: A GeoDataFrame containing the grid tiles with IDs for all valid tile sizes.\n",
      "Raises:\n",
      "- ValueError: If the tile_size is not one of the allowed sizes.\n",
      "\u001b[31mFile:\u001b[39m      c:\\users\\leonx\\documents\\repos\\geeo\\geeo\\misc\\spacetime.py\n",
      "\u001b[31mType:\u001b[39m      function"
     ]
    }
   ],
   "source": [
    "?geeo.create_glance_tiles"
   ]
  },
  {
   "cell_type": "markdown",
   "id": "15467a46",
   "metadata": {},
   "source": [
    "The user defines the continent (AF, AN, AS, EU, OC, NA, SA) and desired tile size (1200000, 600000, 300000, 150000, 75000, 30000 km). Optionally, the user can specify a output directory to which the GeoDataFrame will be saved as GeoPackage (.gpkg) file. The user can futher specify a vector file to clip the resulting grid to and wether to filter the tiles to terrestrial surfaces (i.e., masking oceans and large lakes).\n",
    "\n",
    "To create a 150x150km grid for European landmasses:"
   ]
  },
  {
   "cell_type": "code",
   "execution_count": 7,
   "id": "a349a986",
   "metadata": {},
   "outputs": [
    {
     "data": {
      "text/html": [
       "\n",
       "            <style>\n",
       "                .geemap-dark {\n",
       "                    --jp-widgets-color: white;\n",
       "                    --jp-widgets-label-color: white;\n",
       "                    --jp-ui-font-color1: white;\n",
       "                    --jp-layout-color2: #454545;\n",
       "                    background-color: #383838;\n",
       "                }\n",
       "\n",
       "                .geemap-dark .jupyter-button {\n",
       "                    --jp-layout-color3: #383838;\n",
       "                }\n",
       "\n",
       "                .geemap-colab {\n",
       "                    background-color: var(--colab-primary-surface-color, white);\n",
       "                }\n",
       "\n",
       "                .geemap-colab .jupyter-button {\n",
       "                    --jp-layout-color3: var(--colab-primary-surface-color, white);\n",
       "                }\n",
       "            </style>\n",
       "            "
      ],
      "text/plain": [
       "<IPython.core.display.HTML object>"
      ]
     },
     "metadata": {},
     "output_type": "display_data"
    },
    {
     "name": "stdout",
     "output_type": "stream",
     "text": [
      "Filtering grid tiles using the land mask...\n"
     ]
    }
   ],
   "source": [
    "glance_eu = geeo.create_glance_tiles(continent_code='EU', tile_size=150000, land_mask=True)"
   ]
  },
  {
   "cell_type": "code",
   "execution_count": 8,
   "id": "f9ef6cd0",
   "metadata": {},
   "outputs": [
    {
     "data": {
      "text/html": [
       "\n",
       "            <style>\n",
       "                .geemap-dark {\n",
       "                    --jp-widgets-color: white;\n",
       "                    --jp-widgets-label-color: white;\n",
       "                    --jp-ui-font-color1: white;\n",
       "                    --jp-layout-color2: #454545;\n",
       "                    background-color: #383838;\n",
       "                }\n",
       "\n",
       "                .geemap-dark .jupyter-button {\n",
       "                    --jp-layout-color3: #383838;\n",
       "                }\n",
       "\n",
       "                .geemap-colab {\n",
       "                    background-color: var(--colab-primary-surface-color, white);\n",
       "                }\n",
       "\n",
       "                .geemap-colab .jupyter-button {\n",
       "                    --jp-layout-color3: var(--colab-primary-surface-color, white);\n",
       "                }\n",
       "            </style>\n",
       "            "
      ],
      "text/plain": [
       "<IPython.core.display.HTML object>"
      ]
     },
     "metadata": {},
     "output_type": "display_data"
    },
    {
     "data": {
      "application/vnd.jupyter.widget-view+json": {
       "model_id": "3dea3f02118b4316850e52d76eda8ace",
       "version_major": 2,
       "version_minor": 0
      },
      "text/plain": [
       "Map(center=[49, 12], controls=(WidgetControl(options=['position', 'transparent_bg'], position='topright', tran…"
      ]
     },
     "execution_count": 8,
     "metadata": {},
     "output_type": "execute_result"
    }
   ],
   "source": [
    "import geemap\n",
    "\n",
    "M = geemap.Map(center=[49, 12], zoom=3)\n",
    "M.add_basemap('HYBRID')\n",
    "M.add_gdf(glance_eu, style={'color': 'red'}, layer_name=\"EU Glance\", zoom_to_layer=False)\n",
    "M"
   ]
  },
  {
   "cell_type": "markdown",
   "id": "1d2d19b5",
   "metadata": {},
   "source": [
    "**The resulting grid contains multiple attribute columns that encode the spatial X and Y position of the tile:**"
   ]
  },
  {
   "cell_type": "code",
   "execution_count": 9,
   "id": "bf5bf6c2",
   "metadata": {},
   "outputs": [
    {
     "data": {
      "text/html": [
       "\n",
       "            <style>\n",
       "                .geemap-dark {\n",
       "                    --jp-widgets-color: white;\n",
       "                    --jp-widgets-label-color: white;\n",
       "                    --jp-ui-font-color1: white;\n",
       "                    --jp-layout-color2: #454545;\n",
       "                    background-color: #383838;\n",
       "                }\n",
       "\n",
       "                .geemap-dark .jupyter-button {\n",
       "                    --jp-layout-color3: #383838;\n",
       "                }\n",
       "\n",
       "                .geemap-colab {\n",
       "                    background-color: var(--colab-primary-surface-color, white);\n",
       "                }\n",
       "\n",
       "                .geemap-colab .jupyter-button {\n",
       "                    --jp-layout-color3: var(--colab-primary-surface-color, white);\n",
       "                }\n",
       "            </style>\n",
       "            "
      ],
      "text/plain": [
       "<IPython.core.display.HTML object>"
      ]
     },
     "metadata": {},
     "output_type": "display_data"
    },
    {
     "data": {
      "text/html": [
       "<div>\n",
       "<style scoped>\n",
       "    .dataframe tbody tr th:only-of-type {\n",
       "        vertical-align: middle;\n",
       "    }\n",
       "\n",
       "    .dataframe tbody tr th {\n",
       "        vertical-align: top;\n",
       "    }\n",
       "\n",
       "    .dataframe thead th {\n",
       "        text-align: right;\n",
       "    }\n",
       "</style>\n",
       "<table border=\"1\" class=\"dataframe\">\n",
       "  <thead>\n",
       "    <tr style=\"text-align: right;\">\n",
       "      <th></th>\n",
       "      <th>geometry</th>\n",
       "      <th>ID1200</th>\n",
       "      <th>ID600</th>\n",
       "      <th>ID300</th>\n",
       "      <th>ID150</th>\n",
       "      <th>X1200</th>\n",
       "      <th>X600</th>\n",
       "      <th>X300</th>\n",
       "      <th>X150</th>\n",
       "      <th>Y1200</th>\n",
       "      <th>Y600</th>\n",
       "      <th>Y300</th>\n",
       "      <th>Y150</th>\n",
       "    </tr>\n",
       "  </thead>\n",
       "  <tbody>\n",
       "    <tr>\n",
       "      <th>197</th>\n",
       "      <td>POLYGON ((-255560 2746245, -255560 2896245, -1...</td>\n",
       "      <td>EU_1200-X004-Y000</td>\n",
       "      <td>EU_600-X008-Y000</td>\n",
       "      <td>EU_300-X017-Y001</td>\n",
       "      <td>EU_150-X035-Y003</td>\n",
       "      <td>4</td>\n",
       "      <td>8</td>\n",
       "      <td>17</td>\n",
       "      <td>35</td>\n",
       "      <td>0</td>\n",
       "      <td>0</td>\n",
       "      <td>1</td>\n",
       "      <td>3</td>\n",
       "    </tr>\n",
       "    <tr>\n",
       "      <th>198</th>\n",
       "      <td>POLYGON ((-105560 2746245, -105560 2896245, 44...</td>\n",
       "      <td>EU_1200-X004-Y000</td>\n",
       "      <td>EU_600-X009-Y000</td>\n",
       "      <td>EU_300-X018-Y001</td>\n",
       "      <td>EU_150-X036-Y003</td>\n",
       "      <td>4</td>\n",
       "      <td>9</td>\n",
       "      <td>18</td>\n",
       "      <td>36</td>\n",
       "      <td>0</td>\n",
       "      <td>0</td>\n",
       "      <td>1</td>\n",
       "      <td>3</td>\n",
       "    </tr>\n",
       "    <tr>\n",
       "      <th>199</th>\n",
       "      <td>POLYGON ((44440 2746245, 44440 2896245, 194440...</td>\n",
       "      <td>EU_1200-X004-Y000</td>\n",
       "      <td>EU_600-X009-Y000</td>\n",
       "      <td>EU_300-X018-Y001</td>\n",
       "      <td>EU_150-X037-Y003</td>\n",
       "      <td>4</td>\n",
       "      <td>9</td>\n",
       "      <td>18</td>\n",
       "      <td>37</td>\n",
       "      <td>0</td>\n",
       "      <td>0</td>\n",
       "      <td>1</td>\n",
       "      <td>3</td>\n",
       "    </tr>\n",
       "    <tr>\n",
       "      <th>200</th>\n",
       "      <td>POLYGON ((194440 2746245, 194440 2896245, 3444...</td>\n",
       "      <td>EU_1200-X004-Y000</td>\n",
       "      <td>EU_600-X009-Y000</td>\n",
       "      <td>EU_300-X019-Y001</td>\n",
       "      <td>EU_150-X038-Y003</td>\n",
       "      <td>4</td>\n",
       "      <td>9</td>\n",
       "      <td>19</td>\n",
       "      <td>38</td>\n",
       "      <td>0</td>\n",
       "      <td>0</td>\n",
       "      <td>1</td>\n",
       "      <td>3</td>\n",
       "    </tr>\n",
       "    <tr>\n",
       "      <th>251</th>\n",
       "      <td>POLYGON ((-255560 2596245, -255560 2746245, -1...</td>\n",
       "      <td>EU_1200-X004-Y000</td>\n",
       "      <td>EU_600-X008-Y001</td>\n",
       "      <td>EU_300-X017-Y002</td>\n",
       "      <td>EU_150-X035-Y004</td>\n",
       "      <td>4</td>\n",
       "      <td>8</td>\n",
       "      <td>17</td>\n",
       "      <td>35</td>\n",
       "      <td>0</td>\n",
       "      <td>1</td>\n",
       "      <td>2</td>\n",
       "      <td>4</td>\n",
       "    </tr>\n",
       "  </tbody>\n",
       "</table>\n",
       "</div>"
      ],
      "text/plain": [
       "                                              geometry             ID1200  \\\n",
       "197  POLYGON ((-255560 2746245, -255560 2896245, -1...  EU_1200-X004-Y000   \n",
       "198  POLYGON ((-105560 2746245, -105560 2896245, 44...  EU_1200-X004-Y000   \n",
       "199  POLYGON ((44440 2746245, 44440 2896245, 194440...  EU_1200-X004-Y000   \n",
       "200  POLYGON ((194440 2746245, 194440 2896245, 3444...  EU_1200-X004-Y000   \n",
       "251  POLYGON ((-255560 2596245, -255560 2746245, -1...  EU_1200-X004-Y000   \n",
       "\n",
       "                ID600             ID300             ID150  X1200  X600  X300  \\\n",
       "197  EU_600-X008-Y000  EU_300-X017-Y001  EU_150-X035-Y003      4     8    17   \n",
       "198  EU_600-X009-Y000  EU_300-X018-Y001  EU_150-X036-Y003      4     9    18   \n",
       "199  EU_600-X009-Y000  EU_300-X018-Y001  EU_150-X037-Y003      4     9    18   \n",
       "200  EU_600-X009-Y000  EU_300-X019-Y001  EU_150-X038-Y003      4     9    19   \n",
       "251  EU_600-X008-Y001  EU_300-X017-Y002  EU_150-X035-Y004      4     8    17   \n",
       "\n",
       "     X150  Y1200  Y600  Y300  Y150  \n",
       "197    35      0     0     1     3  \n",
       "198    36      0     0     1     3  \n",
       "199    37      0     0     1     3  \n",
       "200    38      0     0     1     3  \n",
       "251    35      0     1     2     4  "
      ]
     },
     "execution_count": 9,
     "metadata": {},
     "output_type": "execute_result"
    }
   ],
   "source": [
    "glance_eu.head()"
   ]
  },
  {
   "cell_type": "markdown",
   "id": "891ba457",
   "metadata": {},
   "source": [
    "The grid always contains the smallest tile scheme that the user requested and which defines the geometries of the tiles (here: `ID150`), as well as the larger schemes in which it is nested (here: `ID300`, `ID600`, `ID1200`). The X and Y position (e.g. `X035-Y003`) combined with the tile size information (e.g. `EU_150`) creates a unique and spatially explicit identifier (`EU_150-X035-Y003`).  "
   ]
  },
  {
   "cell_type": "markdown",
   "id": "8bc82335",
   "metadata": {},
   "source": [
    "----\n",
    "\n",
    "## Running geeo processing for grid scheme"
   ]
  },
  {
   "cell_type": "markdown",
   "id": "e07bae51",
   "metadata": {},
   "source": [
    "Suppose we wanted to process some tiles of the EU Glance grid:"
   ]
  },
  {
   "cell_type": "code",
   "execution_count": 10,
   "id": "940fa276",
   "metadata": {},
   "outputs": [
    {
     "data": {
      "text/html": [
       "\n",
       "            <style>\n",
       "                .geemap-dark {\n",
       "                    --jp-widgets-color: white;\n",
       "                    --jp-widgets-label-color: white;\n",
       "                    --jp-ui-font-color1: white;\n",
       "                    --jp-layout-color2: #454545;\n",
       "                    background-color: #383838;\n",
       "                }\n",
       "\n",
       "                .geemap-dark .jupyter-button {\n",
       "                    --jp-layout-color3: #383838;\n",
       "                }\n",
       "\n",
       "                .geemap-colab {\n",
       "                    background-color: var(--colab-primary-surface-color, white);\n",
       "                }\n",
       "\n",
       "                .geemap-colab .jupyter-button {\n",
       "                    --jp-layout-color3: var(--colab-primary-surface-color, white);\n",
       "                }\n",
       "            </style>\n",
       "            "
      ],
      "text/plain": [
       "<IPython.core.display.HTML object>"
      ]
     },
     "metadata": {},
     "output_type": "display_data"
    }
   ],
   "source": [
    "tile_list_to_process = ['EU_150-X029-Y029', 'EU_150-X028-Y029', 'EU_150-X028-Y030', 'EU_150-X029-Y030']"
   ]
  },
  {
   "cell_type": "markdown",
   "id": "acae2de9",
   "metadata": {},
   "source": [
    "We simply specify our path to the vector file or the GeoDataFrame (only in interactive mode) while also setting `ROI_TILES: True`. Furthermore we have to specify the attribute column that contains a string name which will be appended to each output (here: `ID150`). Since we only want four tiles, we also specify the list of names found in `ROI_TILES_ATTRIBUTE_COLUMN` to `ROI_TILES_ATTRIBUTE_LIST`:"
   ]
  },
  {
   "cell_type": "code",
   "execution_count": 11,
   "id": "95a75e49",
   "metadata": {},
   "outputs": [
    {
     "data": {
      "text/html": [
       "\n",
       "            <style>\n",
       "                .geemap-dark {\n",
       "                    --jp-widgets-color: white;\n",
       "                    --jp-widgets-label-color: white;\n",
       "                    --jp-ui-font-color1: white;\n",
       "                    --jp-layout-color2: #454545;\n",
       "                    background-color: #383838;\n",
       "                }\n",
       "\n",
       "                .geemap-dark .jupyter-button {\n",
       "                    --jp-layout-color3: #383838;\n",
       "                }\n",
       "\n",
       "                .geemap-colab {\n",
       "                    background-color: var(--colab-primary-surface-color, white);\n",
       "                }\n",
       "\n",
       "                .geemap-colab .jupyter-button {\n",
       "                    --jp-layout-color3: var(--colab-primary-surface-color, white);\n",
       "                }\n",
       "            </style>\n",
       "            "
      ],
      "text/plain": [
       "<IPython.core.display.HTML object>"
      ]
     },
     "metadata": {},
     "output_type": "display_data"
    },
    {
     "name": "stdout",
     "output_type": "stream",
     "text": [
      "---------------------------------------------------------\n",
      "            USING ROI TILE PROCESSING MODE\n",
      "\n",
      "ROI_TILES: ROI contains 4 features.\n"
     ]
    },
    {
     "name": "stderr",
     "output_type": "stream",
     "text": [
      "100%|██████████| 4/4 [00:03<00:00,  1.04it/s]"
     ]
    },
    {
     "name": "stdout",
     "output_type": "stream",
     "text": [
      "---------------------------------------------------------\n"
     ]
    },
    {
     "name": "stderr",
     "output_type": "stream",
     "text": [
      "\n"
     ]
    }
   ],
   "source": [
    "prm = {\n",
    "    'ROI': glance_eu,\n",
    "    'ROI_TILES': True,\n",
    "    'ROI_TILES_ATTRIBUTE_COLUMN': 'ID150',\n",
    "    'ROI_TILES_ATTRIBUTE_LIST': tile_list_to_process,\n",
    "    'STM': ['p50'],\n",
    "    'EXPORT_IMAGE': False,\n",
    "    'EXPORT_STM': True,\n",
    "    'EXPORT_DESC': 'GRID_EXAMPLE'\n",
    "}\n",
    "run_prm = geeo.run_param(prm)"
   ]
  },
  {
   "cell_type": "code",
   "execution_count": 12,
   "id": "2dbf16b0",
   "metadata": {},
   "outputs": [
    {
     "data": {
      "text/html": [
       "\n",
       "            <style>\n",
       "                .geemap-dark {\n",
       "                    --jp-widgets-color: white;\n",
       "                    --jp-widgets-label-color: white;\n",
       "                    --jp-ui-font-color1: white;\n",
       "                    --jp-layout-color2: #454545;\n",
       "                    background-color: #383838;\n",
       "                }\n",
       "\n",
       "                .geemap-dark .jupyter-button {\n",
       "                    --jp-layout-color3: #383838;\n",
       "                }\n",
       "\n",
       "                .geemap-colab {\n",
       "                    background-color: var(--colab-primary-surface-color, white);\n",
       "                }\n",
       "\n",
       "                .geemap-colab .jupyter-button {\n",
       "                    --jp-layout-color3: var(--colab-primary-surface-color, white);\n",
       "                }\n",
       "            </style>\n",
       "            "
      ],
      "text/plain": [
       "<IPython.core.display.HTML object>"
      ]
     },
     "metadata": {},
     "output_type": "display_data"
    },
    {
     "data": {
      "text/plain": [
       "dict_keys(['EU_150-X028-Y029', 'EU_150-X029-Y029', 'EU_150-X028-Y030', 'EU_150-X029-Y030'])"
      ]
     },
     "execution_count": 12,
     "metadata": {},
     "output_type": "execute_result"
    }
   ],
   "source": [
    "run_prm.keys()"
   ]
  },
  {
   "cell_type": "markdown",
   "id": "b7ce7609",
   "metadata": {},
   "source": [
    "Using the tiling processing mode or not, geeo will try and fit the desired pixel size exactly onto the given ROI (unless CRS_TRANSFORM is provided explicitly). See the above figure for a graphical illustration of an aligned pixel grid.\n",
    "If the user works with a tiling scheme like the ones we constructed above, it is fairly easy to align new exports to a desired grid. See the next tutorial where we briefly illustrate custom image / image collection exports using such as alignment."
   ]
  },
  {
   "cell_type": "markdown",
   "id": "3d7360f3",
   "metadata": {},
   "source": [
    "----"
   ]
  }
 ],
 "metadata": {
  "kernelspec": {
   "display_name": "earth",
   "language": "python",
   "name": "python3"
  },
  "language_info": {
   "codemirror_mode": {
    "name": "ipython",
    "version": 3
   },
   "file_extension": ".py",
   "mimetype": "text/x-python",
   "name": "python",
   "nbconvert_exporter": "python",
   "pygments_lexer": "ipython3",
   "version": "3.13.7"
  }
 },
 "nbformat": 4,
 "nbformat_minor": 5
}
