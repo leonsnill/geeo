{
 "cells": [
  {
   "cell_type": "markdown",
   "id": "6c9e497b",
   "metadata": {},
   "source": [
    "# GEEO Tutorial 1 - Data Cube and Spatial Metadata\n",
    "\n",
    "[![Open in Colab](https://colab.research.google.com/assets/colab-badge.svg)](https://colab.research.google.com/github/leonsnill/geeo/blob/master/docs/tutorial_1_data-cube-and-spatial-metadata.ipynb)"
   ]
  },
  {
   "cell_type": "code",
   "execution_count": 1,
   "id": "92a1ace4",
   "metadata": {},
   "outputs": [
    {
     "name": "stderr",
     "output_type": "stream",
     "text": [
      "*** Earth Engine *** Share your feedback by taking our Annual Developer Satisfaction Survey: https://google.qualtrics.com/jfe/form/SV_7TDKVSyKvBdmMqW?ref=4i2o6\n"
     ]
    }
   ],
   "source": [
    "import ee\n",
    "ee.Authenticate()\n",
    "ee.Initialize()\n",
    "\n",
    "import geeo"
   ]
  },
  {
   "cell_type": "markdown",
   "id": "435cb583",
   "metadata": {},
   "source": [
    "<img src=\"../geeo/data/fig/datacube.svg\" style=\"width:50%;\">"
   ]
  },
  {
   "cell_type": "markdown",
   "id": "6e1eebb0",
   "metadata": {},
   "source": [
    "----"
   ]
  },
  {
   "cell_type": "markdown",
   "id": "cf06d00f",
   "metadata": {},
   "source": [
    "## Modified Global LANd Cover mapping and Estimation (GLANCE) Grids\n",
    "\n",
    "**Geeo contains a modified version of the Global LANd Cover mapping and Estimation (GLANCE) projection and tiling system** (https://github.com/measures-glance/glance-grids). \n",
    "GLANCE grids is a tile gridding system that uses Lambert Azimuthal Equal Area projections for different 'continents' to minimize distortion for each region. Originally, the grid system is based on a 30m pixel and with tiles that are 5000x5000 pixels in size, i.e. 150x150km tiles. Geeo allows to specify other tile sizes that all cover the common pixel sizes of medium resolution satellite data (10m, 20m, 30m). \n",
    "\n",
    "<div style=\"text-align:center;\">\n",
    "    <img src=\"../geeo/data/GLANCE-tiles/glance_continents_overview.png\" width=\"50%\"/>\n",
    "    <p><em>Figure: GLANCE grids overview (source: https://measures-glance.github.io/glance-grids/)</em></p>\n",
    "</div>\n"
   ]
  },
  {
   "cell_type": "markdown",
   "id": "5e97526f",
   "metadata": {},
   "source": [
    "Use `create_glance_tiles()` to create a new grid for a continent.\n",
    "The parameters of the function are:"
   ]
  },
  {
   "cell_type": "code",
   "execution_count": 2,
   "id": "50a5a97b",
   "metadata": {},
   "outputs": [
    {
     "name": "stdout",
     "output_type": "stream",
     "text": [
      "\u001b[0;31mSignature:\u001b[0m\n",
      "\u001b[0mgeeo\u001b[0m\u001b[0;34m.\u001b[0m\u001b[0mcreate_glance_tiles\u001b[0m\u001b[0;34m(\u001b[0m\u001b[0;34m\u001b[0m\n",
      "\u001b[0;34m\u001b[0m    \u001b[0mcontinent_code\u001b[0m\u001b[0;34m,\u001b[0m\u001b[0;34m\u001b[0m\n",
      "\u001b[0;34m\u001b[0m    \u001b[0mtile_size\u001b[0m\u001b[0;34m=\u001b[0m\u001b[0;36m150000\u001b[0m\u001b[0;34m,\u001b[0m\u001b[0;34m\u001b[0m\n",
      "\u001b[0;34m\u001b[0m    \u001b[0mvector_roi\u001b[0m\u001b[0;34m=\u001b[0m\u001b[0;32mNone\u001b[0m\u001b[0;34m,\u001b[0m\u001b[0;34m\u001b[0m\n",
      "\u001b[0;34m\u001b[0m    \u001b[0moutput_dir\u001b[0m\u001b[0;34m=\u001b[0m\u001b[0;32mNone\u001b[0m\u001b[0;34m,\u001b[0m\u001b[0;34m\u001b[0m\n",
      "\u001b[0;34m\u001b[0m    \u001b[0mzone_mask\u001b[0m\u001b[0;34m=\u001b[0m\u001b[0;32mFalse\u001b[0m\u001b[0;34m,\u001b[0m\u001b[0;34m\u001b[0m\n",
      "\u001b[0;34m\u001b[0m    \u001b[0mland_mask\u001b[0m\u001b[0;34m=\u001b[0m\u001b[0;32mFalse\u001b[0m\u001b[0;34m,\u001b[0m\u001b[0;34m\u001b[0m\n",
      "\u001b[0;34m\u001b[0m\u001b[0;34m)\u001b[0m\u001b[0;34m\u001b[0m\u001b[0;34m\u001b[0m\u001b[0m\n",
      "\u001b[0;31mDocstring:\u001b[0m\n",
      "Create grid GeoPackage files based on continent code and grid parameters with explicit ID naming.\n",
      "Optionally restrict the grid to land surfaces using a land mask.\n",
      "Parameters:\n",
      "- continent_code (str): The code of the continent for which to create the grid. Either AF, AN, AS, EU, OC, NA, SA or use \"ALL\" for all continents.\n",
      "- tile_size (int): The size of the main grid tile in meters. Must be one of [1200000, 600000, 300000, 150000, 75000, 30000].\n",
      "- vector_roi (str or GeoDataFrame): The shapefile path or GeoDataFrame to clip the grid with. Default is None.\n",
      "- output_dir (str): The directory to save the grid GeoPackage files. Default is None.\n",
      "- land_mask (bool): Whether to restrict the grid to land surfaces. Default is False (no masking).\n",
      "Returns:\n",
      "- GeoDataFrame: A GeoDataFrame containing the grid tiles with IDs for all valid tile sizes.\n",
      "Raises:\n",
      "- ValueError: If the tile_size is not one of the allowed sizes.\n",
      "\u001b[0;31mFile:\u001b[0m      ~/repos/geeo/geeo/misc/spacetime.py\n",
      "\u001b[0;31mType:\u001b[0m      function"
     ]
    }
   ],
   "source": [
    "?geeo.create_glance_tiles"
   ]
  },
  {
   "cell_type": "markdown",
   "id": "15467a46",
   "metadata": {},
   "source": [
    "The user defines the continent (AF, AN, AS, EU, OC, NA, SA) and desired tile size (1200000, 600000, 300000, 150000, 75000, 30000 km). Optionally, the user can specify a output directory to which the GeoDataFrame will be saved as GeoPackage (.gpkg) file. The user can futher specify a vector file to clip the resulting grid to and wether to filter the tiles to terrestrial surfaces (i.e., masking oceans and large lakes).\n",
    "\n",
    "To create a 150x150km grid for European landmasses:"
   ]
  },
  {
   "cell_type": "code",
   "execution_count": 3,
   "id": "a349a986",
   "metadata": {},
   "outputs": [
    {
     "name": "stdout",
     "output_type": "stream",
     "text": [
      "Filtering grid tiles using the land mask...\n"
     ]
    }
   ],
   "source": [
    "glance_eu = geeo.create_glance_tiles(continent_code='EU', tile_size=150000, land_mask=True)"
   ]
  },
  {
   "cell_type": "code",
   "execution_count": 4,
   "id": "f9ef6cd0",
   "metadata": {},
   "outputs": [
    {
     "data": {
      "application/vnd.jupyter.widget-view+json": {
       "model_id": "ddeda122b14b44fba2f4a1f3a8b41ebc",
       "version_major": 2,
       "version_minor": 0
      },
      "text/plain": [
       "Map(center=[49, 12], controls=(WidgetControl(options=['position', 'transparent_bg'], position='topright', tran…"
      ]
     },
     "execution_count": 4,
     "metadata": {},
     "output_type": "execute_result"
    }
   ],
   "source": [
    "import geemap\n",
    "\n",
    "M = geemap.Map(center=[49, 12], zoom=3)\n",
    "M.add_basemap('HYBRID')\n",
    "M.add_gdf(glance_eu, style={'color': 'orangered'}, layer_name=\"EU Glance\", zoom_to_layer=False)\n",
    "M"
   ]
  },
  {
   "cell_type": "markdown",
   "id": "1d2d19b5",
   "metadata": {},
   "source": [
    "**The resulting grid contains multiple attribute columns that encode the spatial X and Y position of the tile:**"
   ]
  },
  {
   "cell_type": "code",
   "execution_count": 5,
   "id": "bf5bf6c2",
   "metadata": {},
   "outputs": [
    {
     "data": {
      "text/html": [
       "\n",
       "            <style>\n",
       "                .geemap-dark {\n",
       "                    --jp-widgets-color: white;\n",
       "                    --jp-widgets-label-color: white;\n",
       "                    --jp-ui-font-color1: white;\n",
       "                    --jp-layout-color2: #454545;\n",
       "                    background-color: #383838;\n",
       "                }\n",
       "\n",
       "                .geemap-dark .jupyter-button {\n",
       "                    --jp-layout-color3: #383838;\n",
       "                }\n",
       "\n",
       "                .geemap-colab {\n",
       "                    background-color: var(--colab-primary-surface-color, white);\n",
       "                }\n",
       "\n",
       "                .geemap-colab .jupyter-button {\n",
       "                    --jp-layout-color3: var(--colab-primary-surface-color, white);\n",
       "                }\n",
       "            </style>\n",
       "            "
      ],
      "text/plain": [
       "<IPython.core.display.HTML object>"
      ]
     },
     "metadata": {},
     "output_type": "display_data"
    },
    {
     "data": {
      "text/html": [
       "<div>\n",
       "<style scoped>\n",
       "    .dataframe tbody tr th:only-of-type {\n",
       "        vertical-align: middle;\n",
       "    }\n",
       "\n",
       "    .dataframe tbody tr th {\n",
       "        vertical-align: top;\n",
       "    }\n",
       "\n",
       "    .dataframe thead th {\n",
       "        text-align: right;\n",
       "    }\n",
       "</style>\n",
       "<table border=\"1\" class=\"dataframe\">\n",
       "  <thead>\n",
       "    <tr style=\"text-align: right;\">\n",
       "      <th></th>\n",
       "      <th>geometry</th>\n",
       "      <th>ID1200</th>\n",
       "      <th>ID600</th>\n",
       "      <th>ID300</th>\n",
       "      <th>ID150</th>\n",
       "      <th>X1200</th>\n",
       "      <th>X600</th>\n",
       "      <th>X300</th>\n",
       "      <th>X150</th>\n",
       "      <th>Y1200</th>\n",
       "      <th>Y600</th>\n",
       "      <th>Y300</th>\n",
       "      <th>Y150</th>\n",
       "    </tr>\n",
       "  </thead>\n",
       "  <tbody>\n",
       "    <tr>\n",
       "      <th>197</th>\n",
       "      <td>POLYGON ((-255560 2746245, -255560 2896245, -1...</td>\n",
       "      <td>EU_1200-X004-Y000</td>\n",
       "      <td>EU_600-X008-Y000</td>\n",
       "      <td>EU_300-X017-Y001</td>\n",
       "      <td>EU_150-X035-Y003</td>\n",
       "      <td>4</td>\n",
       "      <td>8</td>\n",
       "      <td>17</td>\n",
       "      <td>35</td>\n",
       "      <td>0</td>\n",
       "      <td>0</td>\n",
       "      <td>1</td>\n",
       "      <td>3</td>\n",
       "    </tr>\n",
       "    <tr>\n",
       "      <th>198</th>\n",
       "      <td>POLYGON ((-105560 2746245, -105560 2896245, 44...</td>\n",
       "      <td>EU_1200-X004-Y000</td>\n",
       "      <td>EU_600-X009-Y000</td>\n",
       "      <td>EU_300-X018-Y001</td>\n",
       "      <td>EU_150-X036-Y003</td>\n",
       "      <td>4</td>\n",
       "      <td>9</td>\n",
       "      <td>18</td>\n",
       "      <td>36</td>\n",
       "      <td>0</td>\n",
       "      <td>0</td>\n",
       "      <td>1</td>\n",
       "      <td>3</td>\n",
       "    </tr>\n",
       "    <tr>\n",
       "      <th>199</th>\n",
       "      <td>POLYGON ((44440 2746245, 44440 2896245, 194440...</td>\n",
       "      <td>EU_1200-X004-Y000</td>\n",
       "      <td>EU_600-X009-Y000</td>\n",
       "      <td>EU_300-X018-Y001</td>\n",
       "      <td>EU_150-X037-Y003</td>\n",
       "      <td>4</td>\n",
       "      <td>9</td>\n",
       "      <td>18</td>\n",
       "      <td>37</td>\n",
       "      <td>0</td>\n",
       "      <td>0</td>\n",
       "      <td>1</td>\n",
       "      <td>3</td>\n",
       "    </tr>\n",
       "    <tr>\n",
       "      <th>200</th>\n",
       "      <td>POLYGON ((194440 2746245, 194440 2896245, 3444...</td>\n",
       "      <td>EU_1200-X004-Y000</td>\n",
       "      <td>EU_600-X009-Y000</td>\n",
       "      <td>EU_300-X019-Y001</td>\n",
       "      <td>EU_150-X038-Y003</td>\n",
       "      <td>4</td>\n",
       "      <td>9</td>\n",
       "      <td>19</td>\n",
       "      <td>38</td>\n",
       "      <td>0</td>\n",
       "      <td>0</td>\n",
       "      <td>1</td>\n",
       "      <td>3</td>\n",
       "    </tr>\n",
       "    <tr>\n",
       "      <th>251</th>\n",
       "      <td>POLYGON ((-255560 2596245, -255560 2746245, -1...</td>\n",
       "      <td>EU_1200-X004-Y000</td>\n",
       "      <td>EU_600-X008-Y001</td>\n",
       "      <td>EU_300-X017-Y002</td>\n",
       "      <td>EU_150-X035-Y004</td>\n",
       "      <td>4</td>\n",
       "      <td>8</td>\n",
       "      <td>17</td>\n",
       "      <td>35</td>\n",
       "      <td>0</td>\n",
       "      <td>1</td>\n",
       "      <td>2</td>\n",
       "      <td>4</td>\n",
       "    </tr>\n",
       "  </tbody>\n",
       "</table>\n",
       "</div>"
      ],
      "text/plain": [
       "                                              geometry             ID1200  \\\n",
       "197  POLYGON ((-255560 2746245, -255560 2896245, -1...  EU_1200-X004-Y000   \n",
       "198  POLYGON ((-105560 2746245, -105560 2896245, 44...  EU_1200-X004-Y000   \n",
       "199  POLYGON ((44440 2746245, 44440 2896245, 194440...  EU_1200-X004-Y000   \n",
       "200  POLYGON ((194440 2746245, 194440 2896245, 3444...  EU_1200-X004-Y000   \n",
       "251  POLYGON ((-255560 2596245, -255560 2746245, -1...  EU_1200-X004-Y000   \n",
       "\n",
       "                ID600             ID300             ID150  X1200  X600  X300  \\\n",
       "197  EU_600-X008-Y000  EU_300-X017-Y001  EU_150-X035-Y003      4     8    17   \n",
       "198  EU_600-X009-Y000  EU_300-X018-Y001  EU_150-X036-Y003      4     9    18   \n",
       "199  EU_600-X009-Y000  EU_300-X018-Y001  EU_150-X037-Y003      4     9    18   \n",
       "200  EU_600-X009-Y000  EU_300-X019-Y001  EU_150-X038-Y003      4     9    19   \n",
       "251  EU_600-X008-Y001  EU_300-X017-Y002  EU_150-X035-Y004      4     8    17   \n",
       "\n",
       "     X150  Y1200  Y600  Y300  Y150  \n",
       "197    35      0     0     1     3  \n",
       "198    36      0     0     1     3  \n",
       "199    37      0     0     1     3  \n",
       "200    38      0     0     1     3  \n",
       "251    35      0     1     2     4  "
      ]
     },
     "execution_count": 5,
     "metadata": {},
     "output_type": "execute_result"
    }
   ],
   "source": [
    "glance_eu.head()"
   ]
  },
  {
   "cell_type": "markdown",
   "id": "891ba457",
   "metadata": {},
   "source": [
    "The grid always contains the smallest tile scheme that the user requested and which defines the geometries of the tiles (here: `ID150`), as well as the larger schemes in which it is nested (here: `ID300`, `ID600`, `ID1200`). The X and Y position (e.g. `X035-Y003`) combined with the tile size information (e.g. `EU_150`) creates a unique and spatially explicit identifier (`EU_150-X035-Y003`).  "
   ]
  },
  {
   "cell_type": "markdown",
   "id": "8bc82335",
   "metadata": {},
   "source": [
    "## Running geeo processing for grid scheme"
   ]
  },
  {
   "cell_type": "markdown",
   "id": "e07bae51",
   "metadata": {},
   "source": [
    "Suppose we wanted to process some tiles of the EU Glance grid:"
   ]
  },
  {
   "cell_type": "code",
   "execution_count": 6,
   "id": "940fa276",
   "metadata": {},
   "outputs": [
    {
     "data": {
      "text/html": [
       "\n",
       "            <style>\n",
       "                .geemap-dark {\n",
       "                    --jp-widgets-color: white;\n",
       "                    --jp-widgets-label-color: white;\n",
       "                    --jp-ui-font-color1: white;\n",
       "                    --jp-layout-color2: #454545;\n",
       "                    background-color: #383838;\n",
       "                }\n",
       "\n",
       "                .geemap-dark .jupyter-button {\n",
       "                    --jp-layout-color3: #383838;\n",
       "                }\n",
       "\n",
       "                .geemap-colab {\n",
       "                    background-color: var(--colab-primary-surface-color, white);\n",
       "                }\n",
       "\n",
       "                .geemap-colab .jupyter-button {\n",
       "                    --jp-layout-color3: var(--colab-primary-surface-color, white);\n",
       "                }\n",
       "            </style>\n",
       "            "
      ],
      "text/plain": [
       "<IPython.core.display.HTML object>"
      ]
     },
     "metadata": {},
     "output_type": "display_data"
    }
   ],
   "source": [
    "tile_list_to_process = ['EU_150-X029-Y029', 'EU_150-X028-Y029', 'EU_150-X028-Y030', 'EU_150-X029-Y030']"
   ]
  },
  {
   "cell_type": "markdown",
   "id": "acae2de9",
   "metadata": {},
   "source": [
    "We simply specify our path to the vector file or the GeoDataFrame (only in interactive mode) while also setting `ROI_TILES: True`. Furthermore we have to specify the attribute column that contains a string name which will be appended to each output (here: `ID150`). Since we only want four tiles, we also specify the list of names found in `ROI_TILES_ATTRIBUTE_COLUMN` to `ROI_TILES_ATTRIBUTE_LIST`:"
   ]
  },
  {
   "cell_type": "code",
   "execution_count": 7,
   "id": "95a75e49",
   "metadata": {},
   "outputs": [
    {
     "data": {
      "text/html": [
       "\n",
       "            <style>\n",
       "                .geemap-dark {\n",
       "                    --jp-widgets-color: white;\n",
       "                    --jp-widgets-label-color: white;\n",
       "                    --jp-ui-font-color1: white;\n",
       "                    --jp-layout-color2: #454545;\n",
       "                    background-color: #383838;\n",
       "                }\n",
       "\n",
       "                .geemap-dark .jupyter-button {\n",
       "                    --jp-layout-color3: #383838;\n",
       "                }\n",
       "\n",
       "                .geemap-colab {\n",
       "                    background-color: var(--colab-primary-surface-color, white);\n",
       "                }\n",
       "\n",
       "                .geemap-colab .jupyter-button {\n",
       "                    --jp-layout-color3: var(--colab-primary-surface-color, white);\n",
       "                }\n",
       "            </style>\n",
       "            "
      ],
      "text/plain": [
       "<IPython.core.display.HTML object>"
      ]
     },
     "metadata": {},
     "output_type": "display_data"
    },
    {
     "name": "stdout",
     "output_type": "stream",
     "text": [
      "---------------------------------------------------------\n",
      "            USING ROI TILE PROCESSING MODE\n",
      "\n",
      "ROI_TILES: ROI contains 4 features.\n"
     ]
    },
    {
     "name": "stderr",
     "output_type": "stream",
     "text": [
      "100%|██████████| 4/4 [00:02<00:00,  1.94it/s]"
     ]
    },
    {
     "name": "stdout",
     "output_type": "stream",
     "text": [
      "---------------------------------------------------------\n"
     ]
    },
    {
     "name": "stderr",
     "output_type": "stream",
     "text": [
      "\n"
     ]
    }
   ],
   "source": [
    "prm = {\n",
    "    'ROI': glance_eu,\n",
    "    'ROI_TILES': True,\n",
    "    'ROI_TILES_ATTRIBUTE_COLUMN': 'ID150',\n",
    "    'ROI_TILES_ATTRIBUTE_LIST': tile_list_to_process,\n",
    "    'STM': ['p50'],\n",
    "    'EXPORT_IMAGE': False,\n",
    "    'EXPORT_STM': True,\n",
    "    'EXPORT_DESC': 'GRID_EXAMPLE'\n",
    "}\n",
    "run_prm = geeo.run_param(prm)"
   ]
  },
  {
   "cell_type": "code",
   "execution_count": 8,
   "id": "2dbf16b0",
   "metadata": {},
   "outputs": [
    {
     "data": {
      "text/html": [
       "\n",
       "            <style>\n",
       "                .geemap-dark {\n",
       "                    --jp-widgets-color: white;\n",
       "                    --jp-widgets-label-color: white;\n",
       "                    --jp-ui-font-color1: white;\n",
       "                    --jp-layout-color2: #454545;\n",
       "                    background-color: #383838;\n",
       "                }\n",
       "\n",
       "                .geemap-dark .jupyter-button {\n",
       "                    --jp-layout-color3: #383838;\n",
       "                }\n",
       "\n",
       "                .geemap-colab {\n",
       "                    background-color: var(--colab-primary-surface-color, white);\n",
       "                }\n",
       "\n",
       "                .geemap-colab .jupyter-button {\n",
       "                    --jp-layout-color3: var(--colab-primary-surface-color, white);\n",
       "                }\n",
       "            </style>\n",
       "            "
      ],
      "text/plain": [
       "<IPython.core.display.HTML object>"
      ]
     },
     "metadata": {},
     "output_type": "display_data"
    },
    {
     "data": {
      "text/plain": [
       "dict_keys(['EU_150-X028-Y029', 'EU_150-X029-Y029', 'EU_150-X028-Y030', 'EU_150-X029-Y030'])"
      ]
     },
     "execution_count": 8,
     "metadata": {},
     "output_type": "execute_result"
    }
   ],
   "source": [
    "run_prm.keys()"
   ]
  },
  {
   "cell_type": "markdown",
   "id": "261b1afe",
   "metadata": {},
   "source": [
    "#### Interactively in python"
   ]
  },
  {
   "cell_type": "markdown",
   "id": "703d83b8",
   "metadata": {},
   "source": []
  }
 ],
 "metadata": {
  "kernelspec": {
   "display_name": "geeo_env",
   "language": "python",
   "name": "python3"
  },
  "language_info": {
   "codemirror_mode": {
    "name": "ipython",
    "version": 3
   },
   "file_extension": ".py",
   "mimetype": "text/x-python",
   "name": "python",
   "nbconvert_exporter": "python",
   "pygments_lexer": "ipython3",
   "version": "3.11.9"
  }
 },
 "nbformat": 4,
 "nbformat_minor": 5
}
